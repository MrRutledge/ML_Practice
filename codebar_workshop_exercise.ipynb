{
  "nbformat": 4,
  "nbformat_minor": 0,
  "metadata": {
    "colab": {
      "provenance": [],
      "collapsed_sections": [
        "iE-ghUvQvk7y",
        "cK_RpyVP-TWZ"
      ],
      "include_colab_link": true
    },
    "kernelspec": {
      "name": "python3",
      "display_name": "Python 3"
    },
    "language_info": {
      "name": "python"
    },
    "gpuClass": "standard"
  },
  "cells": [
    {
      "cell_type": "markdown",
      "metadata": {
        "id": "view-in-github",
        "colab_type": "text"
      },
      "source": [
        "<a href=\"https://colab.research.google.com/github/MrRutledge/ML_Practice/blob/master/codebar_workshop_exercise.ipynb\" target=\"_parent\"><img src=\"https://colab.research.google.com/assets/colab-badge.svg\" alt=\"Open In Colab\"/></a>"
      ]
    },
    {
      "cell_type": "markdown",
      "source": [
        "# Code for Living (Python for Data Engineering)"
      ],
      "metadata": {
        "id": "NalAJsHGvWab"
      }
    },
    {
      "cell_type": "markdown",
      "source": [
        "## Intro\n",
        "We are currently in the midst of the worst cost of living crisis since the 1950s. Due to a combination of factors including the covid pandemic, the war in Ukraine, and political missteps, CPI inflation has increased from 0.7% to 11.1% in the last 2 years. Food, gas, and housing prices are soaring, with increases in homelessness and food-bank use being the inevitable result. \n",
        "\n",
        "The only solution to this crisis is a political one. But until that arrives, many of us are looking to any solution to reduce our personal cost of living in an effort to keep our heads above water. Today, we’re going to explore how we can use data engineering as part of this solution. "
      ],
      "metadata": {
        "id": "NDvGDvfJMZ7m"
      }
    },
    {
      "cell_type": "markdown",
      "source": [
        "In this session we’ll be taking a look at harnessing the power of data to aid decision making for things like groceries and everyday purchases. We’ll get hands on with sourcing and making sense of the data, and then using it to answer some interesting questions, using techniques from fields like optimisation and machine learning."
      ],
      "metadata": {
        "id": "JgRY-jJxvckc"
      }
    },
    {
      "cell_type": "markdown",
      "source": [
        "### Tasks:\n",
        "1. Find the cheapest supermarket for a given shopping basket\n",
        "2. Find out if you can save money by shopping at multiple stores.\n",
        "3. Use nutritional information to find healthy, cheap alternatives (Optional)\n",
        "4. Categorize the products and compare them using machine learning (Optional)"
      ],
      "metadata": {
        "id": "ivk62-P3NMYP"
      }
    },
    {
      "cell_type": "markdown",
      "source": [
        "### Before you start:\n",
        "Run the command below to download the data needed for this exercise. There should be three .csv files downloaded: \n",
        "\n",
        "*   products.csv\n",
        "*   prices.csv\n",
        "*   nutrition_small.csv.gz\n",
        "\n",
        "NOTE: A command is a way for users to send \n",
        "instructions to the computer for it to process. In this case, the command is asking the `git` tool to copy the files from this location in github into this notebook environment."
      ],
      "metadata": {
        "id": "1Ff1H7KJwXBd"
      }
    },
    {
      "cell_type": "code",
      "source": [
        "!git clone https://github.com/itsvipa/ctm-codebar-nov-22.git"
      ],
      "metadata": {
        "id": "eQTfIYOryNPj",
        "outputId": "ecd01088-1b5a-4f0b-9b5a-8db811a92859",
        "colab": {
          "base_uri": "https://localhost:8080/"
        }
      },
      "execution_count": 4,
      "outputs": [
        {
          "output_type": "stream",
          "name": "stdout",
          "text": [
            "Cloning into 'ctm-codebar-nov-22'...\n",
            "remote: Enumerating objects: 14, done.\u001b[K\n",
            "remote: Counting objects: 100% (14/14), done.\u001b[K\n",
            "remote: Compressing objects: 100% (13/13), done.\u001b[K\n",
            "remote: Total 14 (delta 2), reused 4 (delta 0), pack-reused 0\u001b[K\n",
            "Unpacking objects: 100% (14/14), done.\n"
          ]
        }
      ]
    },
    {
      "cell_type": "markdown",
      "source": [
        "## Task 1 - Find the cheapest supermarket for your groceries\n",
        "\n",
        "First, import pandas into your program:"
      ],
      "metadata": {
        "id": "iE-ghUvQvk7y"
      }
    },
    {
      "cell_type": "code",
      "source": [
        "import pandas as pd"
      ],
      "metadata": {
        "id": "0vST9NFmwH2X"
      },
      "execution_count": 5,
      "outputs": []
    },
    {
      "cell_type": "markdown",
      "source": [
        "Pandas is a python library that is used for data manipulation and analysis by data into DataFrames this data can be in the form of dictionaries, TSVs CSVs and more. More info on Pandas can be found at https://pandas.pydata.org/ and https://realpython.com/pandas-read-write-files/ \n",
        "\n",
        "\n",
        "For this exercise, we are going to use the following list of items - make sure to run the cell below and load them in!"
      ],
      "metadata": {
        "id": "4O8JTpymT-kU"
      }
    },
    {
      "cell_type": "code",
      "source": [
        "basket = [\n",
        "    [28798, \"Tetley Original Tea Bags x240\"], \n",
        "    [34398, \"Cravendale Whole Milk\"],\n",
        "    [30904, \"Kellogg's Rice Krispies\"],\n",
        "    [26457,\t\"Tropicana Pineapple Juice\"],\n",
        "    [28095, \"Diet Coke Bottles\"],\n",
        "    [33442, \"Loyd Grossman Tomato & Basil Pasta Sauce\"],\n",
        "    [27161,\t\"Strings & Things Cheestrings Cheese Snack\"],\n",
        "    [31863,\t\"Mars 4 pack Ice Cream Bars\"],\n",
        "    [32002,\t\"Tilda Microwave Coconut Basmati Rice\"],\n",
        "    [86547,\t\"Knorr Chicken Stock Pot 4 Pack\"],\n",
        "    [84095,\t\"Arla skyr Fat Free Natural Yogurt\"],\n",
        "    [33255,\t\"Alpro Almond Long Life Drink\"],\n",
        "    [43809,\t\"Energizer Max 9V Batteries\"],\n",
        "    [25828,\t\"Robinsons Crushed Lime & Mint Fruit Cordial\"],\n",
        "    [32248,\t\"Sensations Balsamic Vinegar & Caramelised Onion Sharing Crisps\"],\n",
        "    [47361,\t\"Lynx Africa Body Spray Deodorant Aerosol\"],\n",
        "    [32774,\t\"Heinz Spaghetti\"],\n",
        "    [92101,\t\"Chicago Town Cheese Pizza Tomato Stuffed Crust Takeaway\"],\n",
        "    [110105, \"McCain Home Chips Straight\"],\n",
        "    [44797,\t\"Fairy Original Washing Up Liquid\"],\n",
        "    [40915, \"Fairy Non Bio Washing Liquid for Sensitive Skin 1.33L 38 Washes\"],\n",
        "    [24091,\t\"Nissin Soba Yakitori Noodles\"],\n",
        "    [42002,\t\"Yakult Yogurt Drink\"],\t\n",
        "    [83092,\t\"Jammie Dodgers\"],\n",
        "    [20272,\t\"Quorn Vegan Chicken Free Slices 100G\"],\t\n",
        "    [33492,\t\"Linda McCartney's Mozzarella Quarter Pounder Burger\"],\n",
        "    [51657,\t\"Purina ONE Adult Dry Cat Food Chicken & Wholegrains\"],\n",
        "    [24341,\t\"Birds Eye 4 Original Beef Burgers With Onions\"],\n",
        "    [109986, \"Cathedral City Lighter Mature Cheese\"],\n",
        "    [27526,\t\"Filippo Berio Mild & Light Olive Oil\"],\n",
        "    [45238, \"Bfree Pitta Breads Stone Baked Pittas\"]\n",
        "    ]\n",
        "\n",
        "print(len(basket))"
      ],
      "metadata": {
        "id": "bM1jXslF--ie",
        "outputId": "381fc8c0-bad6-4419-c36a-0f3977ae4808",
        "colab": {
          "base_uri": "https://localhost:8080/"
        }
      },
      "execution_count": 2,
      "outputs": [
        {
          "output_type": "stream",
          "name": "stdout",
          "text": [
            "31\n"
          ]
        }
      ]
    },
    {
      "cell_type": "markdown",
      "source": [
        "### Load the data \n",
        "\n",
        "The first step to finding the cheapest supermarket is to create two DataFrames for the product and price.\n",
        "\n",
        "`product.csv` is list of all the products we found on https://priceable.co.uk/, and should contain information on the product name, the quantity, the product id etc\n",
        "\n",
        "`price.csv` is a list of the prices of the products above at different supermarkets, from the same website, and should contain infomation on the product price, the supermarket name, the product name etc\n",
        "\n",
        "A pandas DataFrame is a nice easy way of storing table data in Python.\n",
        "\n",
        "Using the `pd.read_csv` method will take a csv and put it into a pandas DataFrame for us to use.\n",
        "\n"
      ],
      "metadata": {
        "id": "x-hRRrd1UCUb"
      }
    },
    {
      "cell_type": "code",
      "source": [
        "product_df = pd.read_csv(\"/content/ctm-codebar-nov-22/products.csv\")\n",
        "price_df = pd.read_csv(\"/content/ctm-codebar-nov-22/prices.csv\")"
      ],
      "metadata": {
        "id": "0NAOcdiTQZ9M"
      },
      "execution_count": 6,
      "outputs": []
    },
    {
      "cell_type": "markdown",
      "source": [
        "To show what the DataFrame actually looks like, we can just call the dataframe, like below"
      ],
      "metadata": {
        "id": "MntNAmXAULn_"
      }
    },
    {
      "cell_type": "code",
      "source": [
        "product_df"
      ],
      "metadata": {
        "id": "Tu-tMTxjQoEt",
        "outputId": "0645c0f2-e863-4a34-8c35-6598525c9e8f",
        "colab": {
          "base_uri": "https://localhost:8080/",
          "height": 423
        }
      },
      "execution_count": 7,
      "outputs": [
        {
          "output_type": "execute_result",
          "data": {
            "text/plain": [
              "           id                                               name  \\\n",
              "0       20100                              Lucozade Sport Orange   \n",
              "1       20101                                 Red Bull Sugarfree   \n",
              "2       20102  All Shook Up Spritz Pink Grapefruit & Lavender...   \n",
              "3       20103                              Gatorade Orange 500ml   \n",
              "4       20104             Purdeys Rejuvenation Fruit Drink 330Ml   \n",
              "...       ...                                                ...   \n",
              "81665  149214                  TRIP CBD Infused Elderflower Mint   \n",
              "81666  149215                       TRIP CBD Infused Lemon Basil   \n",
              "81667  149216                      TRIP CBD Infused Peach Ginger   \n",
              "81668  149596                      Smirnoff Red Label Vodka 35cl   \n",
              "81669  149690             Dash Detangling Panda Animal Hairbrush   \n",
              "\n",
              "       measure_quantity measure_amount measure_unit  \\\n",
              "0                   NaN            750           ml   \n",
              "1                   NaN            473           ml   \n",
              "2                   NaN            NaN          NaN   \n",
              "3                   NaN            NaN          NaN   \n",
              "4                   NaN            330           ml   \n",
              "...                 ...            ...          ...   \n",
              "81665               NaN            250           ml   \n",
              "81666               NaN            250           ml   \n",
              "81667               NaN            250           ml   \n",
              "81668               NaN            350           ml   \n",
              "81669               NaN            NaN          NaN   \n",
              "\n",
              "                                                    skus  price_count  \n",
              "0             ['302012236', '50368011', '1000273982470']            1  \n",
              "1                  ['298026024', '7922076', '576040011']            3  \n",
              "2                                          ['305986034']            0  \n",
              "3                               ['287043066', '8008530']            0  \n",
              "4      ['272855015', '7720116', '14533011', '34395901...            3  \n",
              "...                                                  ...          ...  \n",
              "81665                           ['8040121', '563191011']            2  \n",
              "81666                           ['8040125', '563190011']            2  \n",
              "81667                           ['8040137', '563192011']            2  \n",
              "81668              ['256554689', '2412368', '119513011']            2  \n",
              "81669                                      ['299296554']            1  \n",
              "\n",
              "[81670 rows x 7 columns]"
            ],
            "text/html": [
              "\n",
              "  <div id=\"df-69bf2404-0831-40b3-9b85-2149f41b830d\">\n",
              "    <div class=\"colab-df-container\">\n",
              "      <div>\n",
              "<style scoped>\n",
              "    .dataframe tbody tr th:only-of-type {\n",
              "        vertical-align: middle;\n",
              "    }\n",
              "\n",
              "    .dataframe tbody tr th {\n",
              "        vertical-align: top;\n",
              "    }\n",
              "\n",
              "    .dataframe thead th {\n",
              "        text-align: right;\n",
              "    }\n",
              "</style>\n",
              "<table border=\"1\" class=\"dataframe\">\n",
              "  <thead>\n",
              "    <tr style=\"text-align: right;\">\n",
              "      <th></th>\n",
              "      <th>id</th>\n",
              "      <th>name</th>\n",
              "      <th>measure_quantity</th>\n",
              "      <th>measure_amount</th>\n",
              "      <th>measure_unit</th>\n",
              "      <th>skus</th>\n",
              "      <th>price_count</th>\n",
              "    </tr>\n",
              "  </thead>\n",
              "  <tbody>\n",
              "    <tr>\n",
              "      <th>0</th>\n",
              "      <td>20100</td>\n",
              "      <td>Lucozade Sport Orange</td>\n",
              "      <td>NaN</td>\n",
              "      <td>750</td>\n",
              "      <td>ml</td>\n",
              "      <td>['302012236', '50368011', '1000273982470']</td>\n",
              "      <td>1</td>\n",
              "    </tr>\n",
              "    <tr>\n",
              "      <th>1</th>\n",
              "      <td>20101</td>\n",
              "      <td>Red Bull Sugarfree</td>\n",
              "      <td>NaN</td>\n",
              "      <td>473</td>\n",
              "      <td>ml</td>\n",
              "      <td>['298026024', '7922076', '576040011']</td>\n",
              "      <td>3</td>\n",
              "    </tr>\n",
              "    <tr>\n",
              "      <th>2</th>\n",
              "      <td>20102</td>\n",
              "      <td>All Shook Up Spritz Pink Grapefruit &amp; Lavender...</td>\n",
              "      <td>NaN</td>\n",
              "      <td>NaN</td>\n",
              "      <td>NaN</td>\n",
              "      <td>['305986034']</td>\n",
              "      <td>0</td>\n",
              "    </tr>\n",
              "    <tr>\n",
              "      <th>3</th>\n",
              "      <td>20103</td>\n",
              "      <td>Gatorade Orange 500ml</td>\n",
              "      <td>NaN</td>\n",
              "      <td>NaN</td>\n",
              "      <td>NaN</td>\n",
              "      <td>['287043066', '8008530']</td>\n",
              "      <td>0</td>\n",
              "    </tr>\n",
              "    <tr>\n",
              "      <th>4</th>\n",
              "      <td>20104</td>\n",
              "      <td>Purdeys Rejuvenation Fruit Drink 330Ml</td>\n",
              "      <td>NaN</td>\n",
              "      <td>330</td>\n",
              "      <td>ml</td>\n",
              "      <td>['272855015', '7720116', '14533011', '34395901...</td>\n",
              "      <td>3</td>\n",
              "    </tr>\n",
              "    <tr>\n",
              "      <th>...</th>\n",
              "      <td>...</td>\n",
              "      <td>...</td>\n",
              "      <td>...</td>\n",
              "      <td>...</td>\n",
              "      <td>...</td>\n",
              "      <td>...</td>\n",
              "      <td>...</td>\n",
              "    </tr>\n",
              "    <tr>\n",
              "      <th>81665</th>\n",
              "      <td>149214</td>\n",
              "      <td>TRIP CBD Infused Elderflower Mint</td>\n",
              "      <td>NaN</td>\n",
              "      <td>250</td>\n",
              "      <td>ml</td>\n",
              "      <td>['8040121', '563191011']</td>\n",
              "      <td>2</td>\n",
              "    </tr>\n",
              "    <tr>\n",
              "      <th>81666</th>\n",
              "      <td>149215</td>\n",
              "      <td>TRIP CBD Infused Lemon Basil</td>\n",
              "      <td>NaN</td>\n",
              "      <td>250</td>\n",
              "      <td>ml</td>\n",
              "      <td>['8040125', '563190011']</td>\n",
              "      <td>2</td>\n",
              "    </tr>\n",
              "    <tr>\n",
              "      <th>81667</th>\n",
              "      <td>149216</td>\n",
              "      <td>TRIP CBD Infused Peach Ginger</td>\n",
              "      <td>NaN</td>\n",
              "      <td>250</td>\n",
              "      <td>ml</td>\n",
              "      <td>['8040137', '563192011']</td>\n",
              "      <td>2</td>\n",
              "    </tr>\n",
              "    <tr>\n",
              "      <th>81668</th>\n",
              "      <td>149596</td>\n",
              "      <td>Smirnoff Red Label Vodka 35cl</td>\n",
              "      <td>NaN</td>\n",
              "      <td>350</td>\n",
              "      <td>ml</td>\n",
              "      <td>['256554689', '2412368', '119513011']</td>\n",
              "      <td>2</td>\n",
              "    </tr>\n",
              "    <tr>\n",
              "      <th>81669</th>\n",
              "      <td>149690</td>\n",
              "      <td>Dash Detangling Panda Animal Hairbrush</td>\n",
              "      <td>NaN</td>\n",
              "      <td>NaN</td>\n",
              "      <td>NaN</td>\n",
              "      <td>['299296554']</td>\n",
              "      <td>1</td>\n",
              "    </tr>\n",
              "  </tbody>\n",
              "</table>\n",
              "<p>81670 rows × 7 columns</p>\n",
              "</div>\n",
              "      <button class=\"colab-df-convert\" onclick=\"convertToInteractive('df-69bf2404-0831-40b3-9b85-2149f41b830d')\"\n",
              "              title=\"Convert this dataframe to an interactive table.\"\n",
              "              style=\"display:none;\">\n",
              "        \n",
              "  <svg xmlns=\"http://www.w3.org/2000/svg\" height=\"24px\"viewBox=\"0 0 24 24\"\n",
              "       width=\"24px\">\n",
              "    <path d=\"M0 0h24v24H0V0z\" fill=\"none\"/>\n",
              "    <path d=\"M18.56 5.44l.94 2.06.94-2.06 2.06-.94-2.06-.94-.94-2.06-.94 2.06-2.06.94zm-11 1L8.5 8.5l.94-2.06 2.06-.94-2.06-.94L8.5 2.5l-.94 2.06-2.06.94zm10 10l.94 2.06.94-2.06 2.06-.94-2.06-.94-.94-2.06-.94 2.06-2.06.94z\"/><path d=\"M17.41 7.96l-1.37-1.37c-.4-.4-.92-.59-1.43-.59-.52 0-1.04.2-1.43.59L10.3 9.45l-7.72 7.72c-.78.78-.78 2.05 0 2.83L4 21.41c.39.39.9.59 1.41.59.51 0 1.02-.2 1.41-.59l7.78-7.78 2.81-2.81c.8-.78.8-2.07 0-2.86zM5.41 20L4 18.59l7.72-7.72 1.47 1.35L5.41 20z\"/>\n",
              "  </svg>\n",
              "      </button>\n",
              "      \n",
              "  <style>\n",
              "    .colab-df-container {\n",
              "      display:flex;\n",
              "      flex-wrap:wrap;\n",
              "      gap: 12px;\n",
              "    }\n",
              "\n",
              "    .colab-df-convert {\n",
              "      background-color: #E8F0FE;\n",
              "      border: none;\n",
              "      border-radius: 50%;\n",
              "      cursor: pointer;\n",
              "      display: none;\n",
              "      fill: #1967D2;\n",
              "      height: 32px;\n",
              "      padding: 0 0 0 0;\n",
              "      width: 32px;\n",
              "    }\n",
              "\n",
              "    .colab-df-convert:hover {\n",
              "      background-color: #E2EBFA;\n",
              "      box-shadow: 0px 1px 2px rgba(60, 64, 67, 0.3), 0px 1px 3px 1px rgba(60, 64, 67, 0.15);\n",
              "      fill: #174EA6;\n",
              "    }\n",
              "\n",
              "    [theme=dark] .colab-df-convert {\n",
              "      background-color: #3B4455;\n",
              "      fill: #D2E3FC;\n",
              "    }\n",
              "\n",
              "    [theme=dark] .colab-df-convert:hover {\n",
              "      background-color: #434B5C;\n",
              "      box-shadow: 0px 1px 3px 1px rgba(0, 0, 0, 0.15);\n",
              "      filter: drop-shadow(0px 1px 2px rgba(0, 0, 0, 0.3));\n",
              "      fill: #FFFFFF;\n",
              "    }\n",
              "  </style>\n",
              "\n",
              "      <script>\n",
              "        const buttonEl =\n",
              "          document.querySelector('#df-69bf2404-0831-40b3-9b85-2149f41b830d button.colab-df-convert');\n",
              "        buttonEl.style.display =\n",
              "          google.colab.kernel.accessAllowed ? 'block' : 'none';\n",
              "\n",
              "        async function convertToInteractive(key) {\n",
              "          const element = document.querySelector('#df-69bf2404-0831-40b3-9b85-2149f41b830d');\n",
              "          const dataTable =\n",
              "            await google.colab.kernel.invokeFunction('convertToInteractive',\n",
              "                                                     [key], {});\n",
              "          if (!dataTable) return;\n",
              "\n",
              "          const docLinkHtml = 'Like what you see? Visit the ' +\n",
              "            '<a target=\"_blank\" href=https://colab.research.google.com/notebooks/data_table.ipynb>data table notebook</a>'\n",
              "            + ' to learn more about interactive tables.';\n",
              "          element.innerHTML = '';\n",
              "          dataTable['output_type'] = 'display_data';\n",
              "          await google.colab.output.renderOutput(dataTable, element);\n",
              "          const docLink = document.createElement('div');\n",
              "          docLink.innerHTML = docLinkHtml;\n",
              "          element.appendChild(docLink);\n",
              "        }\n",
              "      </script>\n",
              "    </div>\n",
              "  </div>\n",
              "  "
            ]
          },
          "metadata": {},
          "execution_count": 7
        }
      ]
    },
    {
      "cell_type": "markdown",
      "source": [
        "Try and call the price_df DataFrame and have a look at some of the data. Can you see any similaries between the two?"
      ],
      "metadata": {
        "id": "GfUZA_lMUQka"
      }
    },
    {
      "cell_type": "code",
      "source": [
        "#call the price_df\n",
        "price_df"
      ],
      "metadata": {
        "id": "vgMIdVt5Qryo",
        "outputId": "90a23d11-1230-4ae7-a793-cdb8b56a7368",
        "colab": {
          "base_uri": "https://localhost:8080/",
          "height": 423
        }
      },
      "execution_count": 9,
      "outputs": [
        {
          "output_type": "execute_result",
          "data": {
            "text/plain": [
              "           id                                    name    retailer available  \\\n",
              "0       20100                   Lucozade Sport Orange        asda      True   \n",
              "1       20101                      Red Bull Sugarfree   morrisons      True   \n",
              "2       20101                      Red Bull Sugarfree  sainsburys      True   \n",
              "3       20101                      Red Bull Sugarfree       tesco     False   \n",
              "4       20104  Purdeys Rejuvenation Fruit Drink 330Ml  sainsburys      True   \n",
              "...       ...                                     ...         ...       ...   \n",
              "94855  149216           TRIP CBD Infused Peach Ginger       ocado      True   \n",
              "94856  149216           TRIP CBD Infused Peach Ginger  sainsburys      True   \n",
              "94857  149596           Smirnoff Red Label Vodka 35cl       tesco      True   \n",
              "94858  149596           Smirnoff Red Label Vodka 35cl  sainsburys      True   \n",
              "94859  149690  Dash Detangling Panda Animal Hairbrush       tesco      True   \n",
              "\n",
              "       price  price_per_unit  price_unit_amount price_unit  \\\n",
              "0       1.25            0.17              100.0         ml   \n",
              "1       2.30            0.49              100.0         ml   \n",
              "2       2.30            0.49              100.0         ml   \n",
              "3       3.40            0.49              100.0         ml   \n",
              "4       1.40            0.42              100.0         ml   \n",
              "...      ...             ...                ...        ...   \n",
              "94855   2.00            0.80              100.0         ml   \n",
              "94856   2.00            0.80              100.0         ml   \n",
              "94857  10.00            2.86              100.0         ml   \n",
              "94858  10.50            3.00              100.0         ml   \n",
              "94859   6.50            6.50                1.0       each   \n",
              "\n",
              "                     crawl_date  \n",
              "0      2022-10-26T15:00:00.000Z  \n",
              "1      2022-10-26T18:00:00.000Z  \n",
              "2      2022-10-26T11:00:00.000Z  \n",
              "3      2022-10-26T14:00:00.000Z  \n",
              "4      2022-10-26T12:00:00.000Z  \n",
              "...                         ...  \n",
              "94855  2022-10-26T14:00:00.000Z  \n",
              "94856  2022-10-26T12:00:00.000Z  \n",
              "94857  2022-10-26T10:00:00.000Z  \n",
              "94858  2022-10-26T11:00:00.000Z  \n",
              "94859  2022-10-26T10:00:00.000Z  \n",
              "\n",
              "[94860 rows x 9 columns]"
            ],
            "text/html": [
              "\n",
              "  <div id=\"df-270c680d-8156-41f5-8635-97d599122daf\">\n",
              "    <div class=\"colab-df-container\">\n",
              "      <div>\n",
              "<style scoped>\n",
              "    .dataframe tbody tr th:only-of-type {\n",
              "        vertical-align: middle;\n",
              "    }\n",
              "\n",
              "    .dataframe tbody tr th {\n",
              "        vertical-align: top;\n",
              "    }\n",
              "\n",
              "    .dataframe thead th {\n",
              "        text-align: right;\n",
              "    }\n",
              "</style>\n",
              "<table border=\"1\" class=\"dataframe\">\n",
              "  <thead>\n",
              "    <tr style=\"text-align: right;\">\n",
              "      <th></th>\n",
              "      <th>id</th>\n",
              "      <th>name</th>\n",
              "      <th>retailer</th>\n",
              "      <th>available</th>\n",
              "      <th>price</th>\n",
              "      <th>price_per_unit</th>\n",
              "      <th>price_unit_amount</th>\n",
              "      <th>price_unit</th>\n",
              "      <th>crawl_date</th>\n",
              "    </tr>\n",
              "  </thead>\n",
              "  <tbody>\n",
              "    <tr>\n",
              "      <th>0</th>\n",
              "      <td>20100</td>\n",
              "      <td>Lucozade Sport Orange</td>\n",
              "      <td>asda</td>\n",
              "      <td>True</td>\n",
              "      <td>1.25</td>\n",
              "      <td>0.17</td>\n",
              "      <td>100.0</td>\n",
              "      <td>ml</td>\n",
              "      <td>2022-10-26T15:00:00.000Z</td>\n",
              "    </tr>\n",
              "    <tr>\n",
              "      <th>1</th>\n",
              "      <td>20101</td>\n",
              "      <td>Red Bull Sugarfree</td>\n",
              "      <td>morrisons</td>\n",
              "      <td>True</td>\n",
              "      <td>2.30</td>\n",
              "      <td>0.49</td>\n",
              "      <td>100.0</td>\n",
              "      <td>ml</td>\n",
              "      <td>2022-10-26T18:00:00.000Z</td>\n",
              "    </tr>\n",
              "    <tr>\n",
              "      <th>2</th>\n",
              "      <td>20101</td>\n",
              "      <td>Red Bull Sugarfree</td>\n",
              "      <td>sainsburys</td>\n",
              "      <td>True</td>\n",
              "      <td>2.30</td>\n",
              "      <td>0.49</td>\n",
              "      <td>100.0</td>\n",
              "      <td>ml</td>\n",
              "      <td>2022-10-26T11:00:00.000Z</td>\n",
              "    </tr>\n",
              "    <tr>\n",
              "      <th>3</th>\n",
              "      <td>20101</td>\n",
              "      <td>Red Bull Sugarfree</td>\n",
              "      <td>tesco</td>\n",
              "      <td>False</td>\n",
              "      <td>3.40</td>\n",
              "      <td>0.49</td>\n",
              "      <td>100.0</td>\n",
              "      <td>ml</td>\n",
              "      <td>2022-10-26T14:00:00.000Z</td>\n",
              "    </tr>\n",
              "    <tr>\n",
              "      <th>4</th>\n",
              "      <td>20104</td>\n",
              "      <td>Purdeys Rejuvenation Fruit Drink 330Ml</td>\n",
              "      <td>sainsburys</td>\n",
              "      <td>True</td>\n",
              "      <td>1.40</td>\n",
              "      <td>0.42</td>\n",
              "      <td>100.0</td>\n",
              "      <td>ml</td>\n",
              "      <td>2022-10-26T12:00:00.000Z</td>\n",
              "    </tr>\n",
              "    <tr>\n",
              "      <th>...</th>\n",
              "      <td>...</td>\n",
              "      <td>...</td>\n",
              "      <td>...</td>\n",
              "      <td>...</td>\n",
              "      <td>...</td>\n",
              "      <td>...</td>\n",
              "      <td>...</td>\n",
              "      <td>...</td>\n",
              "      <td>...</td>\n",
              "    </tr>\n",
              "    <tr>\n",
              "      <th>94855</th>\n",
              "      <td>149216</td>\n",
              "      <td>TRIP CBD Infused Peach Ginger</td>\n",
              "      <td>ocado</td>\n",
              "      <td>True</td>\n",
              "      <td>2.00</td>\n",
              "      <td>0.80</td>\n",
              "      <td>100.0</td>\n",
              "      <td>ml</td>\n",
              "      <td>2022-10-26T14:00:00.000Z</td>\n",
              "    </tr>\n",
              "    <tr>\n",
              "      <th>94856</th>\n",
              "      <td>149216</td>\n",
              "      <td>TRIP CBD Infused Peach Ginger</td>\n",
              "      <td>sainsburys</td>\n",
              "      <td>True</td>\n",
              "      <td>2.00</td>\n",
              "      <td>0.80</td>\n",
              "      <td>100.0</td>\n",
              "      <td>ml</td>\n",
              "      <td>2022-10-26T12:00:00.000Z</td>\n",
              "    </tr>\n",
              "    <tr>\n",
              "      <th>94857</th>\n",
              "      <td>149596</td>\n",
              "      <td>Smirnoff Red Label Vodka 35cl</td>\n",
              "      <td>tesco</td>\n",
              "      <td>True</td>\n",
              "      <td>10.00</td>\n",
              "      <td>2.86</td>\n",
              "      <td>100.0</td>\n",
              "      <td>ml</td>\n",
              "      <td>2022-10-26T10:00:00.000Z</td>\n",
              "    </tr>\n",
              "    <tr>\n",
              "      <th>94858</th>\n",
              "      <td>149596</td>\n",
              "      <td>Smirnoff Red Label Vodka 35cl</td>\n",
              "      <td>sainsburys</td>\n",
              "      <td>True</td>\n",
              "      <td>10.50</td>\n",
              "      <td>3.00</td>\n",
              "      <td>100.0</td>\n",
              "      <td>ml</td>\n",
              "      <td>2022-10-26T11:00:00.000Z</td>\n",
              "    </tr>\n",
              "    <tr>\n",
              "      <th>94859</th>\n",
              "      <td>149690</td>\n",
              "      <td>Dash Detangling Panda Animal Hairbrush</td>\n",
              "      <td>tesco</td>\n",
              "      <td>True</td>\n",
              "      <td>6.50</td>\n",
              "      <td>6.50</td>\n",
              "      <td>1.0</td>\n",
              "      <td>each</td>\n",
              "      <td>2022-10-26T10:00:00.000Z</td>\n",
              "    </tr>\n",
              "  </tbody>\n",
              "</table>\n",
              "<p>94860 rows × 9 columns</p>\n",
              "</div>\n",
              "      <button class=\"colab-df-convert\" onclick=\"convertToInteractive('df-270c680d-8156-41f5-8635-97d599122daf')\"\n",
              "              title=\"Convert this dataframe to an interactive table.\"\n",
              "              style=\"display:none;\">\n",
              "        \n",
              "  <svg xmlns=\"http://www.w3.org/2000/svg\" height=\"24px\"viewBox=\"0 0 24 24\"\n",
              "       width=\"24px\">\n",
              "    <path d=\"M0 0h24v24H0V0z\" fill=\"none\"/>\n",
              "    <path d=\"M18.56 5.44l.94 2.06.94-2.06 2.06-.94-2.06-.94-.94-2.06-.94 2.06-2.06.94zm-11 1L8.5 8.5l.94-2.06 2.06-.94-2.06-.94L8.5 2.5l-.94 2.06-2.06.94zm10 10l.94 2.06.94-2.06 2.06-.94-2.06-.94-.94-2.06-.94 2.06-2.06.94z\"/><path d=\"M17.41 7.96l-1.37-1.37c-.4-.4-.92-.59-1.43-.59-.52 0-1.04.2-1.43.59L10.3 9.45l-7.72 7.72c-.78.78-.78 2.05 0 2.83L4 21.41c.39.39.9.59 1.41.59.51 0 1.02-.2 1.41-.59l7.78-7.78 2.81-2.81c.8-.78.8-2.07 0-2.86zM5.41 20L4 18.59l7.72-7.72 1.47 1.35L5.41 20z\"/>\n",
              "  </svg>\n",
              "      </button>\n",
              "      \n",
              "  <style>\n",
              "    .colab-df-container {\n",
              "      display:flex;\n",
              "      flex-wrap:wrap;\n",
              "      gap: 12px;\n",
              "    }\n",
              "\n",
              "    .colab-df-convert {\n",
              "      background-color: #E8F0FE;\n",
              "      border: none;\n",
              "      border-radius: 50%;\n",
              "      cursor: pointer;\n",
              "      display: none;\n",
              "      fill: #1967D2;\n",
              "      height: 32px;\n",
              "      padding: 0 0 0 0;\n",
              "      width: 32px;\n",
              "    }\n",
              "\n",
              "    .colab-df-convert:hover {\n",
              "      background-color: #E2EBFA;\n",
              "      box-shadow: 0px 1px 2px rgba(60, 64, 67, 0.3), 0px 1px 3px 1px rgba(60, 64, 67, 0.15);\n",
              "      fill: #174EA6;\n",
              "    }\n",
              "\n",
              "    [theme=dark] .colab-df-convert {\n",
              "      background-color: #3B4455;\n",
              "      fill: #D2E3FC;\n",
              "    }\n",
              "\n",
              "    [theme=dark] .colab-df-convert:hover {\n",
              "      background-color: #434B5C;\n",
              "      box-shadow: 0px 1px 3px 1px rgba(0, 0, 0, 0.15);\n",
              "      filter: drop-shadow(0px 1px 2px rgba(0, 0, 0, 0.3));\n",
              "      fill: #FFFFFF;\n",
              "    }\n",
              "  </style>\n",
              "\n",
              "      <script>\n",
              "        const buttonEl =\n",
              "          document.querySelector('#df-270c680d-8156-41f5-8635-97d599122daf button.colab-df-convert');\n",
              "        buttonEl.style.display =\n",
              "          google.colab.kernel.accessAllowed ? 'block' : 'none';\n",
              "\n",
              "        async function convertToInteractive(key) {\n",
              "          const element = document.querySelector('#df-270c680d-8156-41f5-8635-97d599122daf');\n",
              "          const dataTable =\n",
              "            await google.colab.kernel.invokeFunction('convertToInteractive',\n",
              "                                                     [key], {});\n",
              "          if (!dataTable) return;\n",
              "\n",
              "          const docLinkHtml = 'Like what you see? Visit the ' +\n",
              "            '<a target=\"_blank\" href=https://colab.research.google.com/notebooks/data_table.ipynb>data table notebook</a>'\n",
              "            + ' to learn more about interactive tables.';\n",
              "          element.innerHTML = '';\n",
              "          dataTable['output_type'] = 'display_data';\n",
              "          await google.colab.output.renderOutput(dataTable, element);\n",
              "          const docLink = document.createElement('div');\n",
              "          docLink.innerHTML = docLinkHtml;\n",
              "          element.appendChild(docLink);\n",
              "        }\n",
              "      </script>\n",
              "    </div>\n",
              "  </div>\n",
              "  "
            ]
          },
          "metadata": {},
          "execution_count": 9
        }
      ]
    },
    {
      "cell_type": "markdown",
      "source": [
        "### Get the basket ids\n",
        "\n",
        "The `id` column for both prices and product represent the same ids. This means that the ids can be used to both find the products in the product dataset, and their price, within the price dataset. To do this, first a list of the ids for the basket is needed."
      ],
      "metadata": {
        "id": "0WXQuyV0UTBG"
      }
    },
    {
      "cell_type": "markdown",
      "source": [
        "Using a for loop, get a list of the product ids from the basket object"
      ],
      "metadata": {
        "id": "pAgWjrTlUbln"
      }
    },
    {
      "cell_type": "code",
      "source": [
        "# Create a list of the basket ids\n",
        "basket_ids = [item[0] for item in basket]"
      ],
      "metadata": {
        "id": "Q1k1V2Y9oDt2"
      },
      "execution_count": 10,
      "outputs": []
    },
    {
      "cell_type": "markdown",
      "source": [
        "Return the basket ids to check that the list is correct"
      ],
      "metadata": {
        "id": "ord61elDUliR"
      }
    },
    {
      "cell_type": "code",
      "source": [
        "# Return the list of basket ids\n",
        "basket_ids"
      ],
      "metadata": {
        "id": "8otiQxrgUmz_",
        "outputId": "93acbda5-f692-4be4-c5cc-bcb7d3b01d6e",
        "colab": {
          "base_uri": "https://localhost:8080/"
        }
      },
      "execution_count": 11,
      "outputs": [
        {
          "output_type": "execute_result",
          "data": {
            "text/plain": [
              "[28798,\n",
              " 34398,\n",
              " 30904,\n",
              " 26457,\n",
              " 28095,\n",
              " 33442,\n",
              " 27161,\n",
              " 31863,\n",
              " 32002,\n",
              " 86547,\n",
              " 84095,\n",
              " 33255,\n",
              " 43809,\n",
              " 25828,\n",
              " 32248,\n",
              " 47361,\n",
              " 32774,\n",
              " 92101,\n",
              " 110105,\n",
              " 44797,\n",
              " 40915,\n",
              " 24091,\n",
              " 42002,\n",
              " 83092,\n",
              " 20272,\n",
              " 33492,\n",
              " 51657,\n",
              " 24341,\n",
              " 109986,\n",
              " 27526,\n",
              " 45238]"
            ]
          },
          "metadata": {},
          "execution_count": 11
        }
      ]
    },
    {
      "cell_type": "markdown",
      "source": [
        "The next step is to figure out which rows in the product dataframe having matching ids to the list we just made. We are going to do this using a method called `.isin()`, which looks at each row, and returns `True` or `False` based on whether the row is in a given list."
      ],
      "metadata": {
        "id": "X31TjSNF-kXH"
      }
    },
    {
      "cell_type": "code",
      "source": [
        "#This creates a series of true/false values\n",
        "product_match = product_df['id'].isin(basket_ids)\n",
        "product_match"
      ],
      "metadata": {
        "id": "2-Jeyaep_WLw",
        "outputId": "fd8de70c-2fcd-4952-f6dd-e873d836b9dc",
        "colab": {
          "base_uri": "https://localhost:8080/"
        }
      },
      "execution_count": 12,
      "outputs": [
        {
          "output_type": "execute_result",
          "data": {
            "text/plain": [
              "0        False\n",
              "1        False\n",
              "2        False\n",
              "3        False\n",
              "4        False\n",
              "         ...  \n",
              "81665    False\n",
              "81666    False\n",
              "81667    False\n",
              "81668    False\n",
              "81669    False\n",
              "Name: id, Length: 81670, dtype: bool"
            ]
          },
          "metadata": {},
          "execution_count": 12
        }
      ]
    },
    {
      "cell_type": "markdown",
      "source": [
        "A cool feature of pandas is that you can take a series of boolean (True/False) values like the one we made above (`product_match`) and use it to filter tables, by putting it within the square brackets like below:"
      ],
      "metadata": {
        "id": "pY5T3E1kUumU"
      }
    },
    {
      "cell_type": "code",
      "source": [
        "product_basket = product_df[product_match]"
      ],
      "metadata": {
        "id": "B0-aFZR3U8Q8"
      },
      "execution_count": 13,
      "outputs": []
    },
    {
      "cell_type": "markdown",
      "source": [
        "What this does, is go through the series and table rows together, side by side, and one by one:\n",
        "- keeps the row if it has have value `True` in the series.\n",
        "- hides the row if it have value `False` in the series.\n",
        "\n",
        "To make sure it does this correctly, the number of table rows and number of values in the series need to be the same (which is usually true, when we make the Series directly from the table like above).\n",
        "\n",
        "You can see the result of this below:"
      ],
      "metadata": {
        "id": "wP-yReSKAEqW"
      }
    },
    {
      "cell_type": "code",
      "source": [
        "product_basket"
      ],
      "metadata": {
        "id": "Be_xIuTzU9Hn"
      },
      "execution_count": null,
      "outputs": []
    },
    {
      "cell_type": "markdown",
      "source": [
        "### Filtering the data to find the cheapest supermarket"
      ],
      "metadata": {
        "id": "lxenchNDVBdV"
      }
    },
    {
      "cell_type": "markdown",
      "source": [
        "To filter a DataFrame in pandas you can attach a bracket to your DataFrame, then add your filtering parameters inside. In the example above, we have stated that the new DataFrame product_basket, should be made using data from the product_df, but only if the basket_ids, are in the column `id`"
      ],
      "metadata": {
        "id": "O1F-FEnnVC2i"
      }
    },
    {
      "cell_type": "markdown",
      "source": [
        "Using the example above, create a new DataFrame that only contains the prices of products, which match the basket_ids list"
      ],
      "metadata": {
        "id": "PgBibfgiVaHG"
      }
    },
    {
      "cell_type": "code",
      "source": [
        "# Create a filtered DataFrame that only includes information on items in the basket\n",
        "is_price_in_basket = price_df['id'].isin(basket_ids) \n",
        "basket_prices = price_df"
      ],
      "metadata": {
        "id": "Iv7voOku8yBG"
      },
      "execution_count": 14,
      "outputs": []
    },
    {
      "cell_type": "markdown",
      "source": [
        "Return the new DataFrame to check it is correct"
      ],
      "metadata": {
        "id": "Y1CjjCgeVTqe"
      }
    },
    {
      "cell_type": "code",
      "source": [
        "# Return the DataFrame\n",
        "price_df"
      ],
      "metadata": {
        "id": "n_yWISFkVWCq",
        "outputId": "e9e60c25-da48-454d-a7c1-d50ec66dc496",
        "colab": {
          "base_uri": "https://localhost:8080/",
          "height": 423
        }
      },
      "execution_count": 15,
      "outputs": [
        {
          "output_type": "execute_result",
          "data": {
            "text/plain": [
              "           id                                    name    retailer available  \\\n",
              "0       20100                   Lucozade Sport Orange        asda      True   \n",
              "1       20101                      Red Bull Sugarfree   morrisons      True   \n",
              "2       20101                      Red Bull Sugarfree  sainsburys      True   \n",
              "3       20101                      Red Bull Sugarfree       tesco     False   \n",
              "4       20104  Purdeys Rejuvenation Fruit Drink 330Ml  sainsburys      True   \n",
              "...       ...                                     ...         ...       ...   \n",
              "94855  149216           TRIP CBD Infused Peach Ginger       ocado      True   \n",
              "94856  149216           TRIP CBD Infused Peach Ginger  sainsburys      True   \n",
              "94857  149596           Smirnoff Red Label Vodka 35cl       tesco      True   \n",
              "94858  149596           Smirnoff Red Label Vodka 35cl  sainsburys      True   \n",
              "94859  149690  Dash Detangling Panda Animal Hairbrush       tesco      True   \n",
              "\n",
              "       price  price_per_unit  price_unit_amount price_unit  \\\n",
              "0       1.25            0.17              100.0         ml   \n",
              "1       2.30            0.49              100.0         ml   \n",
              "2       2.30            0.49              100.0         ml   \n",
              "3       3.40            0.49              100.0         ml   \n",
              "4       1.40            0.42              100.0         ml   \n",
              "...      ...             ...                ...        ...   \n",
              "94855   2.00            0.80              100.0         ml   \n",
              "94856   2.00            0.80              100.0         ml   \n",
              "94857  10.00            2.86              100.0         ml   \n",
              "94858  10.50            3.00              100.0         ml   \n",
              "94859   6.50            6.50                1.0       each   \n",
              "\n",
              "                     crawl_date  \n",
              "0      2022-10-26T15:00:00.000Z  \n",
              "1      2022-10-26T18:00:00.000Z  \n",
              "2      2022-10-26T11:00:00.000Z  \n",
              "3      2022-10-26T14:00:00.000Z  \n",
              "4      2022-10-26T12:00:00.000Z  \n",
              "...                         ...  \n",
              "94855  2022-10-26T14:00:00.000Z  \n",
              "94856  2022-10-26T12:00:00.000Z  \n",
              "94857  2022-10-26T10:00:00.000Z  \n",
              "94858  2022-10-26T11:00:00.000Z  \n",
              "94859  2022-10-26T10:00:00.000Z  \n",
              "\n",
              "[94860 rows x 9 columns]"
            ],
            "text/html": [
              "\n",
              "  <div id=\"df-f15080bf-ebf9-4cd2-a2e3-7a0c85b8c1e7\">\n",
              "    <div class=\"colab-df-container\">\n",
              "      <div>\n",
              "<style scoped>\n",
              "    .dataframe tbody tr th:only-of-type {\n",
              "        vertical-align: middle;\n",
              "    }\n",
              "\n",
              "    .dataframe tbody tr th {\n",
              "        vertical-align: top;\n",
              "    }\n",
              "\n",
              "    .dataframe thead th {\n",
              "        text-align: right;\n",
              "    }\n",
              "</style>\n",
              "<table border=\"1\" class=\"dataframe\">\n",
              "  <thead>\n",
              "    <tr style=\"text-align: right;\">\n",
              "      <th></th>\n",
              "      <th>id</th>\n",
              "      <th>name</th>\n",
              "      <th>retailer</th>\n",
              "      <th>available</th>\n",
              "      <th>price</th>\n",
              "      <th>price_per_unit</th>\n",
              "      <th>price_unit_amount</th>\n",
              "      <th>price_unit</th>\n",
              "      <th>crawl_date</th>\n",
              "    </tr>\n",
              "  </thead>\n",
              "  <tbody>\n",
              "    <tr>\n",
              "      <th>0</th>\n",
              "      <td>20100</td>\n",
              "      <td>Lucozade Sport Orange</td>\n",
              "      <td>asda</td>\n",
              "      <td>True</td>\n",
              "      <td>1.25</td>\n",
              "      <td>0.17</td>\n",
              "      <td>100.0</td>\n",
              "      <td>ml</td>\n",
              "      <td>2022-10-26T15:00:00.000Z</td>\n",
              "    </tr>\n",
              "    <tr>\n",
              "      <th>1</th>\n",
              "      <td>20101</td>\n",
              "      <td>Red Bull Sugarfree</td>\n",
              "      <td>morrisons</td>\n",
              "      <td>True</td>\n",
              "      <td>2.30</td>\n",
              "      <td>0.49</td>\n",
              "      <td>100.0</td>\n",
              "      <td>ml</td>\n",
              "      <td>2022-10-26T18:00:00.000Z</td>\n",
              "    </tr>\n",
              "    <tr>\n",
              "      <th>2</th>\n",
              "      <td>20101</td>\n",
              "      <td>Red Bull Sugarfree</td>\n",
              "      <td>sainsburys</td>\n",
              "      <td>True</td>\n",
              "      <td>2.30</td>\n",
              "      <td>0.49</td>\n",
              "      <td>100.0</td>\n",
              "      <td>ml</td>\n",
              "      <td>2022-10-26T11:00:00.000Z</td>\n",
              "    </tr>\n",
              "    <tr>\n",
              "      <th>3</th>\n",
              "      <td>20101</td>\n",
              "      <td>Red Bull Sugarfree</td>\n",
              "      <td>tesco</td>\n",
              "      <td>False</td>\n",
              "      <td>3.40</td>\n",
              "      <td>0.49</td>\n",
              "      <td>100.0</td>\n",
              "      <td>ml</td>\n",
              "      <td>2022-10-26T14:00:00.000Z</td>\n",
              "    </tr>\n",
              "    <tr>\n",
              "      <th>4</th>\n",
              "      <td>20104</td>\n",
              "      <td>Purdeys Rejuvenation Fruit Drink 330Ml</td>\n",
              "      <td>sainsburys</td>\n",
              "      <td>True</td>\n",
              "      <td>1.40</td>\n",
              "      <td>0.42</td>\n",
              "      <td>100.0</td>\n",
              "      <td>ml</td>\n",
              "      <td>2022-10-26T12:00:00.000Z</td>\n",
              "    </tr>\n",
              "    <tr>\n",
              "      <th>...</th>\n",
              "      <td>...</td>\n",
              "      <td>...</td>\n",
              "      <td>...</td>\n",
              "      <td>...</td>\n",
              "      <td>...</td>\n",
              "      <td>...</td>\n",
              "      <td>...</td>\n",
              "      <td>...</td>\n",
              "      <td>...</td>\n",
              "    </tr>\n",
              "    <tr>\n",
              "      <th>94855</th>\n",
              "      <td>149216</td>\n",
              "      <td>TRIP CBD Infused Peach Ginger</td>\n",
              "      <td>ocado</td>\n",
              "      <td>True</td>\n",
              "      <td>2.00</td>\n",
              "      <td>0.80</td>\n",
              "      <td>100.0</td>\n",
              "      <td>ml</td>\n",
              "      <td>2022-10-26T14:00:00.000Z</td>\n",
              "    </tr>\n",
              "    <tr>\n",
              "      <th>94856</th>\n",
              "      <td>149216</td>\n",
              "      <td>TRIP CBD Infused Peach Ginger</td>\n",
              "      <td>sainsburys</td>\n",
              "      <td>True</td>\n",
              "      <td>2.00</td>\n",
              "      <td>0.80</td>\n",
              "      <td>100.0</td>\n",
              "      <td>ml</td>\n",
              "      <td>2022-10-26T12:00:00.000Z</td>\n",
              "    </tr>\n",
              "    <tr>\n",
              "      <th>94857</th>\n",
              "      <td>149596</td>\n",
              "      <td>Smirnoff Red Label Vodka 35cl</td>\n",
              "      <td>tesco</td>\n",
              "      <td>True</td>\n",
              "      <td>10.00</td>\n",
              "      <td>2.86</td>\n",
              "      <td>100.0</td>\n",
              "      <td>ml</td>\n",
              "      <td>2022-10-26T10:00:00.000Z</td>\n",
              "    </tr>\n",
              "    <tr>\n",
              "      <th>94858</th>\n",
              "      <td>149596</td>\n",
              "      <td>Smirnoff Red Label Vodka 35cl</td>\n",
              "      <td>sainsburys</td>\n",
              "      <td>True</td>\n",
              "      <td>10.50</td>\n",
              "      <td>3.00</td>\n",
              "      <td>100.0</td>\n",
              "      <td>ml</td>\n",
              "      <td>2022-10-26T11:00:00.000Z</td>\n",
              "    </tr>\n",
              "    <tr>\n",
              "      <th>94859</th>\n",
              "      <td>149690</td>\n",
              "      <td>Dash Detangling Panda Animal Hairbrush</td>\n",
              "      <td>tesco</td>\n",
              "      <td>True</td>\n",
              "      <td>6.50</td>\n",
              "      <td>6.50</td>\n",
              "      <td>1.0</td>\n",
              "      <td>each</td>\n",
              "      <td>2022-10-26T10:00:00.000Z</td>\n",
              "    </tr>\n",
              "  </tbody>\n",
              "</table>\n",
              "<p>94860 rows × 9 columns</p>\n",
              "</div>\n",
              "      <button class=\"colab-df-convert\" onclick=\"convertToInteractive('df-f15080bf-ebf9-4cd2-a2e3-7a0c85b8c1e7')\"\n",
              "              title=\"Convert this dataframe to an interactive table.\"\n",
              "              style=\"display:none;\">\n",
              "        \n",
              "  <svg xmlns=\"http://www.w3.org/2000/svg\" height=\"24px\"viewBox=\"0 0 24 24\"\n",
              "       width=\"24px\">\n",
              "    <path d=\"M0 0h24v24H0V0z\" fill=\"none\"/>\n",
              "    <path d=\"M18.56 5.44l.94 2.06.94-2.06 2.06-.94-2.06-.94-.94-2.06-.94 2.06-2.06.94zm-11 1L8.5 8.5l.94-2.06 2.06-.94-2.06-.94L8.5 2.5l-.94 2.06-2.06.94zm10 10l.94 2.06.94-2.06 2.06-.94-2.06-.94-.94-2.06-.94 2.06-2.06.94z\"/><path d=\"M17.41 7.96l-1.37-1.37c-.4-.4-.92-.59-1.43-.59-.52 0-1.04.2-1.43.59L10.3 9.45l-7.72 7.72c-.78.78-.78 2.05 0 2.83L4 21.41c.39.39.9.59 1.41.59.51 0 1.02-.2 1.41-.59l7.78-7.78 2.81-2.81c.8-.78.8-2.07 0-2.86zM5.41 20L4 18.59l7.72-7.72 1.47 1.35L5.41 20z\"/>\n",
              "  </svg>\n",
              "      </button>\n",
              "      \n",
              "  <style>\n",
              "    .colab-df-container {\n",
              "      display:flex;\n",
              "      flex-wrap:wrap;\n",
              "      gap: 12px;\n",
              "    }\n",
              "\n",
              "    .colab-df-convert {\n",
              "      background-color: #E8F0FE;\n",
              "      border: none;\n",
              "      border-radius: 50%;\n",
              "      cursor: pointer;\n",
              "      display: none;\n",
              "      fill: #1967D2;\n",
              "      height: 32px;\n",
              "      padding: 0 0 0 0;\n",
              "      width: 32px;\n",
              "    }\n",
              "\n",
              "    .colab-df-convert:hover {\n",
              "      background-color: #E2EBFA;\n",
              "      box-shadow: 0px 1px 2px rgba(60, 64, 67, 0.3), 0px 1px 3px 1px rgba(60, 64, 67, 0.15);\n",
              "      fill: #174EA6;\n",
              "    }\n",
              "\n",
              "    [theme=dark] .colab-df-convert {\n",
              "      background-color: #3B4455;\n",
              "      fill: #D2E3FC;\n",
              "    }\n",
              "\n",
              "    [theme=dark] .colab-df-convert:hover {\n",
              "      background-color: #434B5C;\n",
              "      box-shadow: 0px 1px 3px 1px rgba(0, 0, 0, 0.15);\n",
              "      filter: drop-shadow(0px 1px 2px rgba(0, 0, 0, 0.3));\n",
              "      fill: #FFFFFF;\n",
              "    }\n",
              "  </style>\n",
              "\n",
              "      <script>\n",
              "        const buttonEl =\n",
              "          document.querySelector('#df-f15080bf-ebf9-4cd2-a2e3-7a0c85b8c1e7 button.colab-df-convert');\n",
              "        buttonEl.style.display =\n",
              "          google.colab.kernel.accessAllowed ? 'block' : 'none';\n",
              "\n",
              "        async function convertToInteractive(key) {\n",
              "          const element = document.querySelector('#df-f15080bf-ebf9-4cd2-a2e3-7a0c85b8c1e7');\n",
              "          const dataTable =\n",
              "            await google.colab.kernel.invokeFunction('convertToInteractive',\n",
              "                                                     [key], {});\n",
              "          if (!dataTable) return;\n",
              "\n",
              "          const docLinkHtml = 'Like what you see? Visit the ' +\n",
              "            '<a target=\"_blank\" href=https://colab.research.google.com/notebooks/data_table.ipynb>data table notebook</a>'\n",
              "            + ' to learn more about interactive tables.';\n",
              "          element.innerHTML = '';\n",
              "          dataTable['output_type'] = 'display_data';\n",
              "          await google.colab.output.renderOutput(dataTable, element);\n",
              "          const docLink = document.createElement('div');\n",
              "          docLink.innerHTML = docLinkHtml;\n",
              "          element.appendChild(docLink);\n",
              "        }\n",
              "      </script>\n",
              "    </div>\n",
              "  </div>\n",
              "  "
            ]
          },
          "metadata": {},
          "execution_count": 15
        }
      ]
    },
    {
      "cell_type": "markdown",
      "source": [
        "Notice in the DataFrame above, there is a column called `retailer` with all the supermarket names. We can use a pandas method called `.unique()` to get a list of all the supermarkets "
      ],
      "metadata": {
        "id": "9Y_ezqdqVeAU"
      }
    },
    {
      "cell_type": "code",
      "source": [
        "basket_prices['retailer'].unique()"
      ],
      "metadata": {
        "id": "LWjpy3ccEmVn",
        "outputId": "79e5b329-eb4e-4268-dd85-9e85745e9fc7",
        "colab": {
          "base_uri": "https://localhost:8080/"
        }
      },
      "execution_count": 16,
      "outputs": [
        {
          "output_type": "execute_result",
          "data": {
            "text/plain": [
              "array(['asda', 'morrisons', 'sainsburys', 'tesco', 'waitrose', 'ocado',\n",
              "       'coop', 'aldi'], dtype=object)"
            ]
          },
          "metadata": {},
          "execution_count": 16
        }
      ]
    },
    {
      "cell_type": "markdown",
      "source": [
        "When filtering DataFrames in pandas, you can attach methods such as `.unique()` and `.count()` to manipulate the data further"
      ],
      "metadata": {
        "id": "WB9uoY9cVjlO"
      }
    },
    {
      "cell_type": "markdown",
      "source": [
        "Another method within pandas that can be useful is `.group_by()`. `.group_by()` is used to split the data into groups, where each member of the group has the same value for one (or more) of the columns that you pick.\n",
        "\n",
        "To check that the retailers have all the products in our basket, we can use `group_by()` and `.count()` to group the data by the supermarket name, then count the number of products that supermarket has."
      ],
      "metadata": {
        "id": "WjOaTqcfVkWg"
      }
    },
    {
      "cell_type": "code",
      "source": [
        "# Group the basket prices by `retailer` and count how many of the items each supermarket has \n",
        "basket_prices.groupby('retailer').count()\n",
        "\n"
      ],
      "metadata": {
        "id": "oQYAdqTJwLlu",
        "outputId": "b123309a-9bd5-44b7-84d4-1bd2f0d29975",
        "colab": {
          "base_uri": "https://localhost:8080/",
          "height": 331
        }
      },
      "execution_count": 20,
      "outputs": [
        {
          "output_type": "execute_result",
          "data": {
            "text/plain": [
              "               id   name  available  price  price_per_unit  price_unit_amount  \\\n",
              "retailer                                                                        \n",
              "aldi          157    157        157    157             157                157   \n",
              "asda        13989  13989      13989  13989           13978              13978   \n",
              "coop         2913   2913          0   2913               0                  0   \n",
              "morrisons   15268  15268      15268  15268           15070              15070   \n",
              "ocado       30272  30272      30272  30272           29565              29565   \n",
              "sainsburys  14278  14278      14278  14278           14278              14278   \n",
              "tesco       11562  11562      11562  11562           11560              11560   \n",
              "waitrose     6421   6421       6421   6421            6201               6201   \n",
              "\n",
              "            price_unit  crawl_date  \n",
              "retailer                            \n",
              "aldi               157         157  \n",
              "asda             13978       13989  \n",
              "coop                 0        2913  \n",
              "morrisons        15070       15268  \n",
              "ocado            29565       30272  \n",
              "sainsburys       14278       14278  \n",
              "tesco            11560       11562  \n",
              "waitrose          6201        6421  "
            ],
            "text/html": [
              "\n",
              "  <div id=\"df-15afd703-1f1f-4322-8da7-dbe9ddc101bc\">\n",
              "    <div class=\"colab-df-container\">\n",
              "      <div>\n",
              "<style scoped>\n",
              "    .dataframe tbody tr th:only-of-type {\n",
              "        vertical-align: middle;\n",
              "    }\n",
              "\n",
              "    .dataframe tbody tr th {\n",
              "        vertical-align: top;\n",
              "    }\n",
              "\n",
              "    .dataframe thead th {\n",
              "        text-align: right;\n",
              "    }\n",
              "</style>\n",
              "<table border=\"1\" class=\"dataframe\">\n",
              "  <thead>\n",
              "    <tr style=\"text-align: right;\">\n",
              "      <th></th>\n",
              "      <th>id</th>\n",
              "      <th>name</th>\n",
              "      <th>available</th>\n",
              "      <th>price</th>\n",
              "      <th>price_per_unit</th>\n",
              "      <th>price_unit_amount</th>\n",
              "      <th>price_unit</th>\n",
              "      <th>crawl_date</th>\n",
              "    </tr>\n",
              "    <tr>\n",
              "      <th>retailer</th>\n",
              "      <th></th>\n",
              "      <th></th>\n",
              "      <th></th>\n",
              "      <th></th>\n",
              "      <th></th>\n",
              "      <th></th>\n",
              "      <th></th>\n",
              "      <th></th>\n",
              "    </tr>\n",
              "  </thead>\n",
              "  <tbody>\n",
              "    <tr>\n",
              "      <th>aldi</th>\n",
              "      <td>157</td>\n",
              "      <td>157</td>\n",
              "      <td>157</td>\n",
              "      <td>157</td>\n",
              "      <td>157</td>\n",
              "      <td>157</td>\n",
              "      <td>157</td>\n",
              "      <td>157</td>\n",
              "    </tr>\n",
              "    <tr>\n",
              "      <th>asda</th>\n",
              "      <td>13989</td>\n",
              "      <td>13989</td>\n",
              "      <td>13989</td>\n",
              "      <td>13989</td>\n",
              "      <td>13978</td>\n",
              "      <td>13978</td>\n",
              "      <td>13978</td>\n",
              "      <td>13989</td>\n",
              "    </tr>\n",
              "    <tr>\n",
              "      <th>coop</th>\n",
              "      <td>2913</td>\n",
              "      <td>2913</td>\n",
              "      <td>0</td>\n",
              "      <td>2913</td>\n",
              "      <td>0</td>\n",
              "      <td>0</td>\n",
              "      <td>0</td>\n",
              "      <td>2913</td>\n",
              "    </tr>\n",
              "    <tr>\n",
              "      <th>morrisons</th>\n",
              "      <td>15268</td>\n",
              "      <td>15268</td>\n",
              "      <td>15268</td>\n",
              "      <td>15268</td>\n",
              "      <td>15070</td>\n",
              "      <td>15070</td>\n",
              "      <td>15070</td>\n",
              "      <td>15268</td>\n",
              "    </tr>\n",
              "    <tr>\n",
              "      <th>ocado</th>\n",
              "      <td>30272</td>\n",
              "      <td>30272</td>\n",
              "      <td>30272</td>\n",
              "      <td>30272</td>\n",
              "      <td>29565</td>\n",
              "      <td>29565</td>\n",
              "      <td>29565</td>\n",
              "      <td>30272</td>\n",
              "    </tr>\n",
              "    <tr>\n",
              "      <th>sainsburys</th>\n",
              "      <td>14278</td>\n",
              "      <td>14278</td>\n",
              "      <td>14278</td>\n",
              "      <td>14278</td>\n",
              "      <td>14278</td>\n",
              "      <td>14278</td>\n",
              "      <td>14278</td>\n",
              "      <td>14278</td>\n",
              "    </tr>\n",
              "    <tr>\n",
              "      <th>tesco</th>\n",
              "      <td>11562</td>\n",
              "      <td>11562</td>\n",
              "      <td>11562</td>\n",
              "      <td>11562</td>\n",
              "      <td>11560</td>\n",
              "      <td>11560</td>\n",
              "      <td>11560</td>\n",
              "      <td>11562</td>\n",
              "    </tr>\n",
              "    <tr>\n",
              "      <th>waitrose</th>\n",
              "      <td>6421</td>\n",
              "      <td>6421</td>\n",
              "      <td>6421</td>\n",
              "      <td>6421</td>\n",
              "      <td>6201</td>\n",
              "      <td>6201</td>\n",
              "      <td>6201</td>\n",
              "      <td>6421</td>\n",
              "    </tr>\n",
              "  </tbody>\n",
              "</table>\n",
              "</div>\n",
              "      <button class=\"colab-df-convert\" onclick=\"convertToInteractive('df-15afd703-1f1f-4322-8da7-dbe9ddc101bc')\"\n",
              "              title=\"Convert this dataframe to an interactive table.\"\n",
              "              style=\"display:none;\">\n",
              "        \n",
              "  <svg xmlns=\"http://www.w3.org/2000/svg\" height=\"24px\"viewBox=\"0 0 24 24\"\n",
              "       width=\"24px\">\n",
              "    <path d=\"M0 0h24v24H0V0z\" fill=\"none\"/>\n",
              "    <path d=\"M18.56 5.44l.94 2.06.94-2.06 2.06-.94-2.06-.94-.94-2.06-.94 2.06-2.06.94zm-11 1L8.5 8.5l.94-2.06 2.06-.94-2.06-.94L8.5 2.5l-.94 2.06-2.06.94zm10 10l.94 2.06.94-2.06 2.06-.94-2.06-.94-.94-2.06-.94 2.06-2.06.94z\"/><path d=\"M17.41 7.96l-1.37-1.37c-.4-.4-.92-.59-1.43-.59-.52 0-1.04.2-1.43.59L10.3 9.45l-7.72 7.72c-.78.78-.78 2.05 0 2.83L4 21.41c.39.39.9.59 1.41.59.51 0 1.02-.2 1.41-.59l7.78-7.78 2.81-2.81c.8-.78.8-2.07 0-2.86zM5.41 20L4 18.59l7.72-7.72 1.47 1.35L5.41 20z\"/>\n",
              "  </svg>\n",
              "      </button>\n",
              "      \n",
              "  <style>\n",
              "    .colab-df-container {\n",
              "      display:flex;\n",
              "      flex-wrap:wrap;\n",
              "      gap: 12px;\n",
              "    }\n",
              "\n",
              "    .colab-df-convert {\n",
              "      background-color: #E8F0FE;\n",
              "      border: none;\n",
              "      border-radius: 50%;\n",
              "      cursor: pointer;\n",
              "      display: none;\n",
              "      fill: #1967D2;\n",
              "      height: 32px;\n",
              "      padding: 0 0 0 0;\n",
              "      width: 32px;\n",
              "    }\n",
              "\n",
              "    .colab-df-convert:hover {\n",
              "      background-color: #E2EBFA;\n",
              "      box-shadow: 0px 1px 2px rgba(60, 64, 67, 0.3), 0px 1px 3px 1px rgba(60, 64, 67, 0.15);\n",
              "      fill: #174EA6;\n",
              "    }\n",
              "\n",
              "    [theme=dark] .colab-df-convert {\n",
              "      background-color: #3B4455;\n",
              "      fill: #D2E3FC;\n",
              "    }\n",
              "\n",
              "    [theme=dark] .colab-df-convert:hover {\n",
              "      background-color: #434B5C;\n",
              "      box-shadow: 0px 1px 3px 1px rgba(0, 0, 0, 0.15);\n",
              "      filter: drop-shadow(0px 1px 2px rgba(0, 0, 0, 0.3));\n",
              "      fill: #FFFFFF;\n",
              "    }\n",
              "  </style>\n",
              "\n",
              "      <script>\n",
              "        const buttonEl =\n",
              "          document.querySelector('#df-15afd703-1f1f-4322-8da7-dbe9ddc101bc button.colab-df-convert');\n",
              "        buttonEl.style.display =\n",
              "          google.colab.kernel.accessAllowed ? 'block' : 'none';\n",
              "\n",
              "        async function convertToInteractive(key) {\n",
              "          const element = document.querySelector('#df-15afd703-1f1f-4322-8da7-dbe9ddc101bc');\n",
              "          const dataTable =\n",
              "            await google.colab.kernel.invokeFunction('convertToInteractive',\n",
              "                                                     [key], {});\n",
              "          if (!dataTable) return;\n",
              "\n",
              "          const docLinkHtml = 'Like what you see? Visit the ' +\n",
              "            '<a target=\"_blank\" href=https://colab.research.google.com/notebooks/data_table.ipynb>data table notebook</a>'\n",
              "            + ' to learn more about interactive tables.';\n",
              "          element.innerHTML = '';\n",
              "          dataTable['output_type'] = 'display_data';\n",
              "          await google.colab.output.renderOutput(dataTable, element);\n",
              "          const docLink = document.createElement('div');\n",
              "          docLink.innerHTML = docLinkHtml;\n",
              "          element.appendChild(docLink);\n",
              "        }\n",
              "      </script>\n",
              "    </div>\n",
              "  </div>\n",
              "  "
            ]
          },
          "metadata": {},
          "execution_count": 20
        }
      ]
    },
    {
      "cell_type": "markdown",
      "source": [
        "Looking at the data above, is there any supermarket we should not include in our analysis? Why? \n",
        "\n",
        "There should be one supermarket, that does not have reliable data, and therefore, can be excluded from the comparison."
      ],
      "metadata": {
        "id": "erEW-Fy_Vt5a"
      }
    },
    {
      "cell_type": "markdown",
      "source": [
        "Next, create a list of the retailers that we DO want to test:"
      ],
      "metadata": {
        "id": "7wWzmG1BVvLb"
      }
    },
    {
      "cell_type": "code",
      "source": [
        "# Create list of retailers we want to compare\n",
        "retailers_to_test = ['asda', 'morrisons', 'sainsburys', 'tesco', 'waitrose', 'ocado',\n",
        "       'coop', 'aldi']"
      ],
      "metadata": {
        "id": "iutnDLiuwsfh"
      },
      "execution_count": 21,
      "outputs": []
    },
    {
      "cell_type": "markdown",
      "source": [
        "Then using the `basket_prices` DataFrame made previously, create a new DataFrame that only has the retailers we are testing"
      ],
      "metadata": {
        "id": "NiTR1EYGV2GK"
      }
    },
    {
      "cell_type": "code",
      "source": [
        "# Created filtered DataFrame that only has basket prices for retailers we are testing\n",
        "compare_price_basket = basket_prices('retailer').isin(retailers_to_test)"
      ],
      "metadata": {
        "id": "JHGf7zkNVzY6",
        "outputId": "607abde6-19a8-4035-c44c-24019d2f9983",
        "colab": {
          "base_uri": "https://localhost:8080/",
          "height": 186
        }
      },
      "execution_count": 23,
      "outputs": [
        {
          "output_type": "error",
          "ename": "TypeError",
          "evalue": "ignored",
          "traceback": [
            "\u001b[0;31m---------------------------------------------------------------------------\u001b[0m",
            "\u001b[0;31mTypeError\u001b[0m                                 Traceback (most recent call last)",
            "\u001b[0;32m<ipython-input-23-b0b35dbfd925>\u001b[0m in \u001b[0;36m<module>\u001b[0;34m\u001b[0m\n\u001b[1;32m      1\u001b[0m \u001b[0;31m# Created filtered DataFrame that only has basket prices for retailers we are testing\u001b[0m\u001b[0;34m\u001b[0m\u001b[0;34m\u001b[0m\u001b[0;34m\u001b[0m\u001b[0m\n\u001b[0;32m----> 2\u001b[0;31m \u001b[0mcompare_price_basket\u001b[0m \u001b[0;34m=\u001b[0m \u001b[0mbasket_prices\u001b[0m\u001b[0;34m(\u001b[0m\u001b[0;34m'retailer'\u001b[0m\u001b[0;34m)\u001b[0m\u001b[0;34m.\u001b[0m\u001b[0misin\u001b[0m\u001b[0;34m(\u001b[0m\u001b[0mretailers_to_test\u001b[0m\u001b[0;34m)\u001b[0m\u001b[0;34m\u001b[0m\u001b[0;34m\u001b[0m\u001b[0m\n\u001b[0m",
            "\u001b[0;31mTypeError\u001b[0m: 'DataFrame' object is not callable"
          ]
        }
      ]
    },
    {
      "cell_type": "code",
      "source": [
        "compare_price_basket"
      ],
      "metadata": {
        "id": "Uu4AuLQ_V-XC"
      },
      "execution_count": null,
      "outputs": []
    },
    {
      "cell_type": "markdown",
      "source": [
        "Now we have a dataframe that contains all the products, the supermarkets and the price, we can do one more aggregation to find the cheapest supermarket.\n",
        "\n",
        "Try grouping the data in compare_price_basket by `retailer`, and adding the price of the items in that supermarket, to find the cheapest place"
      ],
      "metadata": {
        "id": "rzJNgRg9V-FF"
      }
    },
    {
      "cell_type": "code",
      "source": [
        "# Group data and add prices of items for each retailer to see which is the cheapest overall\n"
      ],
      "metadata": {
        "id": "NYGSrxqZxFEc"
      },
      "execution_count": null,
      "outputs": []
    },
    {
      "cell_type": "markdown",
      "source": [
        "Which supermarket was the cheapest? Are you suprised by the result??"
      ],
      "metadata": {
        "id": "HV2L30SPWIz0"
      }
    },
    {
      "cell_type": "markdown",
      "source": [
        "##Task 2 - Shopping at Multiple Stores"
      ],
      "metadata": {
        "id": "cK_RpyVP-TWZ"
      }
    },
    {
      "cell_type": "markdown",
      "source": [
        "Now that we know the cheapest supermarket overall, what happens if we decide to do our shopping in multiple supermarkets? How much money would we save if we split our shopping over more than one store?\n",
        "\n",
        "###Store Combinations\n",
        "\n",
        "To do this, we first need to figure all the different combinations of stores we can shop at, so we can compare the combinations.\n",
        "\n",
        "A tool that will make our lives a lot easier is a module you can import called [itertools](https://docs.python.org/3/library/itertools.html).\n",
        "\n",
        "First lets start by importing the module:"
      ],
      "metadata": {
        "id": "ereEdIjkDwsX"
      }
    },
    {
      "cell_type": "code",
      "source": [
        "import itertools"
      ],
      "metadata": {
        "id": "Ep0Bh4dNWgvb"
      },
      "execution_count": null,
      "outputs": []
    },
    {
      "cell_type": "markdown",
      "source": [
        "One useful method from itertools that can be used to to this is [`itertools.combinations()`](https://www.geeksforgeeks.org/python-itertools-combinations-function/). \n",
        "\n",
        "`itertools.combinations()` takes in two arguments: \n",
        "\n",
        "\n",
        "1.   The iterator - In this case, that is the `retailers_to_test` list\n",
        "2.   `r` - the size of the combinations -  2 will create pairs, 3 will create sets of 3 etc."
      ],
      "metadata": {
        "id": "mHvjrCYbWiKi"
      }
    },
    {
      "cell_type": "markdown",
      "source": [
        "Using `itertools.combinations()` can you create a list of the potential pairs of supermarkets?"
      ],
      "metadata": {
        "id": "qNe2jsZlWlZQ"
      }
    },
    {
      "cell_type": "code",
      "source": [
        "# Create a list of store combinations\n",
        "retailer_pairs = "
      ],
      "metadata": {
        "id": "ZJH9v1EnWo9Q"
      },
      "execution_count": null,
      "outputs": []
    },
    {
      "cell_type": "code",
      "source": [
        "#print out the list here to see if it works as expected.\n",
        "retailer_pairs"
      ],
      "metadata": {
        "id": "0vM-cn-4Wt5Q"
      },
      "execution_count": null,
      "outputs": []
    },
    {
      "cell_type": "markdown",
      "source": [
        "Now we have the potential pairs, its time to find the total of the basket if you were to shop at each pair of supermarkets.\n",
        "\n",
        "We can do this by filtering the prices to only include prices from the 2 selected supermarkets, and finding the cheapest price.\n",
        "\n",
        "Fill in the missing step in the function below:"
      ],
      "metadata": {
        "id": "_5dQbOdvWyfu"
      }
    },
    {
      "cell_type": "code",
      "source": [
        "# Here, we are creating a function we can use later to work out cheapest basket\n",
        "# for a given list of retailers\n",
        "def get_cheapest_basket(retailer_list):\n",
        "  '''\n",
        "  Take a list of retailers, and return the total value of the cheapest basket,\n",
        "  if we are only allowed to shop at those retailers\n",
        "  '''\n",
        "\n",
        "  #Using the compare_price_basket we made in task 1, keep only the supermarkets in the list.\n",
        "  retailer_price_basket = # fill this in!!!\n",
        "\n",
        "  #Sort by price, keep only the cheapest price for each item id, and sum the prices all together.\n",
        "  return retailer_price_basket.sort_values('price').drop_duplicates(['id'])['price'].sum()\n",
        "\n",
        "pair_basket_prices = [[r, get_cheapest_basket(r)] for r in retailer_pairs]\n",
        "pair_basket_prices"
      ],
      "metadata": {
        "id": "pK5AKw4Mv_6I"
      },
      "execution_count": null,
      "outputs": []
    },
    {
      "cell_type": "markdown",
      "source": [
        "Now we have a list of lists that contain the store combinations and the total price of the shopping at only these supermarkets. Next we need to sort through this list and find the cheapest overall combination.\n",
        "\n",
        "To do this, we can write a function that searches through each combination and compares the price to the one before. If it is cheaper, than that combination is stored. If not, then it is discarded, and the next combination is checked."
      ],
      "metadata": {
        "id": "XVnIeEMMeyTE"
      }
    },
    {
      "cell_type": "code",
      "source": [
        "# Write a function that gets the cheapest store combination HINT: The function will need a for loop. \n",
        "\n",
        "def get_cheapest_store_combination(num_of_stores):\n",
        "  '''\n",
        "  This function should use the num_of_stores, which tells you how many stores\n",
        "  should be in each combination, and return 2 things:\n",
        "  - The cheapest store combination\n",
        "  - The basket price if we only shopped at those stores\n",
        "  '''\n",
        "  #Your Code Here\n",
        "  return cheapest_stores, cheapest_price"
      ],
      "metadata": {
        "id": "BajmVZXm3wx0"
      },
      "execution_count": null,
      "outputs": []
    },
    {
      "cell_type": "markdown",
      "source": [
        "Now we can check the cheapest overall combination for 2 supermarkets"
      ],
      "metadata": {
        "id": "p2tEMJOpfwv0"
      }
    },
    {
      "cell_type": "code",
      "source": [
        "get_cheapest_store_combination(2)"
      ],
      "metadata": {
        "id": "7LkyYaX2GsgT"
      },
      "execution_count": null,
      "outputs": []
    },
    {
      "cell_type": "markdown",
      "source": [
        "And even 3..."
      ],
      "metadata": {
        "id": "35rN2n36f4fH"
      }
    },
    {
      "cell_type": "code",
      "source": [
        "get_cheapest_store_combination(3)"
      ],
      "metadata": {
        "id": "6KkU4tGW5iIF"
      },
      "execution_count": null,
      "outputs": []
    },
    {
      "cell_type": "markdown",
      "source": [
        "We can also plot this data for all possible number of stores, to better compare the different sized combinations.\n",
        "\n",
        "For the x axis, lets use the range of possible combination sizes from 1 (shopping at one store) to 7 (shopping at 7 stores)."
      ],
      "metadata": {
        "id": "K9HznHJ5gBD4"
      }
    },
    {
      "cell_type": "code",
      "source": [
        "# In python, the last number isn't actually included in the range, it includes\n",
        "# the number just before.\n",
        "x_data = range(1,8)"
      ],
      "metadata": {
        "id": "r8IDl5_G528n"
      },
      "execution_count": null,
      "outputs": []
    },
    {
      "cell_type": "markdown",
      "source": [
        "Then, for each value in `x_data`, lets work out the cheapest possible total basket price for shopping at x number of stores."
      ],
      "metadata": {
        "id": "beGiaADhKP6X"
      }
    },
    {
      "cell_type": "code",
      "source": [
        "# create a list of cheapest prices for each value of x_data\n",
        "y_data = \n",
        "\n",
        "y_data"
      ],
      "metadata": {
        "id": "p9vpJWOv6_d4"
      },
      "execution_count": null,
      "outputs": []
    },
    {
      "cell_type": "markdown",
      "source": [
        "A useful library for plotting graphs in python is matplotlib. More info on this library can be found [here](https://matplotlib.org/)\n",
        "\n",
        "Lets use it below to plot the data we just found."
      ],
      "metadata": {
        "id": "oh1CXUBxhB13"
      }
    },
    {
      "cell_type": "code",
      "source": [
        "import matplotlib.pyplot as plt\n",
        "plt.plot(x_data, y_data)\n",
        "plt.xlabel('Number of Stores')\n",
        "plt.ylabel('Cheapest price for stores')\n",
        "plt.show()"
      ],
      "metadata": {
        "id": "EFbT7xgN6Qpy"
      },
      "execution_count": null,
      "outputs": []
    },
    {
      "cell_type": "markdown",
      "source": [
        "Take a look at the graph. How useful is shopping at different stores?"
      ],
      "metadata": {
        "id": "H4uHRsvjhTpY"
      }
    },
    {
      "cell_type": "markdown",
      "source": [
        "## Task 3 (Optional) - Using Nutritional Information"
      ],
      "metadata": {
        "id": "un0gzxkBHOUf"
      }
    },
    {
      "cell_type": "markdown",
      "source": [
        "So far, we've found that some decent savings can be made by just changing where you shop! However, if you are sticking to the same items, there is a limit to how much you can save.\n",
        "\n",
        "This task will take a look at the food you pick, and see how much you can save by changing what you eat (whilst still getting all the nutrition you need!)"
      ],
      "metadata": {
        "id": "nPyieta48MHI"
      }
    },
    {
      "cell_type": "markdown",
      "source": [
        "####Loading the data\n",
        "First, lets load in and take a look at a new dataset we are introducing, a table of nutritional information on a wide selection of items. \n",
        "\n",
        "This dataset was sourced from https://world.openfoodfacts.org/"
      ],
      "metadata": {
        "id": "QQI3MxE4r8qA"
      }
    },
    {
      "cell_type": "code",
      "source": [
        "nutrition_df = pd.read_csv('/content/ctm-codebar-nov-22/nutrition_small.csv.gz')"
      ],
      "metadata": {
        "id": "l2BB6BBB7oWZ",
        "outputId": "4159ecb5-1cff-4ec4-8fab-c399cb0fad9c",
        "colab": {
          "base_uri": "https://localhost:8080/"
        }
      },
      "execution_count": 24,
      "outputs": [
        {
          "output_type": "stream",
          "name": "stderr",
          "text": [
            "/usr/local/lib/python3.7/dist-packages/IPython/core/interactiveshell.py:3326: DtypeWarning: Columns (1) have mixed types.Specify dtype option on import or set low_memory=False.\n",
            "  exec(code_obj, self.user_global_ns, self.user_ns)\n"
          ]
        }
      ]
    },
    {
      "cell_type": "code",
      "source": [
        "#display the dataset here so we can see what it looks like\n",
        "nutrition_df"
      ],
      "metadata": {
        "id": "G46hsJy3sScQ",
        "outputId": "091e5e6a-38fd-485c-fb40-4a6174187c89",
        "colab": {
          "base_uri": "https://localhost:8080/",
          "height": 748
        }
      },
      "execution_count": 25,
      "outputs": [
        {
          "output_type": "execute_result",
          "data": {
            "text/plain": [
              "        Unnamed: 0                 _id                       product_name  \\\n",
              "0                2                4530     Banana Chips Sweetened (Whole)   \n",
              "1                3                4559                            Peanuts   \n",
              "2                4               16087             Organic Salted Nut Mix   \n",
              "3                5               16094                    Organic Polenta   \n",
              "4                6               16100  Breadshop Honey Gone Nuts Granola   \n",
              "...            ...                 ...                                ...   \n",
              "228264      840627       0044100605031                 Cow Chow Ice Cream   \n",
              "228265      840629       0810785020274             Extra Virgin Olive Oil   \n",
              "228266      840632  400249284320000299        Choco Hazelnut Bear Cookies   \n",
              "228267      840633       0818850020686            seaweed green tea snack   \n",
              "228268      840635            64654515                              Pepsi   \n",
              "\n",
              "       compared_to_category categories_tags categories categories_hierarchy  \\\n",
              "0                       NaN             NaN        NaN                  NaN   \n",
              "1                       NaN             NaN        NaN                  NaN   \n",
              "2                       NaN             NaN        NaN                  NaN   \n",
              "3                       NaN             NaN        NaN                  NaN   \n",
              "4                       NaN             NaN        NaN                  NaN   \n",
              "...                     ...             ...        ...                  ...   \n",
              "228264                  NaN             NaN        NaN                  NaN   \n",
              "228265                  NaN             NaN        NaN                  NaN   \n",
              "228266                  NaN             NaN        NaN                  NaN   \n",
              "228267                  NaN             NaN        NaN                  NaN   \n",
              "228268                  NaN             NaN        NaN                  NaN   \n",
              "\n",
              "                                                _keywords  \\\n",
              "0                   [\"whole\",\"sweetened\",\"chip\",\"banana\"]   \n",
              "1                             [\"glasser\",\"torn\",\"peanut\"]   \n",
              "2             [\"grizzlie\",\"organic\",\"nut\",\"mix\",\"salted\"]   \n",
              "3                [\"organic\",\"polenta\",\"red\",\"mill\",\"bob\"]   \n",
              "4       [\"granola\",\"gone\",\"breadshop\",\"unfi\",\"nut\",\"ho...   \n",
              "...                                                   ...   \n",
              "228264                       [\"cream\",\"chow\",\"cow\",\"ice\"]   \n",
              "228265                   [\"extra\",\"oil\",\"virgin\",\"olive\"]   \n",
              "228266               [\"cookie\",\"bear\",\"choco\",\"hazelnut\"]   \n",
              "228267                  [\"snack\",\"seaweed\",\"tea\",\"green\"]   \n",
              "228268                                          [\"pepsi\"]   \n",
              "\n",
              "        nutriments.fat_100g  nutriments.proteins_100g  nutriments.sugars_100g  \\\n",
              "0                 28.570000                  3.570000               14.290000   \n",
              "1                 17.860000                 17.860000               17.860000   \n",
              "2                 57.140000                 17.860000                3.570000   \n",
              "3                  1.430000                  8.570000                     NaN   \n",
              "4                 18.270000                 13.460000               11.540000   \n",
              "...                     ...                       ...                     ...   \n",
              "228264            10.227273                  4.545455               21.590909   \n",
              "228265            93.333333                  0.000000                0.000000   \n",
              "228266            25.000000                  5.000000               25.000000   \n",
              "228267                  NaN                       NaN                     NaN   \n",
              "228268                  NaN                       NaN                     NaN   \n",
              "\n",
              "        nutriments.salt_100g  nutriments.energy-kcal_100g  \\\n",
              "0                   0.000000                   536.000000   \n",
              "1                   0.635000                   464.000000   \n",
              "2                   1.224280                   607.000000   \n",
              "3                        NaN                   371.000000   \n",
              "4                        NaN                   462.000000   \n",
              "...                      ...                          ...   \n",
              "228264              0.326705                   238.636364   \n",
              "228265              0.000000                   800.000000   \n",
              "228266              0.625000                   500.000000   \n",
              "228267                   NaN                          NaN   \n",
              "228268                   NaN                          NaN   \n",
              "\n",
              "        nutriments.carbohydrates_100g nutriscore_grade  nutriscore_score  \\\n",
              "0                           64.290000              NaN               NaN   \n",
              "1                           60.710000              NaN               NaN   \n",
              "2                           17.860000              NaN               NaN   \n",
              "3                           77.140000              NaN               NaN   \n",
              "4                           63.460000              NaN               NaN   \n",
              "...                               ...              ...               ...   \n",
              "228264                      31.818182              NaN               NaN   \n",
              "228265                       0.000000              NaN               NaN   \n",
              "228266                      65.000000              NaN               NaN   \n",
              "228267                            NaN              NaN               NaN   \n",
              "228268                            NaN              NaN               NaN   \n",
              "\n",
              "              countries_tags  new_key_attr  \n",
              "0       [\"en:united-states\"]             2  \n",
              "1       [\"en:united-states\"]             3  \n",
              "2       [\"en:united-states\"]             4  \n",
              "3       [\"en:united-states\"]             5  \n",
              "4       [\"en:united-states\"]             6  \n",
              "...                      ...           ...  \n",
              "228264  [\"en:united-states\"]        840627  \n",
              "228265  [\"en:united-states\"]        840629  \n",
              "228266  [\"en:united-states\"]        840632  \n",
              "228267  [\"en:united-states\"]        840633  \n",
              "228268  [\"en:united-states\"]        840635  \n",
              "\n",
              "[228269 rows x 18 columns]"
            ],
            "text/html": [
              "\n",
              "  <div id=\"df-17a60834-ef61-45e0-a32f-2f437bb014c5\">\n",
              "    <div class=\"colab-df-container\">\n",
              "      <div>\n",
              "<style scoped>\n",
              "    .dataframe tbody tr th:only-of-type {\n",
              "        vertical-align: middle;\n",
              "    }\n",
              "\n",
              "    .dataframe tbody tr th {\n",
              "        vertical-align: top;\n",
              "    }\n",
              "\n",
              "    .dataframe thead th {\n",
              "        text-align: right;\n",
              "    }\n",
              "</style>\n",
              "<table border=\"1\" class=\"dataframe\">\n",
              "  <thead>\n",
              "    <tr style=\"text-align: right;\">\n",
              "      <th></th>\n",
              "      <th>Unnamed: 0</th>\n",
              "      <th>_id</th>\n",
              "      <th>product_name</th>\n",
              "      <th>compared_to_category</th>\n",
              "      <th>categories_tags</th>\n",
              "      <th>categories</th>\n",
              "      <th>categories_hierarchy</th>\n",
              "      <th>_keywords</th>\n",
              "      <th>nutriments.fat_100g</th>\n",
              "      <th>nutriments.proteins_100g</th>\n",
              "      <th>nutriments.sugars_100g</th>\n",
              "      <th>nutriments.salt_100g</th>\n",
              "      <th>nutriments.energy-kcal_100g</th>\n",
              "      <th>nutriments.carbohydrates_100g</th>\n",
              "      <th>nutriscore_grade</th>\n",
              "      <th>nutriscore_score</th>\n",
              "      <th>countries_tags</th>\n",
              "      <th>new_key_attr</th>\n",
              "    </tr>\n",
              "  </thead>\n",
              "  <tbody>\n",
              "    <tr>\n",
              "      <th>0</th>\n",
              "      <td>2</td>\n",
              "      <td>4530</td>\n",
              "      <td>Banana Chips Sweetened (Whole)</td>\n",
              "      <td>NaN</td>\n",
              "      <td>NaN</td>\n",
              "      <td>NaN</td>\n",
              "      <td>NaN</td>\n",
              "      <td>[\"whole\",\"sweetened\",\"chip\",\"banana\"]</td>\n",
              "      <td>28.570000</td>\n",
              "      <td>3.570000</td>\n",
              "      <td>14.290000</td>\n",
              "      <td>0.000000</td>\n",
              "      <td>536.000000</td>\n",
              "      <td>64.290000</td>\n",
              "      <td>NaN</td>\n",
              "      <td>NaN</td>\n",
              "      <td>[\"en:united-states\"]</td>\n",
              "      <td>2</td>\n",
              "    </tr>\n",
              "    <tr>\n",
              "      <th>1</th>\n",
              "      <td>3</td>\n",
              "      <td>4559</td>\n",
              "      <td>Peanuts</td>\n",
              "      <td>NaN</td>\n",
              "      <td>NaN</td>\n",
              "      <td>NaN</td>\n",
              "      <td>NaN</td>\n",
              "      <td>[\"glasser\",\"torn\",\"peanut\"]</td>\n",
              "      <td>17.860000</td>\n",
              "      <td>17.860000</td>\n",
              "      <td>17.860000</td>\n",
              "      <td>0.635000</td>\n",
              "      <td>464.000000</td>\n",
              "      <td>60.710000</td>\n",
              "      <td>NaN</td>\n",
              "      <td>NaN</td>\n",
              "      <td>[\"en:united-states\"]</td>\n",
              "      <td>3</td>\n",
              "    </tr>\n",
              "    <tr>\n",
              "      <th>2</th>\n",
              "      <td>4</td>\n",
              "      <td>16087</td>\n",
              "      <td>Organic Salted Nut Mix</td>\n",
              "      <td>NaN</td>\n",
              "      <td>NaN</td>\n",
              "      <td>NaN</td>\n",
              "      <td>NaN</td>\n",
              "      <td>[\"grizzlie\",\"organic\",\"nut\",\"mix\",\"salted\"]</td>\n",
              "      <td>57.140000</td>\n",
              "      <td>17.860000</td>\n",
              "      <td>3.570000</td>\n",
              "      <td>1.224280</td>\n",
              "      <td>607.000000</td>\n",
              "      <td>17.860000</td>\n",
              "      <td>NaN</td>\n",
              "      <td>NaN</td>\n",
              "      <td>[\"en:united-states\"]</td>\n",
              "      <td>4</td>\n",
              "    </tr>\n",
              "    <tr>\n",
              "      <th>3</th>\n",
              "      <td>5</td>\n",
              "      <td>16094</td>\n",
              "      <td>Organic Polenta</td>\n",
              "      <td>NaN</td>\n",
              "      <td>NaN</td>\n",
              "      <td>NaN</td>\n",
              "      <td>NaN</td>\n",
              "      <td>[\"organic\",\"polenta\",\"red\",\"mill\",\"bob\"]</td>\n",
              "      <td>1.430000</td>\n",
              "      <td>8.570000</td>\n",
              "      <td>NaN</td>\n",
              "      <td>NaN</td>\n",
              "      <td>371.000000</td>\n",
              "      <td>77.140000</td>\n",
              "      <td>NaN</td>\n",
              "      <td>NaN</td>\n",
              "      <td>[\"en:united-states\"]</td>\n",
              "      <td>5</td>\n",
              "    </tr>\n",
              "    <tr>\n",
              "      <th>4</th>\n",
              "      <td>6</td>\n",
              "      <td>16100</td>\n",
              "      <td>Breadshop Honey Gone Nuts Granola</td>\n",
              "      <td>NaN</td>\n",
              "      <td>NaN</td>\n",
              "      <td>NaN</td>\n",
              "      <td>NaN</td>\n",
              "      <td>[\"granola\",\"gone\",\"breadshop\",\"unfi\",\"nut\",\"ho...</td>\n",
              "      <td>18.270000</td>\n",
              "      <td>13.460000</td>\n",
              "      <td>11.540000</td>\n",
              "      <td>NaN</td>\n",
              "      <td>462.000000</td>\n",
              "      <td>63.460000</td>\n",
              "      <td>NaN</td>\n",
              "      <td>NaN</td>\n",
              "      <td>[\"en:united-states\"]</td>\n",
              "      <td>6</td>\n",
              "    </tr>\n",
              "    <tr>\n",
              "      <th>...</th>\n",
              "      <td>...</td>\n",
              "      <td>...</td>\n",
              "      <td>...</td>\n",
              "      <td>...</td>\n",
              "      <td>...</td>\n",
              "      <td>...</td>\n",
              "      <td>...</td>\n",
              "      <td>...</td>\n",
              "      <td>...</td>\n",
              "      <td>...</td>\n",
              "      <td>...</td>\n",
              "      <td>...</td>\n",
              "      <td>...</td>\n",
              "      <td>...</td>\n",
              "      <td>...</td>\n",
              "      <td>...</td>\n",
              "      <td>...</td>\n",
              "      <td>...</td>\n",
              "    </tr>\n",
              "    <tr>\n",
              "      <th>228264</th>\n",
              "      <td>840627</td>\n",
              "      <td>0044100605031</td>\n",
              "      <td>Cow Chow Ice Cream</td>\n",
              "      <td>NaN</td>\n",
              "      <td>NaN</td>\n",
              "      <td>NaN</td>\n",
              "      <td>NaN</td>\n",
              "      <td>[\"cream\",\"chow\",\"cow\",\"ice\"]</td>\n",
              "      <td>10.227273</td>\n",
              "      <td>4.545455</td>\n",
              "      <td>21.590909</td>\n",
              "      <td>0.326705</td>\n",
              "      <td>238.636364</td>\n",
              "      <td>31.818182</td>\n",
              "      <td>NaN</td>\n",
              "      <td>NaN</td>\n",
              "      <td>[\"en:united-states\"]</td>\n",
              "      <td>840627</td>\n",
              "    </tr>\n",
              "    <tr>\n",
              "      <th>228265</th>\n",
              "      <td>840629</td>\n",
              "      <td>0810785020274</td>\n",
              "      <td>Extra Virgin Olive Oil</td>\n",
              "      <td>NaN</td>\n",
              "      <td>NaN</td>\n",
              "      <td>NaN</td>\n",
              "      <td>NaN</td>\n",
              "      <td>[\"extra\",\"oil\",\"virgin\",\"olive\"]</td>\n",
              "      <td>93.333333</td>\n",
              "      <td>0.000000</td>\n",
              "      <td>0.000000</td>\n",
              "      <td>0.000000</td>\n",
              "      <td>800.000000</td>\n",
              "      <td>0.000000</td>\n",
              "      <td>NaN</td>\n",
              "      <td>NaN</td>\n",
              "      <td>[\"en:united-states\"]</td>\n",
              "      <td>840629</td>\n",
              "    </tr>\n",
              "    <tr>\n",
              "      <th>228266</th>\n",
              "      <td>840632</td>\n",
              "      <td>400249284320000299</td>\n",
              "      <td>Choco Hazelnut Bear Cookies</td>\n",
              "      <td>NaN</td>\n",
              "      <td>NaN</td>\n",
              "      <td>NaN</td>\n",
              "      <td>NaN</td>\n",
              "      <td>[\"cookie\",\"bear\",\"choco\",\"hazelnut\"]</td>\n",
              "      <td>25.000000</td>\n",
              "      <td>5.000000</td>\n",
              "      <td>25.000000</td>\n",
              "      <td>0.625000</td>\n",
              "      <td>500.000000</td>\n",
              "      <td>65.000000</td>\n",
              "      <td>NaN</td>\n",
              "      <td>NaN</td>\n",
              "      <td>[\"en:united-states\"]</td>\n",
              "      <td>840632</td>\n",
              "    </tr>\n",
              "    <tr>\n",
              "      <th>228267</th>\n",
              "      <td>840633</td>\n",
              "      <td>0818850020686</td>\n",
              "      <td>seaweed green tea snack</td>\n",
              "      <td>NaN</td>\n",
              "      <td>NaN</td>\n",
              "      <td>NaN</td>\n",
              "      <td>NaN</td>\n",
              "      <td>[\"snack\",\"seaweed\",\"tea\",\"green\"]</td>\n",
              "      <td>NaN</td>\n",
              "      <td>NaN</td>\n",
              "      <td>NaN</td>\n",
              "      <td>NaN</td>\n",
              "      <td>NaN</td>\n",
              "      <td>NaN</td>\n",
              "      <td>NaN</td>\n",
              "      <td>NaN</td>\n",
              "      <td>[\"en:united-states\"]</td>\n",
              "      <td>840633</td>\n",
              "    </tr>\n",
              "    <tr>\n",
              "      <th>228268</th>\n",
              "      <td>840635</td>\n",
              "      <td>64654515</td>\n",
              "      <td>Pepsi</td>\n",
              "      <td>NaN</td>\n",
              "      <td>NaN</td>\n",
              "      <td>NaN</td>\n",
              "      <td>NaN</td>\n",
              "      <td>[\"pepsi\"]</td>\n",
              "      <td>NaN</td>\n",
              "      <td>NaN</td>\n",
              "      <td>NaN</td>\n",
              "      <td>NaN</td>\n",
              "      <td>NaN</td>\n",
              "      <td>NaN</td>\n",
              "      <td>NaN</td>\n",
              "      <td>NaN</td>\n",
              "      <td>[\"en:united-states\"]</td>\n",
              "      <td>840635</td>\n",
              "    </tr>\n",
              "  </tbody>\n",
              "</table>\n",
              "<p>228269 rows × 18 columns</p>\n",
              "</div>\n",
              "      <button class=\"colab-df-convert\" onclick=\"convertToInteractive('df-17a60834-ef61-45e0-a32f-2f437bb014c5')\"\n",
              "              title=\"Convert this dataframe to an interactive table.\"\n",
              "              style=\"display:none;\">\n",
              "        \n",
              "  <svg xmlns=\"http://www.w3.org/2000/svg\" height=\"24px\"viewBox=\"0 0 24 24\"\n",
              "       width=\"24px\">\n",
              "    <path d=\"M0 0h24v24H0V0z\" fill=\"none\"/>\n",
              "    <path d=\"M18.56 5.44l.94 2.06.94-2.06 2.06-.94-2.06-.94-.94-2.06-.94 2.06-2.06.94zm-11 1L8.5 8.5l.94-2.06 2.06-.94-2.06-.94L8.5 2.5l-.94 2.06-2.06.94zm10 10l.94 2.06.94-2.06 2.06-.94-2.06-.94-.94-2.06-.94 2.06-2.06.94z\"/><path d=\"M17.41 7.96l-1.37-1.37c-.4-.4-.92-.59-1.43-.59-.52 0-1.04.2-1.43.59L10.3 9.45l-7.72 7.72c-.78.78-.78 2.05 0 2.83L4 21.41c.39.39.9.59 1.41.59.51 0 1.02-.2 1.41-.59l7.78-7.78 2.81-2.81c.8-.78.8-2.07 0-2.86zM5.41 20L4 18.59l7.72-7.72 1.47 1.35L5.41 20z\"/>\n",
              "  </svg>\n",
              "      </button>\n",
              "      \n",
              "  <style>\n",
              "    .colab-df-container {\n",
              "      display:flex;\n",
              "      flex-wrap:wrap;\n",
              "      gap: 12px;\n",
              "    }\n",
              "\n",
              "    .colab-df-convert {\n",
              "      background-color: #E8F0FE;\n",
              "      border: none;\n",
              "      border-radius: 50%;\n",
              "      cursor: pointer;\n",
              "      display: none;\n",
              "      fill: #1967D2;\n",
              "      height: 32px;\n",
              "      padding: 0 0 0 0;\n",
              "      width: 32px;\n",
              "    }\n",
              "\n",
              "    .colab-df-convert:hover {\n",
              "      background-color: #E2EBFA;\n",
              "      box-shadow: 0px 1px 2px rgba(60, 64, 67, 0.3), 0px 1px 3px 1px rgba(60, 64, 67, 0.15);\n",
              "      fill: #174EA6;\n",
              "    }\n",
              "\n",
              "    [theme=dark] .colab-df-convert {\n",
              "      background-color: #3B4455;\n",
              "      fill: #D2E3FC;\n",
              "    }\n",
              "\n",
              "    [theme=dark] .colab-df-convert:hover {\n",
              "      background-color: #434B5C;\n",
              "      box-shadow: 0px 1px 3px 1px rgba(0, 0, 0, 0.15);\n",
              "      filter: drop-shadow(0px 1px 2px rgba(0, 0, 0, 0.3));\n",
              "      fill: #FFFFFF;\n",
              "    }\n",
              "  </style>\n",
              "\n",
              "      <script>\n",
              "        const buttonEl =\n",
              "          document.querySelector('#df-17a60834-ef61-45e0-a32f-2f437bb014c5 button.colab-df-convert');\n",
              "        buttonEl.style.display =\n",
              "          google.colab.kernel.accessAllowed ? 'block' : 'none';\n",
              "\n",
              "        async function convertToInteractive(key) {\n",
              "          const element = document.querySelector('#df-17a60834-ef61-45e0-a32f-2f437bb014c5');\n",
              "          const dataTable =\n",
              "            await google.colab.kernel.invokeFunction('convertToInteractive',\n",
              "                                                     [key], {});\n",
              "          if (!dataTable) return;\n",
              "\n",
              "          const docLinkHtml = 'Like what you see? Visit the ' +\n",
              "            '<a target=\"_blank\" href=https://colab.research.google.com/notebooks/data_table.ipynb>data table notebook</a>'\n",
              "            + ' to learn more about interactive tables.';\n",
              "          element.innerHTML = '';\n",
              "          dataTable['output_type'] = 'display_data';\n",
              "          await google.colab.output.renderOutput(dataTable, element);\n",
              "          const docLink = document.createElement('div');\n",
              "          docLink.innerHTML = docLinkHtml;\n",
              "          element.appendChild(docLink);\n",
              "        }\n",
              "      </script>\n",
              "    </div>\n",
              "  </div>\n",
              "  "
            ]
          },
          "metadata": {},
          "execution_count": 25
        }
      ]
    },
    {
      "cell_type": "markdown",
      "source": [
        "As you can see, there is a vast collection of nutritional information on a large variety of foods. However, there is one big issue - how do we link this information to the prices of the products?"
      ],
      "metadata": {
        "id": "uSgs0prXsji9"
      }
    },
    {
      "cell_type": "markdown",
      "source": [
        "#### Introducing the similarity join\n",
        "\n",
        "If you compare the pricing dataframe and the nutritional dataframe side by side, just by looking at the product names you can see that there are a lot of products that are in both!\n",
        "\n",
        "But, that names are not exactly the same, even though we know they are  referring to the same product.\n",
        "\n",
        "How do we match these products together? We can use a tool called [py-stringsimjoin](http://anhaidgroup.github.io/py_stringsimjoin/v0.3.2/overview.html) for performing a method called a **similarity join**"
      ],
      "metadata": {
        "id": "o8Ki7n1Is_fW"
      }
    },
    {
      "cell_type": "code",
      "source": [
        "!pip install py-stringsimjoin"
      ],
      "metadata": {
        "id": "ml05Oy7n79mP",
        "outputId": "cceb6441-68a0-4ac7-ee3d-7e747e2e336a",
        "colab": {
          "base_uri": "https://localhost:8080/"
        }
      },
      "execution_count": 26,
      "outputs": [
        {
          "output_type": "stream",
          "name": "stdout",
          "text": [
            "Looking in indexes: https://pypi.org/simple, https://us-python.pkg.dev/colab-wheels/public/simple/\n",
            "Collecting py-stringsimjoin\n",
            "  Downloading py_stringsimjoin-0.3.2.tar.gz (1.1 MB)\n",
            "\u001b[K     |████████████████████████████████| 1.1 MB 5.0 MB/s \n",
            "\u001b[?25hRequirement already satisfied: joblib in /usr/local/lib/python3.7/dist-packages (from py-stringsimjoin) (1.2.0)\n",
            "Requirement already satisfied: pandas>=0.16.0 in /usr/local/lib/python3.7/dist-packages (from py-stringsimjoin) (1.3.5)\n",
            "Collecting PyPrind>=2.9.3\n",
            "  Downloading PyPrind-2.11.3-py2.py3-none-any.whl (8.4 kB)\n",
            "Collecting py_stringmatching>=0.2.1\n",
            "  Downloading py_stringmatching-0.4.2.tar.gz (661 kB)\n",
            "\u001b[K     |████████████████████████████████| 661 kB 46.3 MB/s \n",
            "\u001b[?25hRequirement already satisfied: six in /usr/local/lib/python3.7/dist-packages (from py-stringsimjoin) (1.15.0)\n",
            "Requirement already satisfied: python-dateutil>=2.7.3 in /usr/local/lib/python3.7/dist-packages (from pandas>=0.16.0->py-stringsimjoin) (2.8.2)\n",
            "Requirement already satisfied: pytz>=2017.3 in /usr/local/lib/python3.7/dist-packages (from pandas>=0.16.0->py-stringsimjoin) (2022.6)\n",
            "Requirement already satisfied: numpy>=1.17.3 in /usr/local/lib/python3.7/dist-packages (from pandas>=0.16.0->py-stringsimjoin) (1.21.6)\n",
            "Building wheels for collected packages: py-stringsimjoin, py-stringmatching\n",
            "  Building wheel for py-stringsimjoin (setup.py) ... \u001b[?25l\u001b[?25hdone\n",
            "  Created wheel for py-stringsimjoin: filename=py_stringsimjoin-0.3.2-cp37-cp37m-linux_x86_64.whl size=3724151 sha256=d14d97be0ffc3e0807265eebb32efd2c8c536889b0c9997f1343b9c2d2b5210b\n",
            "  Stored in directory: /root/.cache/pip/wheels/7c/0d/a4/c0a779a4d196bed8ed41ca12be09a93e158e4fc974b59f9fd5\n",
            "  Building wheel for py-stringmatching (setup.py) ... \u001b[?25l\u001b[?25hdone\n",
            "  Created wheel for py-stringmatching: filename=py_stringmatching-0.4.2-cp37-cp37m-linux_x86_64.whl size=2055585 sha256=e99621f4dac440e03ff2d85047b8e7d20d58c3047f7f389b37db357c23fad59d\n",
            "  Stored in directory: /root/.cache/pip/wheels/7e/12/86/46f9378ae730550dd2f89cad50880e70d66cabedd90074f2d2\n",
            "Successfully built py-stringsimjoin py-stringmatching\n",
            "Installing collected packages: PyPrind, py-stringmatching, py-stringsimjoin\n",
            "Successfully installed PyPrind-2.11.3 py-stringmatching-0.4.2 py-stringsimjoin-0.3.2\n"
          ]
        }
      ]
    },
    {
      "cell_type": "code",
      "source": [
        "import py_stringsimjoin as ssj\n",
        "import py_stringmatching as sm"
      ],
      "metadata": {
        "id": "7qy14Ues7-o4"
      },
      "execution_count": 27,
      "outputs": []
    },
    {
      "cell_type": "markdown",
      "source": [
        "####What is a similarity join?\n",
        "At its core, a similarity join takes a look at 2 strings, and gives them a score based on how similar they are to each other.\n",
        "\n",
        "Lets take a look at 2 products -\n",
        "\n",
        "`Coke Can 250ml`\n",
        "\n",
        "`Diet Coke Can 330ml`\n",
        "\n",
        "We can split these names into individual words (sometimes referred to as tokens)\n",
        "\n",
        "`[Coke, Can, 250ml]`\n",
        "\n",
        "`[Diet, Coke, Can, 330ml]`\n",
        "\n",
        "To compute a *Jaccard* similarity score:\n",
        "\n",
        "$\\text{Score} = \\frac{ \\text{Number of shared words} }{ \\text{Total number of unique words}}$\n",
        "\n",
        "In this case, the shared words are:\n",
        "\n",
        "`[Coke, Can]`\n",
        "\n",
        "and all the unique words between the 2 strings are:\n",
        "\n",
        "`[Diet, Coke, Can, 250ml, 330ml]`\n",
        "\n",
        "therefore: \n",
        "\n",
        "$\\text{Score} = \\frac{2}{5} = 0.4$\n",
        "\n",
        "The higher the score is, the more similar the strings are. The lower the score is, the less similar the strings are."
      ],
      "metadata": {
        "id": "wdtkP9HLt_dX"
      }
    },
    {
      "cell_type": "markdown",
      "source": [
        "#### Tokenisation\n",
        "\n",
        "The first thing we need is a method to split strings into individual words/tokens.\n",
        "\n",
        "The variable below contains an [alphanumeric tokenizer](https://anhaidgroup.github.io/py_stringmatching/v0.4.2/AlphanumericTokenizer.html), which takes strings and splits into individual words, ignoring any characters that aren't numbers or letters."
      ],
      "metadata": {
        "id": "wNG0n0mpz7aJ"
      }
    },
    {
      "cell_type": "code",
      "source": [
        "alnum_tok = sm.AlphanumericTokenizer(return_set=True)"
      ],
      "metadata": {
        "id": "H8RIVmNB0Axg"
      },
      "execution_count": 28,
      "outputs": []
    },
    {
      "cell_type": "markdown",
      "source": [
        "Lets give this a try:"
      ],
      "metadata": {
        "id": "kgO6wQTb0LVr"
      }
    },
    {
      "cell_type": "code",
      "source": [
        "print('Diet Coke', alnum_tok.tokenize('Diet Coke'))\n",
        "print('Diet-Coke', alnum_tok.tokenize('Diet-Coke'))"
      ],
      "metadata": {
        "id": "pQV13gCe0Ovf",
        "outputId": "124a7fb0-dc76-458d-ab7e-4f61e3c9b84b",
        "colab": {
          "base_uri": "https://localhost:8080/"
        }
      },
      "execution_count": 29,
      "outputs": [
        {
          "output_type": "stream",
          "name": "stdout",
          "text": [
            "Diet Coke ['Diet', 'Coke']\n",
            "Diet-Coke ['Diet', 'Coke']\n"
          ]
        }
      ]
    },
    {
      "cell_type": "markdown",
      "source": [
        "### Before We Join:\n",
        "\n",
        "The goal of joining is to pick the 'best' match from the possible options.\n",
        "If there are multiple matches for the same product, we would want to prioritise:\n",
        "- products that are from the UK\n",
        "- products that have nutritional information filled out.\n",
        "\n",
        "We also want to make sure all the product names are in lowercase."
      ],
      "metadata": {
        "id": "gxkV1wef1yF7"
      }
    },
    {
      "cell_type": "code",
      "source": [
        "nutrition_columns = [\n",
        "    'nutriments.fat_100g',\n",
        "    'nutriments.proteins_100g',\n",
        "    'nutriments.sugars_100g',\n",
        "    'nutriments.salt_100g',\n",
        "    'nutriments.energy-kcal_100g',\n",
        "    'nutriments.carbohydrates_100g'\n",
        "    ]\n",
        "\n",
        "#this is required by the join module.\n",
        "nutrition_df['uid'] = range(0, len(nutrition_df))\n",
        "\n",
        "#add a true/false column to check if the row has nutritional info\n",
        "nutrition_df['has_nutritional_info'] = nutrition_df[nutrition_columns].notna().any(axis='columns')\n",
        "\n",
        "#add a true/false column to check if the product is from the UK\n",
        "nutrition_df['is_uk'] = nutrition_df['countries_tags'].apply(lambda x: ('en:united-kingdom' in eval(x)) if isinstance(x, str) else False)\n",
        "\n",
        "#add a column to both dataframes with the product names in lowercase\n",
        "nutrition_df['product_name_lower'] = nutrition_df['product_name'].apply(lambda x: x.lower())\n",
        "product_df['name_lower'] = product_df['name'].apply(lambda x: x.lower())"
      ],
      "metadata": {
        "id": "_MLYnbm59mdf"
      },
      "execution_count": 30,
      "outputs": []
    },
    {
      "cell_type": "markdown",
      "source": [
        "###Perform the join\n",
        "\n",
        "Next, lets perform the join!\n",
        "This function creates a table of all the possible matches for each product, and their similarity score. It is important to pick a threshold/minimum score, so that matches with a score lower than this are not included."
      ],
      "metadata": {
        "id": "7wZSRJxG4HLK"
      }
    },
    {
      "cell_type": "code",
      "source": [
        "# Feel free to change this to see how it affects the results.\n",
        "similarity_threshold = 0.6\n",
        "\n",
        "output_pairs = ssj.jaccard_join(\n",
        "    product_df, nutrition_df, \n",
        "    'id', 'uid', 'name_lower', 'product_name_lower', \n",
        "    alnum_tok, similarity_threshold, \n",
        "    l_out_attrs=['name'], r_out_attrs=['product_name', 'has_nutritional_info', 'is_uk'])"
      ],
      "metadata": {
        "id": "uSMipbT_9i8r",
        "outputId": "a9e74af3-3606-428f-c016-6bc9b5b4adbd",
        "colab": {
          "base_uri": "https://localhost:8080/"
        }
      },
      "execution_count": 31,
      "outputs": [
        {
          "output_type": "stream",
          "name": "stderr",
          "text": [
            "/usr/local/lib/python3.7/dist-packages/py_stringsimjoin/utils/generic_helper.py:77: FutureWarning: In a future version of pandas all arguments of DataFrame.dropna will be keyword-only\n",
            "  subset=[join_attr])\n",
            "0% [##############################] 100% | ETA: 00:00:00\n",
            "Total time elapsed: 00:00:04\n"
          ]
        }
      ]
    },
    {
      "cell_type": "markdown",
      "source": [
        "###Pick the best Match:\n",
        "\n",
        "The `output_pairs` has multiple results for each product. Next, we want to pick the best match for each product and remove all the duplicates"
      ],
      "metadata": {
        "id": "trQGL3wi4kLD"
      }
    },
    {
      "cell_type": "code",
      "source": [
        "deduped_pairs = output_pairs.sort_values(['_sim_score', 'r_has_nutritional_info', 'r_is_uk'], ascending=False).drop_duplicates(['l_id'])\n",
        "deduped_pairs"
      ],
      "metadata": {
        "id": "_R-5LGFc-Cn9",
        "outputId": "ccac5649-1bd6-4e6a-d99d-26384f900086",
        "colab": {
          "base_uri": "https://localhost:8080/",
          "height": 423
        }
      },
      "execution_count": 32,
      "outputs": [
        {
          "output_type": "execute_result",
          "data": {
            "text/plain": [
              "           _id    l_id   r_uid                                   l_name  \\\n",
              "2012      2012   22723    3696         Sweet Baby Ray's Barbecue Sauce    \n",
              "3769      3769   95105    6942                              Candy Canes   \n",
              "15472    15472   83092   28005                           Jammie Dodgers   \n",
              "15474    15474  102044   28006  Cadbury Fingers Milk Chocolate Biscuits   \n",
              "22606    22606   23100   41077                                Diet Coke   \n",
              "...        ...     ...     ...                                      ...   \n",
              "139572  139572   75976  225710               M&S Somerset Vintage Cider   \n",
              "139573  139573  120190  225710  Chaplin & Corks Somerset Vintage Cider    \n",
              "140308  140308   48791  227092         Lynx Africa Body Spray Deodorant   \n",
              "140330  140330   31699  227182                       Woods Old Navy Rum   \n",
              "140331  140331  117821  227182                      Woods Old Navy Rum    \n",
              "\n",
              "                                 r_product_name  r_has_nutritional_info  \\\n",
              "2012            Sweet Baby Ray's Barbecue Sauce                    True   \n",
              "3769                                Candy canes                    True   \n",
              "15472                            Jammie dodgers                    True   \n",
              "15474   Cadbury Fingers Milk Chocolate Biscuits                    True   \n",
              "22606                                 Diet Coke                    True   \n",
              "...                                         ...                     ...   \n",
              "139572                   Somerset Vintage Cider                   False   \n",
              "139573                   Somerset Vintage Cider                   False   \n",
              "140308                   Africa Deodorant Spray                   False   \n",
              "140330                     Old Captain Navy Rum                   False   \n",
              "140331                     Old Captain Navy Rum                   False   \n",
              "\n",
              "        r_is_uk  _sim_score  \n",
              "2012       True         1.0  \n",
              "3769       True         1.0  \n",
              "15472      True         1.0  \n",
              "15474      True         1.0  \n",
              "22606      True         1.0  \n",
              "...         ...         ...  \n",
              "139572    False         0.6  \n",
              "139573    False         0.6  \n",
              "140308    False         0.6  \n",
              "140330    False         0.6  \n",
              "140331    False         0.6  \n",
              "\n",
              "[14262 rows x 8 columns]"
            ],
            "text/html": [
              "\n",
              "  <div id=\"df-618dcb51-721f-4775-b0c3-3bd67a05ddad\">\n",
              "    <div class=\"colab-df-container\">\n",
              "      <div>\n",
              "<style scoped>\n",
              "    .dataframe tbody tr th:only-of-type {\n",
              "        vertical-align: middle;\n",
              "    }\n",
              "\n",
              "    .dataframe tbody tr th {\n",
              "        vertical-align: top;\n",
              "    }\n",
              "\n",
              "    .dataframe thead th {\n",
              "        text-align: right;\n",
              "    }\n",
              "</style>\n",
              "<table border=\"1\" class=\"dataframe\">\n",
              "  <thead>\n",
              "    <tr style=\"text-align: right;\">\n",
              "      <th></th>\n",
              "      <th>_id</th>\n",
              "      <th>l_id</th>\n",
              "      <th>r_uid</th>\n",
              "      <th>l_name</th>\n",
              "      <th>r_product_name</th>\n",
              "      <th>r_has_nutritional_info</th>\n",
              "      <th>r_is_uk</th>\n",
              "      <th>_sim_score</th>\n",
              "    </tr>\n",
              "  </thead>\n",
              "  <tbody>\n",
              "    <tr>\n",
              "      <th>2012</th>\n",
              "      <td>2012</td>\n",
              "      <td>22723</td>\n",
              "      <td>3696</td>\n",
              "      <td>Sweet Baby Ray's Barbecue Sauce</td>\n",
              "      <td>Sweet Baby Ray's Barbecue Sauce</td>\n",
              "      <td>True</td>\n",
              "      <td>True</td>\n",
              "      <td>1.0</td>\n",
              "    </tr>\n",
              "    <tr>\n",
              "      <th>3769</th>\n",
              "      <td>3769</td>\n",
              "      <td>95105</td>\n",
              "      <td>6942</td>\n",
              "      <td>Candy Canes</td>\n",
              "      <td>Candy canes</td>\n",
              "      <td>True</td>\n",
              "      <td>True</td>\n",
              "      <td>1.0</td>\n",
              "    </tr>\n",
              "    <tr>\n",
              "      <th>15472</th>\n",
              "      <td>15472</td>\n",
              "      <td>83092</td>\n",
              "      <td>28005</td>\n",
              "      <td>Jammie Dodgers</td>\n",
              "      <td>Jammie dodgers</td>\n",
              "      <td>True</td>\n",
              "      <td>True</td>\n",
              "      <td>1.0</td>\n",
              "    </tr>\n",
              "    <tr>\n",
              "      <th>15474</th>\n",
              "      <td>15474</td>\n",
              "      <td>102044</td>\n",
              "      <td>28006</td>\n",
              "      <td>Cadbury Fingers Milk Chocolate Biscuits</td>\n",
              "      <td>Cadbury Fingers Milk Chocolate Biscuits</td>\n",
              "      <td>True</td>\n",
              "      <td>True</td>\n",
              "      <td>1.0</td>\n",
              "    </tr>\n",
              "    <tr>\n",
              "      <th>22606</th>\n",
              "      <td>22606</td>\n",
              "      <td>23100</td>\n",
              "      <td>41077</td>\n",
              "      <td>Diet Coke</td>\n",
              "      <td>Diet Coke</td>\n",
              "      <td>True</td>\n",
              "      <td>True</td>\n",
              "      <td>1.0</td>\n",
              "    </tr>\n",
              "    <tr>\n",
              "      <th>...</th>\n",
              "      <td>...</td>\n",
              "      <td>...</td>\n",
              "      <td>...</td>\n",
              "      <td>...</td>\n",
              "      <td>...</td>\n",
              "      <td>...</td>\n",
              "      <td>...</td>\n",
              "      <td>...</td>\n",
              "    </tr>\n",
              "    <tr>\n",
              "      <th>139572</th>\n",
              "      <td>139572</td>\n",
              "      <td>75976</td>\n",
              "      <td>225710</td>\n",
              "      <td>M&amp;S Somerset Vintage Cider</td>\n",
              "      <td>Somerset Vintage Cider</td>\n",
              "      <td>False</td>\n",
              "      <td>False</td>\n",
              "      <td>0.6</td>\n",
              "    </tr>\n",
              "    <tr>\n",
              "      <th>139573</th>\n",
              "      <td>139573</td>\n",
              "      <td>120190</td>\n",
              "      <td>225710</td>\n",
              "      <td>Chaplin &amp; Corks Somerset Vintage Cider</td>\n",
              "      <td>Somerset Vintage Cider</td>\n",
              "      <td>False</td>\n",
              "      <td>False</td>\n",
              "      <td>0.6</td>\n",
              "    </tr>\n",
              "    <tr>\n",
              "      <th>140308</th>\n",
              "      <td>140308</td>\n",
              "      <td>48791</td>\n",
              "      <td>227092</td>\n",
              "      <td>Lynx Africa Body Spray Deodorant</td>\n",
              "      <td>Africa Deodorant Spray</td>\n",
              "      <td>False</td>\n",
              "      <td>False</td>\n",
              "      <td>0.6</td>\n",
              "    </tr>\n",
              "    <tr>\n",
              "      <th>140330</th>\n",
              "      <td>140330</td>\n",
              "      <td>31699</td>\n",
              "      <td>227182</td>\n",
              "      <td>Woods Old Navy Rum</td>\n",
              "      <td>Old Captain Navy Rum</td>\n",
              "      <td>False</td>\n",
              "      <td>False</td>\n",
              "      <td>0.6</td>\n",
              "    </tr>\n",
              "    <tr>\n",
              "      <th>140331</th>\n",
              "      <td>140331</td>\n",
              "      <td>117821</td>\n",
              "      <td>227182</td>\n",
              "      <td>Woods Old Navy Rum</td>\n",
              "      <td>Old Captain Navy Rum</td>\n",
              "      <td>False</td>\n",
              "      <td>False</td>\n",
              "      <td>0.6</td>\n",
              "    </tr>\n",
              "  </tbody>\n",
              "</table>\n",
              "<p>14262 rows × 8 columns</p>\n",
              "</div>\n",
              "      <button class=\"colab-df-convert\" onclick=\"convertToInteractive('df-618dcb51-721f-4775-b0c3-3bd67a05ddad')\"\n",
              "              title=\"Convert this dataframe to an interactive table.\"\n",
              "              style=\"display:none;\">\n",
              "        \n",
              "  <svg xmlns=\"http://www.w3.org/2000/svg\" height=\"24px\"viewBox=\"0 0 24 24\"\n",
              "       width=\"24px\">\n",
              "    <path d=\"M0 0h24v24H0V0z\" fill=\"none\"/>\n",
              "    <path d=\"M18.56 5.44l.94 2.06.94-2.06 2.06-.94-2.06-.94-.94-2.06-.94 2.06-2.06.94zm-11 1L8.5 8.5l.94-2.06 2.06-.94-2.06-.94L8.5 2.5l-.94 2.06-2.06.94zm10 10l.94 2.06.94-2.06 2.06-.94-2.06-.94-.94-2.06-.94 2.06-2.06.94z\"/><path d=\"M17.41 7.96l-1.37-1.37c-.4-.4-.92-.59-1.43-.59-.52 0-1.04.2-1.43.59L10.3 9.45l-7.72 7.72c-.78.78-.78 2.05 0 2.83L4 21.41c.39.39.9.59 1.41.59.51 0 1.02-.2 1.41-.59l7.78-7.78 2.81-2.81c.8-.78.8-2.07 0-2.86zM5.41 20L4 18.59l7.72-7.72 1.47 1.35L5.41 20z\"/>\n",
              "  </svg>\n",
              "      </button>\n",
              "      \n",
              "  <style>\n",
              "    .colab-df-container {\n",
              "      display:flex;\n",
              "      flex-wrap:wrap;\n",
              "      gap: 12px;\n",
              "    }\n",
              "\n",
              "    .colab-df-convert {\n",
              "      background-color: #E8F0FE;\n",
              "      border: none;\n",
              "      border-radius: 50%;\n",
              "      cursor: pointer;\n",
              "      display: none;\n",
              "      fill: #1967D2;\n",
              "      height: 32px;\n",
              "      padding: 0 0 0 0;\n",
              "      width: 32px;\n",
              "    }\n",
              "\n",
              "    .colab-df-convert:hover {\n",
              "      background-color: #E2EBFA;\n",
              "      box-shadow: 0px 1px 2px rgba(60, 64, 67, 0.3), 0px 1px 3px 1px rgba(60, 64, 67, 0.15);\n",
              "      fill: #174EA6;\n",
              "    }\n",
              "\n",
              "    [theme=dark] .colab-df-convert {\n",
              "      background-color: #3B4455;\n",
              "      fill: #D2E3FC;\n",
              "    }\n",
              "\n",
              "    [theme=dark] .colab-df-convert:hover {\n",
              "      background-color: #434B5C;\n",
              "      box-shadow: 0px 1px 3px 1px rgba(0, 0, 0, 0.15);\n",
              "      filter: drop-shadow(0px 1px 2px rgba(0, 0, 0, 0.3));\n",
              "      fill: #FFFFFF;\n",
              "    }\n",
              "  </style>\n",
              "\n",
              "      <script>\n",
              "        const buttonEl =\n",
              "          document.querySelector('#df-618dcb51-721f-4775-b0c3-3bd67a05ddad button.colab-df-convert');\n",
              "        buttonEl.style.display =\n",
              "          google.colab.kernel.accessAllowed ? 'block' : 'none';\n",
              "\n",
              "        async function convertToInteractive(key) {\n",
              "          const element = document.querySelector('#df-618dcb51-721f-4775-b0c3-3bd67a05ddad');\n",
              "          const dataTable =\n",
              "            await google.colab.kernel.invokeFunction('convertToInteractive',\n",
              "                                                     [key], {});\n",
              "          if (!dataTable) return;\n",
              "\n",
              "          const docLinkHtml = 'Like what you see? Visit the ' +\n",
              "            '<a target=\"_blank\" href=https://colab.research.google.com/notebooks/data_table.ipynb>data table notebook</a>'\n",
              "            + ' to learn more about interactive tables.';\n",
              "          element.innerHTML = '';\n",
              "          dataTable['output_type'] = 'display_data';\n",
              "          await google.colab.output.renderOutput(dataTable, element);\n",
              "          const docLink = document.createElement('div');\n",
              "          docLink.innerHTML = docLinkHtml;\n",
              "          element.appendChild(docLink);\n",
              "        }\n",
              "      </script>\n",
              "    </div>\n",
              "  </div>\n",
              "  "
            ]
          },
          "metadata": {},
          "execution_count": 32
        }
      ]
    },
    {
      "cell_type": "markdown",
      "source": [
        "### Join the prices with nutrition\n",
        "Now we have the matching table, lets make use of that to join the prices table and nutrition table together! For this, we will use [df.merge](https://pandas.pydata.org/docs/reference/api/pandas.DataFrame.merge.html), which joins 2 tables together based on their ids."
      ],
      "metadata": {
        "id": "huPd5C5F4-f_"
      }
    },
    {
      "cell_type": "code",
      "source": [
        "#join the prices with the pairs table\n",
        "price_pair_df = price_df.merge(deduped_pairs,left_on='id',right_on='l_id')\n",
        "\n",
        "#join the combined table with the nutrition table - look carefully to make sure you use the right ids\n",
        "combined_df = \n",
        "combined_df"
      ],
      "metadata": {
        "id": "IFimzYRR-YWz",
        "outputId": "9198c707-9b8f-497f-b5b1-927cc9065ded",
        "colab": {
          "base_uri": "https://localhost:8080/",
          "height": 132
        }
      },
      "execution_count": 33,
      "outputs": [
        {
          "output_type": "error",
          "ename": "SyntaxError",
          "evalue": "ignored",
          "traceback": [
            "\u001b[0;36m  File \u001b[0;32m\"<ipython-input-33-fdbae356151a>\"\u001b[0;36m, line \u001b[0;32m5\u001b[0m\n\u001b[0;31m    combined_df =\u001b[0m\n\u001b[0m                  ^\u001b[0m\n\u001b[0;31mSyntaxError\u001b[0m\u001b[0;31m:\u001b[0m invalid syntax\n"
          ]
        }
      ]
    },
    {
      "cell_type": "markdown",
      "source": [
        "### Looking at nutrition and prices\n",
        "\n",
        "Next, lets use our new table to find out what the cheapest products are for the nutritional value they provide!\n",
        "\n",
        "First, lets increase the amount of data we can see to better see our results:"
      ],
      "metadata": {
        "id": "dq8vOY82Ekx1"
      }
    },
    {
      "cell_type": "code",
      "source": [
        "pd.set_option('display.max_columns', 100)\n",
        "pd.set_option('display.max_rows', 100)"
      ],
      "metadata": {
        "id": "ohVUzlFuFTpi"
      },
      "execution_count": 34,
      "outputs": []
    },
    {
      "cell_type": "markdown",
      "source": [
        "Next, we should filter the combined table to remove missing data, and pick only the most nutritious food. \n",
        "\n",
        "We will also need to make sure both the price and nutrition are using the same units (per 100g).\n",
        "\n",
        "The `&` operator here is combining 2 true/false series together! \n",
        "\n",
        "- If **all** the values are True in the same row for each series, it returns True.\n",
        "- If **any** of the values for that row is False, it will return False."
      ],
      "metadata": {
        "id": "HUuwiVTdFrsJ"
      }
    },
    {
      "cell_type": "code",
      "source": [
        "combined_filter = (\n",
        "    combined_df['price_unit_amount'] == 100\n",
        "    ) & (combined_df['nutriments.energy-kcal_100g'].notna()\n",
        "    ) & (combined_df['nutriments.energy-kcal_100g'] > 0\n",
        "    ) & (combined_df['price_per_unit'] > 0\n",
        "    ) & (combined_df['nutriscore_grade'].isin(['a','b'])\n",
        ")\n",
        "\n",
        "df_to_analyse = combined_df[combined_filter].copy(deep=True)"
      ],
      "metadata": {
        "id": "bQgv4QUCFq1J",
        "outputId": "08ba835e-2b4f-42df-b36f-ea70e15616ca",
        "colab": {
          "base_uri": "https://localhost:8080/",
          "height": 239
        }
      },
      "execution_count": 35,
      "outputs": [
        {
          "output_type": "error",
          "ename": "NameError",
          "evalue": "ignored",
          "traceback": [
            "\u001b[0;31m---------------------------------------------------------------------------\u001b[0m",
            "\u001b[0;31mNameError\u001b[0m                                 Traceback (most recent call last)",
            "\u001b[0;32m<ipython-input-35-6f303b0dae24>\u001b[0m in \u001b[0;36m<module>\u001b[0;34m\u001b[0m\n\u001b[1;32m      4\u001b[0m     \u001b[0;34m)\u001b[0m \u001b[0;34m&\u001b[0m \u001b[0;34m(\u001b[0m\u001b[0mcombined_df\u001b[0m\u001b[0;34m[\u001b[0m\u001b[0;34m'nutriments.energy-kcal_100g'\u001b[0m\u001b[0;34m]\u001b[0m \u001b[0;34m>\u001b[0m \u001b[0;36m0\u001b[0m\u001b[0;34m\u001b[0m\u001b[0;34m\u001b[0m\u001b[0m\n\u001b[1;32m      5\u001b[0m     \u001b[0;34m)\u001b[0m \u001b[0;34m&\u001b[0m \u001b[0;34m(\u001b[0m\u001b[0mcombined_df\u001b[0m\u001b[0;34m[\u001b[0m\u001b[0;34m'price_per_unit'\u001b[0m\u001b[0;34m]\u001b[0m \u001b[0;34m>\u001b[0m \u001b[0;36m0\u001b[0m\u001b[0;34m\u001b[0m\u001b[0;34m\u001b[0m\u001b[0m\n\u001b[0;32m----> 6\u001b[0;31m     \u001b[0;34m)\u001b[0m \u001b[0;34m&\u001b[0m \u001b[0;34m(\u001b[0m\u001b[0mcombined_df\u001b[0m\u001b[0;34m[\u001b[0m\u001b[0;34m'nutriscore_grade'\u001b[0m\u001b[0;34m]\u001b[0m\u001b[0;34m.\u001b[0m\u001b[0misin\u001b[0m\u001b[0;34m(\u001b[0m\u001b[0;34m[\u001b[0m\u001b[0;34m'a'\u001b[0m\u001b[0;34m,\u001b[0m\u001b[0;34m'b'\u001b[0m\u001b[0;34m]\u001b[0m\u001b[0;34m)\u001b[0m\u001b[0;34m\u001b[0m\u001b[0;34m\u001b[0m\u001b[0m\n\u001b[0m\u001b[1;32m      7\u001b[0m )\n\u001b[1;32m      8\u001b[0m \u001b[0;34m\u001b[0m\u001b[0m\n",
            "\u001b[0;31mNameError\u001b[0m: name 'combined_df' is not defined"
          ]
        }
      ]
    },
    {
      "cell_type": "markdown",
      "source": [
        "Next, let create a new column to work out the cost for a full days worth of calories from each product, and use it to find the cheapest products"
      ],
      "metadata": {
        "id": "hHe1Is2eFWec"
      }
    },
    {
      "cell_type": "code",
      "source": [
        "#Work out the price per 2000 calories for each product\n",
        "df_to_analyse['price_per_2000kcal'] = # perform a calculation here!\n",
        "df_to_analyse.sort_values('price_per_2000kcal').head(100)"
      ],
      "metadata": {
        "id": "aRbILJimAzvx"
      },
      "execution_count": null,
      "outputs": []
    },
    {
      "cell_type": "markdown",
      "source": [
        "You can now also have a look at the other nutrition columns to see if other foods are better for other types of nutrition."
      ],
      "metadata": {
        "id": "pZ7ijXNsGX5q"
      }
    },
    {
      "cell_type": "code",
      "source": [
        "#Try this out for another nutrient"
      ],
      "metadata": {
        "id": "ej4ahHC9FU-c"
      },
      "execution_count": null,
      "outputs": []
    },
    {
      "cell_type": "markdown",
      "source": [
        "What do you think of the results you've found so far? Would you actually change what you eat based on it?"
      ],
      "metadata": {
        "id": "bsZrWhD0UQuG"
      }
    },
    {
      "cell_type": "markdown",
      "source": [
        "## Task 4 (Optional) - Categorising the products"
      ],
      "metadata": {
        "id": "2Z2OGrSKaVhY"
      }
    },
    {
      "cell_type": "markdown",
      "source": [
        "Rather than forcing people to change what they eat, an alternative approach to saving money is picking alternative items for whats in their basket.\n",
        "\n",
        "For example, most supermarkets have their own brand of milk, which only they sell:"
      ],
      "metadata": {
        "id": "q940TeiaOdjf"
      }
    },
    {
      "cell_type": "code",
      "source": [
        "product_df[product_df['id'] == 43060]"
      ],
      "metadata": {
        "id": "bPtWHR7oSg1-",
        "outputId": "0c0e48d0-c9bb-4bee-d020-d7f850efbc9a",
        "colab": {
          "base_uri": "https://localhost:8080/",
          "height": 80
        }
      },
      "execution_count": 36,
      "outputs": [
        {
          "output_type": "execute_result",
          "data": {
            "text/plain": [
              "          id                                          name  measure_quantity  \\\n",
              "20239  43060  Sainsbury's British Whole Milk 3.4L (6 pint)               NaN   \n",
              "\n",
              "      measure_amount measure_unit        skus  price_count  \\\n",
              "20239           3400           ml  ['425605']            1   \n",
              "\n",
              "                                         name_lower  \n",
              "20239  sainsbury's british whole milk 3.4l (6 pint)  "
            ],
            "text/html": [
              "\n",
              "  <div id=\"df-885ac185-a4a5-4499-9cc2-ee8b3ff61cbc\">\n",
              "    <div class=\"colab-df-container\">\n",
              "      <div>\n",
              "<style scoped>\n",
              "    .dataframe tbody tr th:only-of-type {\n",
              "        vertical-align: middle;\n",
              "    }\n",
              "\n",
              "    .dataframe tbody tr th {\n",
              "        vertical-align: top;\n",
              "    }\n",
              "\n",
              "    .dataframe thead th {\n",
              "        text-align: right;\n",
              "    }\n",
              "</style>\n",
              "<table border=\"1\" class=\"dataframe\">\n",
              "  <thead>\n",
              "    <tr style=\"text-align: right;\">\n",
              "      <th></th>\n",
              "      <th>id</th>\n",
              "      <th>name</th>\n",
              "      <th>measure_quantity</th>\n",
              "      <th>measure_amount</th>\n",
              "      <th>measure_unit</th>\n",
              "      <th>skus</th>\n",
              "      <th>price_count</th>\n",
              "      <th>name_lower</th>\n",
              "    </tr>\n",
              "  </thead>\n",
              "  <tbody>\n",
              "    <tr>\n",
              "      <th>20239</th>\n",
              "      <td>43060</td>\n",
              "      <td>Sainsbury's British Whole Milk 3.4L (6 pint)</td>\n",
              "      <td>NaN</td>\n",
              "      <td>3400</td>\n",
              "      <td>ml</td>\n",
              "      <td>['425605']</td>\n",
              "      <td>1</td>\n",
              "      <td>sainsbury's british whole milk 3.4l (6 pint)</td>\n",
              "    </tr>\n",
              "  </tbody>\n",
              "</table>\n",
              "</div>\n",
              "      <button class=\"colab-df-convert\" onclick=\"convertToInteractive('df-885ac185-a4a5-4499-9cc2-ee8b3ff61cbc')\"\n",
              "              title=\"Convert this dataframe to an interactive table.\"\n",
              "              style=\"display:none;\">\n",
              "        \n",
              "  <svg xmlns=\"http://www.w3.org/2000/svg\" height=\"24px\"viewBox=\"0 0 24 24\"\n",
              "       width=\"24px\">\n",
              "    <path d=\"M0 0h24v24H0V0z\" fill=\"none\"/>\n",
              "    <path d=\"M18.56 5.44l.94 2.06.94-2.06 2.06-.94-2.06-.94-.94-2.06-.94 2.06-2.06.94zm-11 1L8.5 8.5l.94-2.06 2.06-.94-2.06-.94L8.5 2.5l-.94 2.06-2.06.94zm10 10l.94 2.06.94-2.06 2.06-.94-2.06-.94-.94-2.06-.94 2.06-2.06.94z\"/><path d=\"M17.41 7.96l-1.37-1.37c-.4-.4-.92-.59-1.43-.59-.52 0-1.04.2-1.43.59L10.3 9.45l-7.72 7.72c-.78.78-.78 2.05 0 2.83L4 21.41c.39.39.9.59 1.41.59.51 0 1.02-.2 1.41-.59l7.78-7.78 2.81-2.81c.8-.78.8-2.07 0-2.86zM5.41 20L4 18.59l7.72-7.72 1.47 1.35L5.41 20z\"/>\n",
              "  </svg>\n",
              "      </button>\n",
              "      \n",
              "  <style>\n",
              "    .colab-df-container {\n",
              "      display:flex;\n",
              "      flex-wrap:wrap;\n",
              "      gap: 12px;\n",
              "    }\n",
              "\n",
              "    .colab-df-convert {\n",
              "      background-color: #E8F0FE;\n",
              "      border: none;\n",
              "      border-radius: 50%;\n",
              "      cursor: pointer;\n",
              "      display: none;\n",
              "      fill: #1967D2;\n",
              "      height: 32px;\n",
              "      padding: 0 0 0 0;\n",
              "      width: 32px;\n",
              "    }\n",
              "\n",
              "    .colab-df-convert:hover {\n",
              "      background-color: #E2EBFA;\n",
              "      box-shadow: 0px 1px 2px rgba(60, 64, 67, 0.3), 0px 1px 3px 1px rgba(60, 64, 67, 0.15);\n",
              "      fill: #174EA6;\n",
              "    }\n",
              "\n",
              "    [theme=dark] .colab-df-convert {\n",
              "      background-color: #3B4455;\n",
              "      fill: #D2E3FC;\n",
              "    }\n",
              "\n",
              "    [theme=dark] .colab-df-convert:hover {\n",
              "      background-color: #434B5C;\n",
              "      box-shadow: 0px 1px 3px 1px rgba(0, 0, 0, 0.15);\n",
              "      filter: drop-shadow(0px 1px 2px rgba(0, 0, 0, 0.3));\n",
              "      fill: #FFFFFF;\n",
              "    }\n",
              "  </style>\n",
              "\n",
              "      <script>\n",
              "        const buttonEl =\n",
              "          document.querySelector('#df-885ac185-a4a5-4499-9cc2-ee8b3ff61cbc button.colab-df-convert');\n",
              "        buttonEl.style.display =\n",
              "          google.colab.kernel.accessAllowed ? 'block' : 'none';\n",
              "\n",
              "        async function convertToInteractive(key) {\n",
              "          const element = document.querySelector('#df-885ac185-a4a5-4499-9cc2-ee8b3ff61cbc');\n",
              "          const dataTable =\n",
              "            await google.colab.kernel.invokeFunction('convertToInteractive',\n",
              "                                                     [key], {});\n",
              "          if (!dataTable) return;\n",
              "\n",
              "          const docLinkHtml = 'Like what you see? Visit the ' +\n",
              "            '<a target=\"_blank\" href=https://colab.research.google.com/notebooks/data_table.ipynb>data table notebook</a>'\n",
              "            + ' to learn more about interactive tables.';\n",
              "          element.innerHTML = '';\n",
              "          dataTable['output_type'] = 'display_data';\n",
              "          await google.colab.output.renderOutput(dataTable, element);\n",
              "          const docLink = document.createElement('div');\n",
              "          docLink.innerHTML = docLinkHtml;\n",
              "          element.appendChild(docLink);\n",
              "        }\n",
              "      </script>\n",
              "    </div>\n",
              "  </div>\n",
              "  "
            ]
          },
          "metadata": {},
          "execution_count": 36
        }
      ]
    },
    {
      "cell_type": "markdown",
      "source": [
        "This makes it difficult to directly compare Sainsbury's milk with Tesco's milk for example, using our current prices dataframe.\n",
        "\n",
        "It also makes it difficult to compare different quantities (e.g. 4 pints of milk vs 6 pints of milk), to find what is actually cheaper.\n",
        "\n",
        "###Using Categories\n",
        "\n",
        "However, if we take a look at the nutrition dataframe, we can see that in the field `categories_hierarchy`, we do have categories!\n"
      ],
      "metadata": {
        "id": "ZBCLLd4PTE9-"
      }
    },
    {
      "cell_type": "code",
      "source": [
        "nutrition_df[nutrition_df['categories_hierarchy'].notna()].head(5)"
      ],
      "metadata": {
        "id": "ZC-VahQhXrtm",
        "outputId": "273bfcfc-1919-4c94-9a79-60a92cf2873d",
        "colab": {
          "base_uri": "https://localhost:8080/",
          "height": 878
        }
      },
      "execution_count": 37,
      "outputs": [
        {
          "output_type": "execute_result",
          "data": {
            "text/plain": [
              "     Unnamed: 0       _id              product_name   compared_to_category  \\\n",
              "46           57     30717   Organic Baby Lima Beans        en:butter-beans   \n",
              "118         145     43595               Cranberries         en:cranberries   \n",
              "149         185  20043131        Sliced Plain Bagel        en:bagel-breads   \n",
              "152         195  20047825            Apple Turnover     en:apple-turnovers   \n",
              "156         205  27533024  Luxury Christmas Pudding  en:christmas-puddings   \n",
              "\n",
              "                                                                                         categories_tags  \\\n",
              "46   [\"en:plant-based-foods-and-beverages\",\"en:plant-based-foods\",\"en:legumes-and-their-products\",\"en...   \n",
              "118  [\"en:plant-based-foods-and-beverages\",\"en:plant-based-foods\",\"en:fruits-and-vegetables-based-foo...   \n",
              "149  [\"en:plant-based-foods-and-beverages\",\"en:plant-based-foods\",\"en:cereals-and-potatoes\",\"en:bread...   \n",
              "152                              [\"en:snacks\",\"en:sweet-snacks\",\"en:viennoiseries\",\"en:apple-turnovers\"]   \n",
              "156                                                [\"en:desserts\",\"en:puddings\",\"en:christmas-puddings\"]   \n",
              "\n",
              "                                                                                              categories  \\\n",
              "46   Plant-based foods and beverages, Plant-based foods, Legumes and their products, Legumes, Seeds, ...   \n",
              "118  Plant-based foods and beverages, Plant-based foods, Fruits and vegetables based foods, Fruits ba...   \n",
              "149  Plant-based foods and beverages, Plant-based foods, Cereals and potatoes, Breads, Special breads...   \n",
              "152                                                 Snacks, Sweet snacks, Viennoiseries, Apple turnovers   \n",
              "156                                                               Desserts, Puddings, Christmas Puddings   \n",
              "\n",
              "                                                                                    categories_hierarchy  \\\n",
              "46   [\"en:plant-based-foods-and-beverages\",\"en:plant-based-foods\",\"en:legumes-and-their-products\",\"en...   \n",
              "118  [\"en:plant-based-foods-and-beverages\",\"en:plant-based-foods\",\"en:fruits-and-vegetables-based-foo...   \n",
              "149  [\"en:plant-based-foods-and-beverages\",\"en:plant-based-foods\",\"en:cereals-and-potatoes\",\"en:bread...   \n",
              "152                              [\"en:snacks\",\"en:sweet-snacks\",\"en:viennoiseries\",\"en:apple-turnovers\"]   \n",
              "156                                                [\"en:desserts\",\"en:puddings\",\"en:christmas-puddings\"]   \n",
              "\n",
              "                                                                                               _keywords  \\\n",
              "46   [\"organic\",\"and\",\"pulse\",\"legume\",\"plant-based\",\"baby\",\"beverage\",\"unfi\",\"butter\",\"seed\",\"produc...   \n",
              "118                                                                      [\"cranberrie\",\"torn\",\"glasser\"]   \n",
              "149                                                     [\"pain\",\"fresh\",\"sliced\",\"plain\",\"easy\",\"bagel\"]   \n",
              "152                                                 [\"turnover\",\"easy\",\"fresh\",\"apple\",\"apple-turnover\"]   \n",
              "156                                   [\"pudding\",\"luxury\",\"special\",\"christma\",\"dessert\",\"extra\",\"asda\"]   \n",
              "\n",
              "     nutriments.fat_100g  nutriments.proteins_100g  nutriments.sugars_100g  \\\n",
              "46                   NaN                     20.00                    8.89   \n",
              "118                 0.00                      0.00                   66.67   \n",
              "149                 1.18                     12.94                    4.71   \n",
              "152                22.35                      4.71                   15.29   \n",
              "156                 7.00                      3.90                   44.00   \n",
              "\n",
              "     nutriments.salt_100g  nutriments.energy-kcal_100g  \\\n",
              "46                0.02794                        333.0   \n",
              "118               0.00000                        300.0   \n",
              "149               1.19634                        365.0   \n",
              "152               0.80772                        388.0   \n",
              "156               0.20000                          NaN   \n",
              "\n",
              "     nutriments.carbohydrates_100g nutriscore_grade  nutriscore_score  \\\n",
              "46                           62.22              NaN               NaN   \n",
              "118                          83.33                c               3.0   \n",
              "149                          71.76                c               3.0   \n",
              "152                          42.35                d              18.0   \n",
              "156                          54.20                d              11.0   \n",
              "\n",
              "            countries_tags  new_key_attr  uid  has_nutritional_info  is_uk  \\\n",
              "46    [\"en:united-states\"]            57   46                  True  False   \n",
              "118   [\"en:united-states\"]           145  118                  True  False   \n",
              "149   [\"en:united-states\"]           185  149                  True  False   \n",
              "152   [\"en:united-states\"]           195  152                  True  False   \n",
              "156  [\"en:united-kingdom\"]           205  156                  True   True   \n",
              "\n",
              "           product_name_lower  \n",
              "46    organic baby lima beans  \n",
              "118               cranberries  \n",
              "149        sliced plain bagel  \n",
              "152            apple turnover  \n",
              "156  luxury christmas pudding  "
            ],
            "text/html": [
              "\n",
              "  <div id=\"df-1c06602b-adc4-404f-ace2-126caa7c70ac\">\n",
              "    <div class=\"colab-df-container\">\n",
              "      <div>\n",
              "<style scoped>\n",
              "    .dataframe tbody tr th:only-of-type {\n",
              "        vertical-align: middle;\n",
              "    }\n",
              "\n",
              "    .dataframe tbody tr th {\n",
              "        vertical-align: top;\n",
              "    }\n",
              "\n",
              "    .dataframe thead th {\n",
              "        text-align: right;\n",
              "    }\n",
              "</style>\n",
              "<table border=\"1\" class=\"dataframe\">\n",
              "  <thead>\n",
              "    <tr style=\"text-align: right;\">\n",
              "      <th></th>\n",
              "      <th>Unnamed: 0</th>\n",
              "      <th>_id</th>\n",
              "      <th>product_name</th>\n",
              "      <th>compared_to_category</th>\n",
              "      <th>categories_tags</th>\n",
              "      <th>categories</th>\n",
              "      <th>categories_hierarchy</th>\n",
              "      <th>_keywords</th>\n",
              "      <th>nutriments.fat_100g</th>\n",
              "      <th>nutriments.proteins_100g</th>\n",
              "      <th>nutriments.sugars_100g</th>\n",
              "      <th>nutriments.salt_100g</th>\n",
              "      <th>nutriments.energy-kcal_100g</th>\n",
              "      <th>nutriments.carbohydrates_100g</th>\n",
              "      <th>nutriscore_grade</th>\n",
              "      <th>nutriscore_score</th>\n",
              "      <th>countries_tags</th>\n",
              "      <th>new_key_attr</th>\n",
              "      <th>uid</th>\n",
              "      <th>has_nutritional_info</th>\n",
              "      <th>is_uk</th>\n",
              "      <th>product_name_lower</th>\n",
              "    </tr>\n",
              "  </thead>\n",
              "  <tbody>\n",
              "    <tr>\n",
              "      <th>46</th>\n",
              "      <td>57</td>\n",
              "      <td>30717</td>\n",
              "      <td>Organic Baby Lima Beans</td>\n",
              "      <td>en:butter-beans</td>\n",
              "      <td>[\"en:plant-based-foods-and-beverages\",\"en:plant-based-foods\",\"en:legumes-and-their-products\",\"en...</td>\n",
              "      <td>Plant-based foods and beverages, Plant-based foods, Legumes and their products, Legumes, Seeds, ...</td>\n",
              "      <td>[\"en:plant-based-foods-and-beverages\",\"en:plant-based-foods\",\"en:legumes-and-their-products\",\"en...</td>\n",
              "      <td>[\"organic\",\"and\",\"pulse\",\"legume\",\"plant-based\",\"baby\",\"beverage\",\"unfi\",\"butter\",\"seed\",\"produc...</td>\n",
              "      <td>NaN</td>\n",
              "      <td>20.00</td>\n",
              "      <td>8.89</td>\n",
              "      <td>0.02794</td>\n",
              "      <td>333.0</td>\n",
              "      <td>62.22</td>\n",
              "      <td>NaN</td>\n",
              "      <td>NaN</td>\n",
              "      <td>[\"en:united-states\"]</td>\n",
              "      <td>57</td>\n",
              "      <td>46</td>\n",
              "      <td>True</td>\n",
              "      <td>False</td>\n",
              "      <td>organic baby lima beans</td>\n",
              "    </tr>\n",
              "    <tr>\n",
              "      <th>118</th>\n",
              "      <td>145</td>\n",
              "      <td>43595</td>\n",
              "      <td>Cranberries</td>\n",
              "      <td>en:cranberries</td>\n",
              "      <td>[\"en:plant-based-foods-and-beverages\",\"en:plant-based-foods\",\"en:fruits-and-vegetables-based-foo...</td>\n",
              "      <td>Plant-based foods and beverages, Plant-based foods, Fruits and vegetables based foods, Fruits ba...</td>\n",
              "      <td>[\"en:plant-based-foods-and-beverages\",\"en:plant-based-foods\",\"en:fruits-and-vegetables-based-foo...</td>\n",
              "      <td>[\"cranberrie\",\"torn\",\"glasser\"]</td>\n",
              "      <td>0.00</td>\n",
              "      <td>0.00</td>\n",
              "      <td>66.67</td>\n",
              "      <td>0.00000</td>\n",
              "      <td>300.0</td>\n",
              "      <td>83.33</td>\n",
              "      <td>c</td>\n",
              "      <td>3.0</td>\n",
              "      <td>[\"en:united-states\"]</td>\n",
              "      <td>145</td>\n",
              "      <td>118</td>\n",
              "      <td>True</td>\n",
              "      <td>False</td>\n",
              "      <td>cranberries</td>\n",
              "    </tr>\n",
              "    <tr>\n",
              "      <th>149</th>\n",
              "      <td>185</td>\n",
              "      <td>20043131</td>\n",
              "      <td>Sliced Plain Bagel</td>\n",
              "      <td>en:bagel-breads</td>\n",
              "      <td>[\"en:plant-based-foods-and-beverages\",\"en:plant-based-foods\",\"en:cereals-and-potatoes\",\"en:bread...</td>\n",
              "      <td>Plant-based foods and beverages, Plant-based foods, Cereals and potatoes, Breads, Special breads...</td>\n",
              "      <td>[\"en:plant-based-foods-and-beverages\",\"en:plant-based-foods\",\"en:cereals-and-potatoes\",\"en:bread...</td>\n",
              "      <td>[\"pain\",\"fresh\",\"sliced\",\"plain\",\"easy\",\"bagel\"]</td>\n",
              "      <td>1.18</td>\n",
              "      <td>12.94</td>\n",
              "      <td>4.71</td>\n",
              "      <td>1.19634</td>\n",
              "      <td>365.0</td>\n",
              "      <td>71.76</td>\n",
              "      <td>c</td>\n",
              "      <td>3.0</td>\n",
              "      <td>[\"en:united-states\"]</td>\n",
              "      <td>185</td>\n",
              "      <td>149</td>\n",
              "      <td>True</td>\n",
              "      <td>False</td>\n",
              "      <td>sliced plain bagel</td>\n",
              "    </tr>\n",
              "    <tr>\n",
              "      <th>152</th>\n",
              "      <td>195</td>\n",
              "      <td>20047825</td>\n",
              "      <td>Apple Turnover</td>\n",
              "      <td>en:apple-turnovers</td>\n",
              "      <td>[\"en:snacks\",\"en:sweet-snacks\",\"en:viennoiseries\",\"en:apple-turnovers\"]</td>\n",
              "      <td>Snacks, Sweet snacks, Viennoiseries, Apple turnovers</td>\n",
              "      <td>[\"en:snacks\",\"en:sweet-snacks\",\"en:viennoiseries\",\"en:apple-turnovers\"]</td>\n",
              "      <td>[\"turnover\",\"easy\",\"fresh\",\"apple\",\"apple-turnover\"]</td>\n",
              "      <td>22.35</td>\n",
              "      <td>4.71</td>\n",
              "      <td>15.29</td>\n",
              "      <td>0.80772</td>\n",
              "      <td>388.0</td>\n",
              "      <td>42.35</td>\n",
              "      <td>d</td>\n",
              "      <td>18.0</td>\n",
              "      <td>[\"en:united-states\"]</td>\n",
              "      <td>195</td>\n",
              "      <td>152</td>\n",
              "      <td>True</td>\n",
              "      <td>False</td>\n",
              "      <td>apple turnover</td>\n",
              "    </tr>\n",
              "    <tr>\n",
              "      <th>156</th>\n",
              "      <td>205</td>\n",
              "      <td>27533024</td>\n",
              "      <td>Luxury Christmas Pudding</td>\n",
              "      <td>en:christmas-puddings</td>\n",
              "      <td>[\"en:desserts\",\"en:puddings\",\"en:christmas-puddings\"]</td>\n",
              "      <td>Desserts, Puddings, Christmas Puddings</td>\n",
              "      <td>[\"en:desserts\",\"en:puddings\",\"en:christmas-puddings\"]</td>\n",
              "      <td>[\"pudding\",\"luxury\",\"special\",\"christma\",\"dessert\",\"extra\",\"asda\"]</td>\n",
              "      <td>7.00</td>\n",
              "      <td>3.90</td>\n",
              "      <td>44.00</td>\n",
              "      <td>0.20000</td>\n",
              "      <td>NaN</td>\n",
              "      <td>54.20</td>\n",
              "      <td>d</td>\n",
              "      <td>11.0</td>\n",
              "      <td>[\"en:united-kingdom\"]</td>\n",
              "      <td>205</td>\n",
              "      <td>156</td>\n",
              "      <td>True</td>\n",
              "      <td>True</td>\n",
              "      <td>luxury christmas pudding</td>\n",
              "    </tr>\n",
              "  </tbody>\n",
              "</table>\n",
              "</div>\n",
              "      <button class=\"colab-df-convert\" onclick=\"convertToInteractive('df-1c06602b-adc4-404f-ace2-126caa7c70ac')\"\n",
              "              title=\"Convert this dataframe to an interactive table.\"\n",
              "              style=\"display:none;\">\n",
              "        \n",
              "  <svg xmlns=\"http://www.w3.org/2000/svg\" height=\"24px\"viewBox=\"0 0 24 24\"\n",
              "       width=\"24px\">\n",
              "    <path d=\"M0 0h24v24H0V0z\" fill=\"none\"/>\n",
              "    <path d=\"M18.56 5.44l.94 2.06.94-2.06 2.06-.94-2.06-.94-.94-2.06-.94 2.06-2.06.94zm-11 1L8.5 8.5l.94-2.06 2.06-.94-2.06-.94L8.5 2.5l-.94 2.06-2.06.94zm10 10l.94 2.06.94-2.06 2.06-.94-2.06-.94-.94-2.06-.94 2.06-2.06.94z\"/><path d=\"M17.41 7.96l-1.37-1.37c-.4-.4-.92-.59-1.43-.59-.52 0-1.04.2-1.43.59L10.3 9.45l-7.72 7.72c-.78.78-.78 2.05 0 2.83L4 21.41c.39.39.9.59 1.41.59.51 0 1.02-.2 1.41-.59l7.78-7.78 2.81-2.81c.8-.78.8-2.07 0-2.86zM5.41 20L4 18.59l7.72-7.72 1.47 1.35L5.41 20z\"/>\n",
              "  </svg>\n",
              "      </button>\n",
              "      \n",
              "  <style>\n",
              "    .colab-df-container {\n",
              "      display:flex;\n",
              "      flex-wrap:wrap;\n",
              "      gap: 12px;\n",
              "    }\n",
              "\n",
              "    .colab-df-convert {\n",
              "      background-color: #E8F0FE;\n",
              "      border: none;\n",
              "      border-radius: 50%;\n",
              "      cursor: pointer;\n",
              "      display: none;\n",
              "      fill: #1967D2;\n",
              "      height: 32px;\n",
              "      padding: 0 0 0 0;\n",
              "      width: 32px;\n",
              "    }\n",
              "\n",
              "    .colab-df-convert:hover {\n",
              "      background-color: #E2EBFA;\n",
              "      box-shadow: 0px 1px 2px rgba(60, 64, 67, 0.3), 0px 1px 3px 1px rgba(60, 64, 67, 0.15);\n",
              "      fill: #174EA6;\n",
              "    }\n",
              "\n",
              "    [theme=dark] .colab-df-convert {\n",
              "      background-color: #3B4455;\n",
              "      fill: #D2E3FC;\n",
              "    }\n",
              "\n",
              "    [theme=dark] .colab-df-convert:hover {\n",
              "      background-color: #434B5C;\n",
              "      box-shadow: 0px 1px 3px 1px rgba(0, 0, 0, 0.15);\n",
              "      filter: drop-shadow(0px 1px 2px rgba(0, 0, 0, 0.3));\n",
              "      fill: #FFFFFF;\n",
              "    }\n",
              "  </style>\n",
              "\n",
              "      <script>\n",
              "        const buttonEl =\n",
              "          document.querySelector('#df-1c06602b-adc4-404f-ace2-126caa7c70ac button.colab-df-convert');\n",
              "        buttonEl.style.display =\n",
              "          google.colab.kernel.accessAllowed ? 'block' : 'none';\n",
              "\n",
              "        async function convertToInteractive(key) {\n",
              "          const element = document.querySelector('#df-1c06602b-adc4-404f-ace2-126caa7c70ac');\n",
              "          const dataTable =\n",
              "            await google.colab.kernel.invokeFunction('convertToInteractive',\n",
              "                                                     [key], {});\n",
              "          if (!dataTable) return;\n",
              "\n",
              "          const docLinkHtml = 'Like what you see? Visit the ' +\n",
              "            '<a target=\"_blank\" href=https://colab.research.google.com/notebooks/data_table.ipynb>data table notebook</a>'\n",
              "            + ' to learn more about interactive tables.';\n",
              "          element.innerHTML = '';\n",
              "          dataTable['output_type'] = 'display_data';\n",
              "          await google.colab.output.renderOutput(dataTable, element);\n",
              "          const docLink = document.createElement('div');\n",
              "          docLink.innerHTML = docLinkHtml;\n",
              "          element.appendChild(docLink);\n",
              "        }\n",
              "      </script>\n",
              "    </div>\n",
              "  </div>\n",
              "  "
            ]
          },
          "metadata": {},
          "execution_count": 37
        }
      ]
    },
    {
      "cell_type": "markdown",
      "source": [
        "Our biggest problem here, however, is that a lot of the products from the products data frame don't have a good match to a product in the nutrition dataframe.\n",
        "\n",
        "If only we had a way to take a look at a product's name and figure out what categories it belongs to...\n",
        "\n",
        "###Introducing Classification/Labelling\n",
        "\n",
        "Using the power of machine learning, we can build a model that learns from a dataset of product names, and the categories they belong to, and uses it to predict the categories of new product names!\n",
        "\n",
        "###Data Preparation\n",
        "\n",
        "The first thing we need to do is to clean up and prepare the data so that its ready to be used by a model. The first step here is to turn the categories from a [string](https://docs.python.org/3/library/stdtypes.html#textseq) to a [list](https://docs.python.org/3/library/stdtypes.html#lists) - this will make it easier to use later on, as it makes it easier to access the individual categories for each product."
      ],
      "metadata": {
        "id": "y2Z_t0lAYFyu"
      }
    },
    {
      "cell_type": "code",
      "source": [
        "#The categories are currently saved as a string - this turns them into a list\n",
        "nutrition_df['categories_list'] = nutrition_df['categories_hierarchy'].apply(lambda x: eval(x) if isinstance(x, str) else [])"
      ],
      "metadata": {
        "id": "P8yy8NZRjdyz"
      },
      "execution_count": 38,
      "outputs": []
    },
    {
      "cell_type": "markdown",
      "source": [
        "The next thing we want to do is remove any non english categories, and any products without categories - its important to keep the data we use to only useful information - 'bad' rows will affect our results."
      ],
      "metadata": {
        "id": "WOhI_8RNZ0uJ"
      }
    },
    {
      "cell_type": "code",
      "source": [
        "#We only want to focus on products with english categories - this removes non english categories, and then removes products without categories\n",
        "en_nutrition_df = nutrition_df[nutrition_df['categories_list'].apply(lambda x: (len(x) > 0) and len([not_en for not_en in x if not_en.split(':')[0] != 'en']) == 0)].copy()"
      ],
      "metadata": {
        "id": "lWzzI2H_aq2D"
      },
      "execution_count": 39,
      "outputs": []
    },
    {
      "cell_type": "markdown",
      "source": [
        "For a model to learn how to categorize products correctly, it will need lots of examples to learn from! \n",
        "\n",
        "If it doesn't have enough examples for each category, it won't be able to correctly identify that category, and that will affect the other results as well.\n",
        "\n",
        "The next stage is to figure out which categories to use by counting how many examples we have for each one, and creating a list of categories to use, based on a minimum count. Try experimenting the the minimum count to see how it affects results."
      ],
      "metadata": {
        "id": "NrB7zEAHaspc"
      }
    },
    {
      "cell_type": "code",
      "source": [
        "# This is the minimum number of examples there has to be of each category for it to be included in our model.\n",
        "minimum_count_threshold = 200\n",
        "\n",
        "terms_list = []\n",
        "for category_list in en_nutrition_df['categories_list']:\n",
        "  for c in category_list:\n",
        "    terms_list.append(c)\n",
        "len(terms_list)\n",
        "\n",
        "categories_df = pd.DataFrame(terms_list, columns=['category'])\n",
        "column_counts = categories_df.groupby('category').size().reset_index(name='count')\n",
        "categories_to_use = column_counts[column_counts['count'] > minimum_count_threshold]\n",
        "categories_to_use.values"
      ],
      "metadata": {
        "id": "oJH9aCfKaS2F",
        "outputId": "9207f8b9-f78e-4138-e6b8-235caa43bb3c",
        "colab": {
          "base_uri": "https://localhost:8080/"
        }
      },
      "execution_count": 40,
      "outputs": [
        {
          "output_type": "execute_result",
          "data": {
            "text/plain": [
              "array([['en:Baking decorations', 523],\n",
              "       ['en:Mexican Dinner Mixes', 345],\n",
              "       ['en:Salted snacks', 1926],\n",
              "       ['en:Vegetable mixes', 337],\n",
              "       ['en:alcoholic-beverages', 1048],\n",
              "       ['en:almonds', 294],\n",
              "       ['en:animal-fats', 303],\n",
              "       ['en:appetizers', 1390],\n",
              "       ['en:apple-juices', 281],\n",
              "       ['en:artificially-sweetened-beverages', 422],\n",
              "       ['en:barbecue-sauces', 300],\n",
              "       ['en:bars', 678],\n",
              "       ['en:bee-products', 722],\n",
              "       ['en:beef-jerkies', 288],\n",
              "       ['en:beers', 365],\n",
              "       ['en:berries', 232],\n",
              "       ['en:berry-jams', 214],\n",
              "       ['en:beverages', 12770],\n",
              "       ['en:biscuits', 2992],\n",
              "       ['en:biscuits-and-cakes', 6557],\n",
              "       ['en:bodybuilding-supplements', 553],\n",
              "       ['en:bonbons', 323],\n",
              "       ['en:breaded-products', 234],\n",
              "       ['en:breads', 2344],\n",
              "       ['en:breakfast-cereals', 883],\n",
              "       ['en:breakfasts', 2888],\n",
              "       ['en:butters', 282],\n",
              "       ['en:cake-mixes', 499],\n",
              "       ['en:cakes', 2472],\n",
              "       ['en:candies', 675],\n",
              "       ['en:canned-common-beans', 837],\n",
              "       ['en:canned-fishes', 646],\n",
              "       ['en:canned-foods', 4687],\n",
              "       ['en:canned-fruits', 657],\n",
              "       ['en:canned-legumes', 967],\n",
              "       ['en:canned-meals', 822],\n",
              "       ['en:canned-plant-based-foods', 2823],\n",
              "       ['en:canned-soups', 809],\n",
              "       ['en:canned-tunas', 512],\n",
              "       ['en:canned-vegetables', 1247],\n",
              "       ['en:carbonated-drinks', 2805],\n",
              "       ['en:cereal-bars', 210],\n",
              "       ['en:cereal-flakes', 230],\n",
              "       ['en:cereal-grains', 1013],\n",
              "       ['en:cereals-and-potatoes', 8564],\n",
              "       ['en:cereals-and-their-products', 5685],\n",
              "       ['en:cheddar-cheese', 397],\n",
              "       ['en:cheeses', 4167],\n",
              "       ['en:cheeses-from-england', 437],\n",
              "       ['en:cheeses-from-the-united-kingdom', 449],\n",
              "       ['en:chickens', 440],\n",
              "       ['en:chips-and-fries', 977],\n",
              "       ['en:chocolate-bars', 251],\n",
              "       ['en:chocolate-biscuits', 221],\n",
              "       ['en:chocolate-candies', 2211],\n",
              "       ['en:chocolates', 928],\n",
              "       ['en:cocoa-and-its-products', 3040],\n",
              "       ['en:coffees', 364],\n",
              "       ['en:colas', 343],\n",
              "       ['en:common-beans', 589],\n",
              "       ['en:condiments', 3492],\n",
              "       ['en:confectioneries', 5708],\n",
              "       ['en:cooking-helpers', 1013],\n",
              "       ['en:corn-chips', 360],\n",
              "       ['en:cow-cheeses', 534],\n",
              "       ['en:crackers', 381],\n",
              "       ['en:creamer', 410],\n",
              "       ['en:creams', 397],\n",
              "       ['en:crisps', 927],\n",
              "       ['en:culinary-plants', 302],\n",
              "       ['en:dairies', 7921],\n",
              "       ['en:dairy-drinks', 302],\n",
              "       ['en:dairy-spread', 286],\n",
              "       ['en:dark-chocolates', 347],\n",
              "       ['en:dehydrated-beverages', 426],\n",
              "       ['en:dessert-mixes', 570],\n",
              "       ['en:desserts', 4427],\n",
              "       ['en:diet-beverages', 236],\n",
              "       ['en:diet-sodas', 220],\n",
              "       ['en:dietary-supplements', 734],\n",
              "       ['en:dips', 1151],\n",
              "       ['en:dried-fruits', 334],\n",
              "       ['en:dried-meats', 295],\n",
              "       ['en:dried-plant-based-foods', 483],\n",
              "       ['en:dried-products', 1366],\n",
              "       ['en:dried-products-to-be-rehydrated', 876],\n",
              "       ['en:eggs', 293],\n",
              "       ['en:energy-drinks', 203],\n",
              "       ['en:extra-virgin-olive-oils', 492],\n",
              "       ['en:farming-products', 1005],\n",
              "       ['en:fats', 3185],\n",
              "       ['en:fermented-foods', 5906],\n",
              "       ['en:fermented-milk-products', 5857],\n",
              "       ['en:fishes', 1110],\n",
              "       ['en:flakes', 232],\n",
              "       ['en:fresh-foods', 229],\n",
              "       ['en:fresh-plant-based-foods', 215],\n",
              "       ['en:frozen-desserts', 3648],\n",
              "       ['en:frozen-foods', 6907],\n",
              "       ['en:frozen-meats', 329],\n",
              "       ['en:frozen-plant-based-foods', 1094],\n",
              "       ['en:frozen-seafood', 327],\n",
              "       ['en:frozen-vegetables', 998],\n",
              "       ['en:fruit-and-fruit-seed-oils', 212],\n",
              "       ['en:fruit-and-vegetable-preserves', 1164],\n",
              "       ['en:fruit-based-beverages', 1204],\n",
              "       ['en:fruit-juices', 887],\n",
              "       ['en:fruits', 955],\n",
              "       ['en:fruits-and-vegetables-based-foods', 7440],\n",
              "       ['en:fruits-based-foods', 2478],\n",
              "       ['en:greek-style-yogurts', 474],\n",
              "       ['en:green-teas', 241],\n",
              "       ['en:groceries', 11300],\n",
              "       ['en:gummi-candies', 216],\n",
              "       ['en:herbal-teas', 212],\n",
              "       ['en:honeys', 710],\n",
              "       ['en:hot-beverages', 976],\n",
              "       ['en:hot-sauces', 411],\n",
              "       ['en:ice-creams', 806],\n",
              "       ['en:ice-creams-and-sorbets', 871],\n",
              "       ['en:iced-teas', 662],\n",
              "       ['en:italian-cheeses', 286],\n",
              "       ['en:jams', 348],\n",
              "       ['en:juices-and-nectars', 992],\n",
              "       ['en:ketchup', 384],\n",
              "       ['en:legume-butters', 491],\n",
              "       ['en:legume-seeds', 832],\n",
              "       ['en:legumes', 1781],\n",
              "       ['en:legumes-and-their-products', 2413],\n",
              "       ['en:long-grain-rices', 231],\n",
              "       ['en:mayonnaises', 401],\n",
              "       ['en:meals', 4921],\n",
              "       ['en:meals-with-meat', 319],\n",
              "       ['en:meat-based-products', 427],\n",
              "       ['en:meats', 4023],\n",
              "       ['en:milk-chocolates', 244],\n",
              "       ['en:milk-substitute', 895],\n",
              "       ['en:milkfat', 286],\n",
              "       ['en:milks', 1188],\n",
              "       ['en:mustards', 353],\n",
              "       ['en:noodles', 410],\n",
              "       ['en:nut-butters', 499],\n",
              "       ['en:nuts', 853],\n",
              "       ['en:nuts-and-their-products', 1544],\n",
              "       ['en:oilseed-purees', 668],\n",
              "       ['en:olive-oils', 638],\n",
              "       ['en:olive-tree-products', 950],\n",
              "       ['en:olives', 293],\n",
              "       ['en:orange-juices', 268],\n",
              "       ['en:pasta-dishes', 544],\n",
              "       ['en:pasta-sauces', 361],\n",
              "       ['en:pastas', 1381],\n",
              "       ['en:pastries', 723],\n",
              "       ['en:pastry-helpers', 564],\n",
              "       ['en:peanut-butters', 491],\n",
              "       ['en:pickles', 416],\n",
              "       ['en:pies', 255],\n",
              "       ['en:pizzas', 816],\n",
              "       ['en:pizzas-pies-and-quiches', 907],\n",
              "       ['en:plant-based-beverages', 4695],\n",
              "       ['en:plant-based-foods', 24987],\n",
              "       ['en:plant-based-foods-and-beverages', 29450],\n",
              "       ['en:plant-based-pickles', 390],\n",
              "       ['en:plant-based-spreads', 2139],\n",
              "       ['en:plant-milks', 550],\n",
              "       ['en:popcorn', 329],\n",
              "       ['en:potato-crisps', 280],\n",
              "       ['en:poultries', 683],\n",
              "       ['en:prepared-meats', 2071],\n",
              "       ['en:prepared-salads', 376],\n",
              "       ['en:prepared-vegetables', 253],\n",
              "       ['en:protein-bars', 305],\n",
              "       ['en:pulses', 814],\n",
              "       ['en:red-beans', 238],\n",
              "       ['en:red-kidney-beans', 204],\n",
              "       ['en:rices', 749],\n",
              "       ['en:salad-dressings', 305],\n",
              "       ['en:salads', 375],\n",
              "       ['en:salmons', 212],\n",
              "       ['en:salted-spreads', 309],\n",
              "       ['en:salty-snacks', 1573],\n",
              "       ['en:sandwiches', 237],\n",
              "       ['en:sauces', 9305],\n",
              "       ['en:sausages', 920],\n",
              "       ['en:seafood', 1741],\n",
              "       ['en:seeds', 2145],\n",
              "       ['en:simple-syrups', 591],\n",
              "       ['en:snacks', 20585],\n",
              "       ['en:sodas', 2650],\n",
              "       ['en:soups', 1642],\n",
              "       ['en:special-breads', 355],\n",
              "       ['en:spices', 318],\n",
              "       ['en:spreadable-fats', 352],\n",
              "       ['en:spreads', 3361],\n",
              "       ['en:sugars', 439],\n",
              "       ['en:sweet-snacks', 10303],\n",
              "       ['en:sweet-spreads', 1948],\n",
              "       ['en:sweetened-beverages', 584],\n",
              "       ['en:sweeteners', 1782],\n",
              "       ['en:syrups', 653],\n",
              "       ['en:tea-bags', 370],\n",
              "       ['en:teas', 773],\n",
              "       ['en:tomato-sauces', 686],\n",
              "       ['en:tomatoes', 684],\n",
              "       ['en:tomatoes-and-their-products', 823],\n",
              "       ['en:tunas', 543],\n",
              "       ['en:vegetable-fats', 2543],\n",
              "       ['en:vegetable-oils', 1884],\n",
              "       ['en:vegetables-based-foods', 3816],\n",
              "       ['en:vinegars', 320],\n",
              "       ['en:virgin-olive-oils', 500],\n",
              "       ['en:waters', 1106],\n",
              "       ['en:white-breads', 266],\n",
              "       ['en:wines', 273],\n",
              "       ['en:yogurts', 1542]], dtype=object)"
            ]
          },
          "metadata": {},
          "execution_count": 40
        }
      ]
    },
    {
      "cell_type": "markdown",
      "source": [
        "For training purposes, we want to make sure that there are atleast 2 examples of each combination of categories - this will explained later in more detail - this is used for the train test split.\n",
        "\n",
        "To do this, we need to make a list of combinations to drop."
      ],
      "metadata": {
        "id": "HGDJ07lkcdSH"
      }
    },
    {
      "cell_type": "code",
      "source": [
        "# This creates a list of combinations to drop.\n",
        "hierarchy_df = en_nutrition_df.groupby('categories_hierarchy').size().reset_index(name='count')\n",
        "categories_to_drop = hierarchy_df[hierarchy_df['count'] < 2]\n",
        "categories_to_drop"
      ],
      "metadata": {
        "id": "loIc-5REtTZH",
        "outputId": "6de436aa-8f31-415b-cc52-0fbf4f1d552b",
        "colab": {
          "base_uri": "https://localhost:8080/",
          "height": 423
        }
      },
      "execution_count": 41,
      "outputs": [
        {
          "output_type": "execute_result",
          "data": {
            "text/plain": [
              "                                                                                    categories_hierarchy  \\\n",
              "1                                                         [\"en:1% Low Fat Milk with Added Milk Protein\"]   \n",
              "2     [\"en:100 calories per bar. Milk Chocolate. No artificial colours\",\"en:Flavours or preservatives.\"]   \n",
              "3                                                                                       [\"en:100% Beef\"]   \n",
              "4                                                                                    [\"en:100% natural\"]   \n",
              "5                                                                                             [\"en:116\"]   \n",
              "...                                                                                                  ...   \n",
              "8281                                                                                       [\"en:Хлопья\"]   \n",
              "8282                                                                                       [\"en:Хөлдүү\"]   \n",
              "8283                                                                                          [\"en:יעכ\"]   \n",
              "8284                                                                                      [\"en:مايونيز\"]   \n",
              "8285                                                                                      [\"en:مشروبات\"]   \n",
              "\n",
              "      count  \n",
              "1         1  \n",
              "2         1  \n",
              "3         1  \n",
              "4         1  \n",
              "5         1  \n",
              "...     ...  \n",
              "8281      1  \n",
              "8282      1  \n",
              "8283      1  \n",
              "8284      1  \n",
              "8285      1  \n",
              "\n",
              "[5432 rows x 2 columns]"
            ],
            "text/html": [
              "\n",
              "  <div id=\"df-9e626203-1c9e-4166-bb62-8579ddb42fb1\">\n",
              "    <div class=\"colab-df-container\">\n",
              "      <div>\n",
              "<style scoped>\n",
              "    .dataframe tbody tr th:only-of-type {\n",
              "        vertical-align: middle;\n",
              "    }\n",
              "\n",
              "    .dataframe tbody tr th {\n",
              "        vertical-align: top;\n",
              "    }\n",
              "\n",
              "    .dataframe thead th {\n",
              "        text-align: right;\n",
              "    }\n",
              "</style>\n",
              "<table border=\"1\" class=\"dataframe\">\n",
              "  <thead>\n",
              "    <tr style=\"text-align: right;\">\n",
              "      <th></th>\n",
              "      <th>categories_hierarchy</th>\n",
              "      <th>count</th>\n",
              "    </tr>\n",
              "  </thead>\n",
              "  <tbody>\n",
              "    <tr>\n",
              "      <th>1</th>\n",
              "      <td>[\"en:1% Low Fat Milk with Added Milk Protein\"]</td>\n",
              "      <td>1</td>\n",
              "    </tr>\n",
              "    <tr>\n",
              "      <th>2</th>\n",
              "      <td>[\"en:100 calories per bar. Milk Chocolate. No artificial colours\",\"en:Flavours or preservatives.\"]</td>\n",
              "      <td>1</td>\n",
              "    </tr>\n",
              "    <tr>\n",
              "      <th>3</th>\n",
              "      <td>[\"en:100% Beef\"]</td>\n",
              "      <td>1</td>\n",
              "    </tr>\n",
              "    <tr>\n",
              "      <th>4</th>\n",
              "      <td>[\"en:100% natural\"]</td>\n",
              "      <td>1</td>\n",
              "    </tr>\n",
              "    <tr>\n",
              "      <th>5</th>\n",
              "      <td>[\"en:116\"]</td>\n",
              "      <td>1</td>\n",
              "    </tr>\n",
              "    <tr>\n",
              "      <th>...</th>\n",
              "      <td>...</td>\n",
              "      <td>...</td>\n",
              "    </tr>\n",
              "    <tr>\n",
              "      <th>8281</th>\n",
              "      <td>[\"en:Хлопья\"]</td>\n",
              "      <td>1</td>\n",
              "    </tr>\n",
              "    <tr>\n",
              "      <th>8282</th>\n",
              "      <td>[\"en:Хөлдүү\"]</td>\n",
              "      <td>1</td>\n",
              "    </tr>\n",
              "    <tr>\n",
              "      <th>8283</th>\n",
              "      <td>[\"en:יעכ\"]</td>\n",
              "      <td>1</td>\n",
              "    </tr>\n",
              "    <tr>\n",
              "      <th>8284</th>\n",
              "      <td>[\"en:مايونيز\"]</td>\n",
              "      <td>1</td>\n",
              "    </tr>\n",
              "    <tr>\n",
              "      <th>8285</th>\n",
              "      <td>[\"en:مشروبات\"]</td>\n",
              "      <td>1</td>\n",
              "    </tr>\n",
              "  </tbody>\n",
              "</table>\n",
              "<p>5432 rows × 2 columns</p>\n",
              "</div>\n",
              "      <button class=\"colab-df-convert\" onclick=\"convertToInteractive('df-9e626203-1c9e-4166-bb62-8579ddb42fb1')\"\n",
              "              title=\"Convert this dataframe to an interactive table.\"\n",
              "              style=\"display:none;\">\n",
              "        \n",
              "  <svg xmlns=\"http://www.w3.org/2000/svg\" height=\"24px\"viewBox=\"0 0 24 24\"\n",
              "       width=\"24px\">\n",
              "    <path d=\"M0 0h24v24H0V0z\" fill=\"none\"/>\n",
              "    <path d=\"M18.56 5.44l.94 2.06.94-2.06 2.06-.94-2.06-.94-.94-2.06-.94 2.06-2.06.94zm-11 1L8.5 8.5l.94-2.06 2.06-.94-2.06-.94L8.5 2.5l-.94 2.06-2.06.94zm10 10l.94 2.06.94-2.06 2.06-.94-2.06-.94-.94-2.06-.94 2.06-2.06.94z\"/><path d=\"M17.41 7.96l-1.37-1.37c-.4-.4-.92-.59-1.43-.59-.52 0-1.04.2-1.43.59L10.3 9.45l-7.72 7.72c-.78.78-.78 2.05 0 2.83L4 21.41c.39.39.9.59 1.41.59.51 0 1.02-.2 1.41-.59l7.78-7.78 2.81-2.81c.8-.78.8-2.07 0-2.86zM5.41 20L4 18.59l7.72-7.72 1.47 1.35L5.41 20z\"/>\n",
              "  </svg>\n",
              "      </button>\n",
              "      \n",
              "  <style>\n",
              "    .colab-df-container {\n",
              "      display:flex;\n",
              "      flex-wrap:wrap;\n",
              "      gap: 12px;\n",
              "    }\n",
              "\n",
              "    .colab-df-convert {\n",
              "      background-color: #E8F0FE;\n",
              "      border: none;\n",
              "      border-radius: 50%;\n",
              "      cursor: pointer;\n",
              "      display: none;\n",
              "      fill: #1967D2;\n",
              "      height: 32px;\n",
              "      padding: 0 0 0 0;\n",
              "      width: 32px;\n",
              "    }\n",
              "\n",
              "    .colab-df-convert:hover {\n",
              "      background-color: #E2EBFA;\n",
              "      box-shadow: 0px 1px 2px rgba(60, 64, 67, 0.3), 0px 1px 3px 1px rgba(60, 64, 67, 0.15);\n",
              "      fill: #174EA6;\n",
              "    }\n",
              "\n",
              "    [theme=dark] .colab-df-convert {\n",
              "      background-color: #3B4455;\n",
              "      fill: #D2E3FC;\n",
              "    }\n",
              "\n",
              "    [theme=dark] .colab-df-convert:hover {\n",
              "      background-color: #434B5C;\n",
              "      box-shadow: 0px 1px 3px 1px rgba(0, 0, 0, 0.15);\n",
              "      filter: drop-shadow(0px 1px 2px rgba(0, 0, 0, 0.3));\n",
              "      fill: #FFFFFF;\n",
              "    }\n",
              "  </style>\n",
              "\n",
              "      <script>\n",
              "        const buttonEl =\n",
              "          document.querySelector('#df-9e626203-1c9e-4166-bb62-8579ddb42fb1 button.colab-df-convert');\n",
              "        buttonEl.style.display =\n",
              "          google.colab.kernel.accessAllowed ? 'block' : 'none';\n",
              "\n",
              "        async function convertToInteractive(key) {\n",
              "          const element = document.querySelector('#df-9e626203-1c9e-4166-bb62-8579ddb42fb1');\n",
              "          const dataTable =\n",
              "            await google.colab.kernel.invokeFunction('convertToInteractive',\n",
              "                                                     [key], {});\n",
              "          if (!dataTable) return;\n",
              "\n",
              "          const docLinkHtml = 'Like what you see? Visit the ' +\n",
              "            '<a target=\"_blank\" href=https://colab.research.google.com/notebooks/data_table.ipynb>data table notebook</a>'\n",
              "            + ' to learn more about interactive tables.';\n",
              "          element.innerHTML = '';\n",
              "          dataTable['output_type'] = 'display_data';\n",
              "          await google.colab.output.renderOutput(dataTable, element);\n",
              "          const docLink = document.createElement('div');\n",
              "          docLink.innerHTML = docLinkHtml;\n",
              "          element.appendChild(docLink);\n",
              "        }\n",
              "      </script>\n",
              "    </div>\n",
              "  </div>\n",
              "  "
            ]
          },
          "metadata": {},
          "execution_count": 41
        }
      ]
    },
    {
      "cell_type": "markdown",
      "source": [
        "Finally, we can apply the `categories_to_use` and `categories_to_drop` to filter out any unwanted data, and again remove any rows that have no categories, leaving us with a labelled dataset ready for machine learning!"
      ],
      "metadata": {
        "id": "4yYcPPZTdh03"
      }
    },
    {
      "cell_type": "code",
      "source": [
        "en_nutrition_df['train_categories'] = en_nutrition_df['categories_list'].apply(lambda categories: [c for c in categories if c in categories_to_use['category'].values])\n",
        "label_filter = (\n",
        "    en_nutrition_df['train_categories'].apply(lambda x: len(x) > 0)\n",
        "    ) & (~en_nutrition_df['categories_hierarchy'].isin(categories_to_drop['categories_hierarchy']))\n",
        "labelled_nutrition_df = en_nutrition_df[label_filter]\n",
        "len(labelled_nutrition_df)"
      ],
      "metadata": {
        "id": "94HdViDBpgZy",
        "outputId": "2fabbe09-0f3b-4a59-d9bf-79b3a36486e9",
        "colab": {
          "base_uri": "https://localhost:8080/"
        }
      },
      "execution_count": 42,
      "outputs": [
        {
          "output_type": "execute_result",
          "data": {
            "text/plain": [
              "95304"
            ]
          },
          "metadata": {},
          "execution_count": 42
        }
      ]
    },
    {
      "cell_type": "markdown",
      "source": [
        "###Building the model\n",
        "\n",
        "Now we have our data, we can use it to build and train a model. The design we are going to use generally follows [this tutorial.](https://keras.io/examples/nlp/multi_label_classification/). Please refer to the tutorial if you require more explanation on concepts - we will largely focus on using this design to get results \n",
        "\n",
        "The imports below largely come from [tensorflow](https://www.tensorflow.org/) and [scikit-learn](https://scikit-learn.org/), two common machine learning libraries."
      ],
      "metadata": {
        "id": "gVuWJMOJeD7V"
      }
    },
    {
      "cell_type": "code",
      "source": [
        "from tensorflow.keras import layers\n",
        "from tensorflow import keras\n",
        "import tensorflow as tf\n",
        "\n",
        "from sklearn.model_selection import train_test_split\n",
        "from ast import literal_eval\n",
        "import numpy as np"
      ],
      "metadata": {
        "id": "19Oi4T31iCB0"
      },
      "execution_count": 43,
      "outputs": []
    },
    {
      "cell_type": "markdown",
      "source": [
        "####Splitting the data\n",
        "\n",
        "The first task we need to do is split the data into a training dataset and test dataset.\n",
        "\n",
        "The training dataset will be used by the model for learning, whilst the test dataset will be used to see how well the model is performing.\n",
        "\n",
        "This is the reason why we needed atleast 2 examples of each category combination, so we can have atleast one in the training set, and one in the test set, to make it a fair test."
      ],
      "metadata": {
        "id": "kUYet7iOk6xR"
      }
    },
    {
      "cell_type": "code",
      "source": [
        "# this means 90% of the data will be used for training, and 10% of the data will be used for testing\n",
        "test_split = 0.1\n",
        "\n",
        "# Initial train and test split.\n",
        "train_df, test_df = train_test_split(\n",
        "    labelled_nutrition_df,\n",
        "    test_size=test_split,\n",
        "    stratify=labelled_nutrition_df[\"categories_hierarchy\"].values,\n",
        ")\n",
        "\n",
        "# Splitting the test set further into validation\n",
        "# and new test sets.\n",
        "val_df = test_df.sample(frac=0.5)\n",
        "test_df.drop(val_df.index, inplace=True)\n",
        "\n",
        "print(f\"Number of rows in training set: {len(train_df)}\")\n",
        "print(f\"Number of rows in validation set: {len(val_df)}\")\n",
        "print(f\"Number of rows in test set: {len(test_df)}\")"
      ],
      "metadata": {
        "id": "4txfxrdihwFa",
        "outputId": "a8a56fcf-2973-4674-97c4-8d0448d769e0",
        "colab": {
          "base_uri": "https://localhost:8080/"
        }
      },
      "execution_count": 44,
      "outputs": [
        {
          "output_type": "stream",
          "name": "stdout",
          "text": [
            "Number of rows in training set: 85773\n",
            "Number of rows in validation set: 4766\n",
            "Number of rows in test set: 4765\n"
          ]
        }
      ]
    },
    {
      "cell_type": "markdown",
      "source": [
        "####String Preprocessing\n",
        "With Tensorflow, and deep learning models in general, all the data going into the model needs to be represented as numbers, or vectors/arrays of numbers.\n",
        "\n",
        "The following cell provides functionality to convert the **product name** and **categories** to a number representation."
      ],
      "metadata": {
        "id": "KYPNr_MAFkrD"
      }
    },
    {
      "cell_type": "code",
      "source": [
        "terms = tf.ragged.constant(categories_to_use['category'].values)\n",
        "lookup = tf.keras.layers.StringLookup(output_mode=\"multi_hot\")\n",
        "lookup.adapt(terms)\n",
        "vocab = lookup.get_vocabulary()\n",
        "\n",
        "\n",
        "def invert_multi_hot(encoded_labels):\n",
        "    \"\"\"Reverse a single multi-hot encoded label to a tuple of vocab terms.\"\"\"\n",
        "    hot_indices = np.argwhere(encoded_labels == 1.0)[..., 0]\n",
        "    return np.take(vocab, hot_indices)\n",
        "\n",
        "max_seqlen = 20\n",
        "batch_size = 128\n",
        "padding_token = \"<pad>\"\n",
        "auto = tf.data.AUTOTUNE\n",
        "\n",
        "\n",
        "def make_dataset(dataframe, is_train=True):\n",
        "    labels = tf.ragged.constant(dataframe[\"train_categories\"].values)\n",
        "    label_binarized = lookup(labels).numpy()\n",
        "    dataset = tf.data.Dataset.from_tensor_slices(\n",
        "        (dataframe[\"product_name_lower\"].values, label_binarized)\n",
        "    )\n",
        "    dataset = dataset.shuffle(batch_size * 10) if is_train else dataset\n",
        "    return dataset.batch(batch_size)\n",
        "\n",
        "train_dataset = make_dataset(train_df, is_train=True)\n",
        "validation_dataset = make_dataset(val_df, is_train=False)\n",
        "test_dataset = make_dataset(test_df, is_train=False)\n",
        "\n",
        "vocabulary = set()\n",
        "train_df[\"product_name_lower\"].str.lower().str.split().apply(vocabulary.update)\n",
        "vocabulary_size = len(vocabulary)\n",
        "\n",
        "text_vectorizer = layers.TextVectorization(\n",
        "    max_tokens=vocabulary_size, ngrams=3, output_mode=\"tf_idf\"\n",
        ")\n",
        "\n",
        "# `TextVectorization` layer needs to be adapted as per the vocabulary from our\n",
        "# training set.\n",
        "with tf.device(\"/CPU:0\"):\n",
        "    text_vectorizer.adapt(train_dataset.map(lambda text, label: text))\n",
        "\n",
        "train_dataset = train_dataset.map(\n",
        "    lambda text, label: (text_vectorizer(text), label), num_parallel_calls=auto\n",
        ").prefetch(auto)\n",
        "validation_dataset = validation_dataset.map(\n",
        "    lambda text, label: (text_vectorizer(text), label), num_parallel_calls=auto\n",
        ").prefetch(auto)\n",
        "test_dataset = test_dataset.map(\n",
        "    lambda text, label: (text_vectorizer(text), label), num_parallel_calls=auto\n",
        ").prefetch(auto)"
      ],
      "metadata": {
        "id": "JkOAC-t-sZg4"
      },
      "execution_count": 45,
      "outputs": []
    },
    {
      "cell_type": "markdown",
      "source": [
        "This next function returns a model that we can feed data to, and train."
      ],
      "metadata": {
        "id": "QYu9tkyIIa0c"
      }
    },
    {
      "cell_type": "code",
      "source": [
        "def make_model():\n",
        "    shallow_mlp_model = keras.Sequential(\n",
        "        [\n",
        "            layers.Dense(1024, activation=\"relu\"),\n",
        "            layers.Dropout(0.3),\n",
        "            layers.Dense(512, activation=\"relu\"),\n",
        "            layers.Dropout(0.3),\n",
        "            layers.Dense(lookup.vocabulary_size(), activation=\"sigmoid\"),\n",
        "        ]\n",
        "    )\n",
        "    return shallow_mlp_model"
      ],
      "metadata": {
        "id": "autpRegGulO5"
      },
      "execution_count": 46,
      "outputs": []
    },
    {
      "cell_type": "markdown",
      "source": [
        "Finally, we can train the model, using `model.fit`, to learn the categories from the product names.\n",
        "\n",
        "The `top_k_categorical_accuracy` metric gives a rough idea of how accurate the model is at predicting the right categories."
      ],
      "metadata": {
        "id": "eGogWXpHIqnG"
      }
    },
    {
      "cell_type": "code",
      "source": [
        "epochs = 5\n",
        "\n",
        "shallow_mlp_model = make_model()\n",
        "shallow_mlp_model.compile(\n",
        "    loss=\"binary_crossentropy\", optimizer=\"adam\", metrics=[\"top_k_categorical_accuracy\"]\n",
        ")\n",
        "\n",
        "history = shallow_mlp_model.fit(\n",
        "    train_dataset, validation_data=validation_dataset, epochs=epochs\n",
        ")\n",
        "\n",
        "\n",
        "def plot_result(item):\n",
        "    plt.plot(history.history[item], label=item)\n",
        "    plt.plot(history.history[\"val_\" + item], label=\"val_\" + item)\n",
        "    plt.xlabel(\"Epochs\")\n",
        "    plt.ylabel(item)\n",
        "    plt.title(\"Train and Validation {} Over Epochs\".format(item), fontsize=14)\n",
        "    plt.legend()\n",
        "    plt.grid()\n",
        "    plt.show()\n",
        "\n",
        "\n",
        "plot_result(\"loss\")\n",
        "plot_result(\"top_k_categorical_accuracy\")"
      ],
      "metadata": {
        "id": "gu0q6kMgurqk",
        "outputId": "62d53f26-8cca-49a6-8cb0-7c3e5fe944e7",
        "colab": {
          "base_uri": "https://localhost:8080/",
          "height": 513
        }
      },
      "execution_count": 47,
      "outputs": [
        {
          "output_type": "stream",
          "name": "stdout",
          "text": [
            "Epoch 1/5\n",
            "671/671 [==============================] - 136s 201ms/step - loss: 0.0380 - top_k_categorical_accuracy: 0.7564 - val_loss: 0.0169 - val_top_k_categorical_accuracy: 0.8961\n",
            "Epoch 2/5\n",
            "671/671 [==============================] - 138s 205ms/step - loss: 0.0155 - top_k_categorical_accuracy: 0.8908 - val_loss: 0.0162 - val_top_k_categorical_accuracy: 0.9050\n",
            "Epoch 3/5\n",
            "454/671 [===================>..........] - ETA: 44s - loss: 0.0134 - top_k_categorical_accuracy: 0.9039"
          ]
        },
        {
          "output_type": "error",
          "ename": "KeyboardInterrupt",
          "evalue": "ignored",
          "traceback": [
            "\u001b[0;31m---------------------------------------------------------------------------\u001b[0m",
            "\u001b[0;31mKeyboardInterrupt\u001b[0m                         Traceback (most recent call last)",
            "\u001b[0;32m<ipython-input-47-f3430ebeeae5>\u001b[0m in \u001b[0;36m<module>\u001b[0;34m\u001b[0m\n\u001b[1;32m      7\u001b[0m \u001b[0;34m\u001b[0m\u001b[0m\n\u001b[1;32m      8\u001b[0m history = shallow_mlp_model.fit(\n\u001b[0;32m----> 9\u001b[0;31m     \u001b[0mtrain_dataset\u001b[0m\u001b[0;34m,\u001b[0m \u001b[0mvalidation_data\u001b[0m\u001b[0;34m=\u001b[0m\u001b[0mvalidation_dataset\u001b[0m\u001b[0;34m,\u001b[0m \u001b[0mepochs\u001b[0m\u001b[0;34m=\u001b[0m\u001b[0mepochs\u001b[0m\u001b[0;34m\u001b[0m\u001b[0;34m\u001b[0m\u001b[0m\n\u001b[0m\u001b[1;32m     10\u001b[0m )\n\u001b[1;32m     11\u001b[0m \u001b[0;34m\u001b[0m\u001b[0m\n",
            "\u001b[0;32m/usr/local/lib/python3.7/dist-packages/keras/utils/traceback_utils.py\u001b[0m in \u001b[0;36merror_handler\u001b[0;34m(*args, **kwargs)\u001b[0m\n\u001b[1;32m     62\u001b[0m     \u001b[0mfiltered_tb\u001b[0m \u001b[0;34m=\u001b[0m \u001b[0;32mNone\u001b[0m\u001b[0;34m\u001b[0m\u001b[0;34m\u001b[0m\u001b[0m\n\u001b[1;32m     63\u001b[0m     \u001b[0;32mtry\u001b[0m\u001b[0;34m:\u001b[0m\u001b[0;34m\u001b[0m\u001b[0;34m\u001b[0m\u001b[0m\n\u001b[0;32m---> 64\u001b[0;31m       \u001b[0;32mreturn\u001b[0m \u001b[0mfn\u001b[0m\u001b[0;34m(\u001b[0m\u001b[0;34m*\u001b[0m\u001b[0margs\u001b[0m\u001b[0;34m,\u001b[0m \u001b[0;34m**\u001b[0m\u001b[0mkwargs\u001b[0m\u001b[0;34m)\u001b[0m\u001b[0;34m\u001b[0m\u001b[0;34m\u001b[0m\u001b[0m\n\u001b[0m\u001b[1;32m     65\u001b[0m     \u001b[0;32mexcept\u001b[0m \u001b[0mException\u001b[0m \u001b[0;32mas\u001b[0m \u001b[0me\u001b[0m\u001b[0;34m:\u001b[0m  \u001b[0;31m# pylint: disable=broad-except\u001b[0m\u001b[0;34m\u001b[0m\u001b[0;34m\u001b[0m\u001b[0m\n\u001b[1;32m     66\u001b[0m       \u001b[0mfiltered_tb\u001b[0m \u001b[0;34m=\u001b[0m \u001b[0m_process_traceback_frames\u001b[0m\u001b[0;34m(\u001b[0m\u001b[0me\u001b[0m\u001b[0;34m.\u001b[0m\u001b[0m__traceback__\u001b[0m\u001b[0;34m)\u001b[0m\u001b[0;34m\u001b[0m\u001b[0;34m\u001b[0m\u001b[0m\n",
            "\u001b[0;32m/usr/local/lib/python3.7/dist-packages/keras/engine/training.py\u001b[0m in \u001b[0;36mfit\u001b[0;34m(self, x, y, batch_size, epochs, verbose, callbacks, validation_split, validation_data, shuffle, class_weight, sample_weight, initial_epoch, steps_per_epoch, validation_steps, validation_batch_size, validation_freq, max_queue_size, workers, use_multiprocessing)\u001b[0m\n\u001b[1;32m   1407\u001b[0m                 _r=1):\n\u001b[1;32m   1408\u001b[0m               \u001b[0mcallbacks\u001b[0m\u001b[0;34m.\u001b[0m\u001b[0mon_train_batch_begin\u001b[0m\u001b[0;34m(\u001b[0m\u001b[0mstep\u001b[0m\u001b[0;34m)\u001b[0m\u001b[0;34m\u001b[0m\u001b[0;34m\u001b[0m\u001b[0m\n\u001b[0;32m-> 1409\u001b[0;31m               \u001b[0mtmp_logs\u001b[0m \u001b[0;34m=\u001b[0m \u001b[0mself\u001b[0m\u001b[0;34m.\u001b[0m\u001b[0mtrain_function\u001b[0m\u001b[0;34m(\u001b[0m\u001b[0miterator\u001b[0m\u001b[0;34m)\u001b[0m\u001b[0;34m\u001b[0m\u001b[0;34m\u001b[0m\u001b[0m\n\u001b[0m\u001b[1;32m   1410\u001b[0m               \u001b[0;32mif\u001b[0m \u001b[0mdata_handler\u001b[0m\u001b[0;34m.\u001b[0m\u001b[0mshould_sync\u001b[0m\u001b[0;34m:\u001b[0m\u001b[0;34m\u001b[0m\u001b[0;34m\u001b[0m\u001b[0m\n\u001b[1;32m   1411\u001b[0m                 \u001b[0mcontext\u001b[0m\u001b[0;34m.\u001b[0m\u001b[0masync_wait\u001b[0m\u001b[0;34m(\u001b[0m\u001b[0;34m)\u001b[0m\u001b[0;34m\u001b[0m\u001b[0;34m\u001b[0m\u001b[0m\n",
            "\u001b[0;32m/usr/local/lib/python3.7/dist-packages/tensorflow/python/util/traceback_utils.py\u001b[0m in \u001b[0;36merror_handler\u001b[0;34m(*args, **kwargs)\u001b[0m\n\u001b[1;32m    148\u001b[0m     \u001b[0mfiltered_tb\u001b[0m \u001b[0;34m=\u001b[0m \u001b[0;32mNone\u001b[0m\u001b[0;34m\u001b[0m\u001b[0;34m\u001b[0m\u001b[0m\n\u001b[1;32m    149\u001b[0m     \u001b[0;32mtry\u001b[0m\u001b[0;34m:\u001b[0m\u001b[0;34m\u001b[0m\u001b[0;34m\u001b[0m\u001b[0m\n\u001b[0;32m--> 150\u001b[0;31m       \u001b[0;32mreturn\u001b[0m \u001b[0mfn\u001b[0m\u001b[0;34m(\u001b[0m\u001b[0;34m*\u001b[0m\u001b[0margs\u001b[0m\u001b[0;34m,\u001b[0m \u001b[0;34m**\u001b[0m\u001b[0mkwargs\u001b[0m\u001b[0;34m)\u001b[0m\u001b[0;34m\u001b[0m\u001b[0;34m\u001b[0m\u001b[0m\n\u001b[0m\u001b[1;32m    151\u001b[0m     \u001b[0;32mexcept\u001b[0m \u001b[0mException\u001b[0m \u001b[0;32mas\u001b[0m \u001b[0me\u001b[0m\u001b[0;34m:\u001b[0m\u001b[0;34m\u001b[0m\u001b[0;34m\u001b[0m\u001b[0m\n\u001b[1;32m    152\u001b[0m       \u001b[0mfiltered_tb\u001b[0m \u001b[0;34m=\u001b[0m \u001b[0m_process_traceback_frames\u001b[0m\u001b[0;34m(\u001b[0m\u001b[0me\u001b[0m\u001b[0;34m.\u001b[0m\u001b[0m__traceback__\u001b[0m\u001b[0;34m)\u001b[0m\u001b[0;34m\u001b[0m\u001b[0;34m\u001b[0m\u001b[0m\n",
            "\u001b[0;32m/usr/local/lib/python3.7/dist-packages/tensorflow/python/eager/def_function.py\u001b[0m in \u001b[0;36m__call__\u001b[0;34m(self, *args, **kwds)\u001b[0m\n\u001b[1;32m    913\u001b[0m \u001b[0;34m\u001b[0m\u001b[0m\n\u001b[1;32m    914\u001b[0m       \u001b[0;32mwith\u001b[0m \u001b[0mOptionalXlaContext\u001b[0m\u001b[0;34m(\u001b[0m\u001b[0mself\u001b[0m\u001b[0;34m.\u001b[0m\u001b[0m_jit_compile\u001b[0m\u001b[0;34m)\u001b[0m\u001b[0;34m:\u001b[0m\u001b[0;34m\u001b[0m\u001b[0;34m\u001b[0m\u001b[0m\n\u001b[0;32m--> 915\u001b[0;31m         \u001b[0mresult\u001b[0m \u001b[0;34m=\u001b[0m \u001b[0mself\u001b[0m\u001b[0;34m.\u001b[0m\u001b[0m_call\u001b[0m\u001b[0;34m(\u001b[0m\u001b[0;34m*\u001b[0m\u001b[0margs\u001b[0m\u001b[0;34m,\u001b[0m \u001b[0;34m**\u001b[0m\u001b[0mkwds\u001b[0m\u001b[0;34m)\u001b[0m\u001b[0;34m\u001b[0m\u001b[0;34m\u001b[0m\u001b[0m\n\u001b[0m\u001b[1;32m    916\u001b[0m \u001b[0;34m\u001b[0m\u001b[0m\n\u001b[1;32m    917\u001b[0m       \u001b[0mnew_tracing_count\u001b[0m \u001b[0;34m=\u001b[0m \u001b[0mself\u001b[0m\u001b[0;34m.\u001b[0m\u001b[0mexperimental_get_tracing_count\u001b[0m\u001b[0;34m(\u001b[0m\u001b[0;34m)\u001b[0m\u001b[0;34m\u001b[0m\u001b[0;34m\u001b[0m\u001b[0m\n",
            "\u001b[0;32m/usr/local/lib/python3.7/dist-packages/tensorflow/python/eager/def_function.py\u001b[0m in \u001b[0;36m_call\u001b[0;34m(self, *args, **kwds)\u001b[0m\n\u001b[1;32m    945\u001b[0m       \u001b[0;31m# In this case we have created variables on the first call, so we run the\u001b[0m\u001b[0;34m\u001b[0m\u001b[0;34m\u001b[0m\u001b[0;34m\u001b[0m\u001b[0m\n\u001b[1;32m    946\u001b[0m       \u001b[0;31m# defunned version which is guaranteed to never create variables.\u001b[0m\u001b[0;34m\u001b[0m\u001b[0;34m\u001b[0m\u001b[0;34m\u001b[0m\u001b[0m\n\u001b[0;32m--> 947\u001b[0;31m       \u001b[0;32mreturn\u001b[0m \u001b[0mself\u001b[0m\u001b[0;34m.\u001b[0m\u001b[0m_stateless_fn\u001b[0m\u001b[0;34m(\u001b[0m\u001b[0;34m*\u001b[0m\u001b[0margs\u001b[0m\u001b[0;34m,\u001b[0m \u001b[0;34m**\u001b[0m\u001b[0mkwds\u001b[0m\u001b[0;34m)\u001b[0m  \u001b[0;31m# pylint: disable=not-callable\u001b[0m\u001b[0;34m\u001b[0m\u001b[0;34m\u001b[0m\u001b[0m\n\u001b[0m\u001b[1;32m    948\u001b[0m     \u001b[0;32melif\u001b[0m \u001b[0mself\u001b[0m\u001b[0;34m.\u001b[0m\u001b[0m_stateful_fn\u001b[0m \u001b[0;32mis\u001b[0m \u001b[0;32mnot\u001b[0m \u001b[0;32mNone\u001b[0m\u001b[0;34m:\u001b[0m\u001b[0;34m\u001b[0m\u001b[0;34m\u001b[0m\u001b[0m\n\u001b[1;32m    949\u001b[0m       \u001b[0;31m# Release the lock early so that multiple threads can perform the call\u001b[0m\u001b[0;34m\u001b[0m\u001b[0;34m\u001b[0m\u001b[0;34m\u001b[0m\u001b[0m\n",
            "\u001b[0;32m/usr/local/lib/python3.7/dist-packages/tensorflow/python/eager/function.py\u001b[0m in \u001b[0;36m__call__\u001b[0;34m(self, *args, **kwargs)\u001b[0m\n\u001b[1;32m   2452\u001b[0m        filtered_flat_args) = self._maybe_define_function(args, kwargs)\n\u001b[1;32m   2453\u001b[0m     return graph_function._call_flat(\n\u001b[0;32m-> 2454\u001b[0;31m         filtered_flat_args, captured_inputs=graph_function.captured_inputs)  # pylint: disable=protected-access\n\u001b[0m\u001b[1;32m   2455\u001b[0m \u001b[0;34m\u001b[0m\u001b[0m\n\u001b[1;32m   2456\u001b[0m   \u001b[0;34m@\u001b[0m\u001b[0mproperty\u001b[0m\u001b[0;34m\u001b[0m\u001b[0;34m\u001b[0m\u001b[0m\n",
            "\u001b[0;32m/usr/local/lib/python3.7/dist-packages/tensorflow/python/eager/function.py\u001b[0m in \u001b[0;36m_call_flat\u001b[0;34m(self, args, captured_inputs, cancellation_manager)\u001b[0m\n\u001b[1;32m   1859\u001b[0m       \u001b[0;31m# No tape is watching; skip to running the function.\u001b[0m\u001b[0;34m\u001b[0m\u001b[0;34m\u001b[0m\u001b[0;34m\u001b[0m\u001b[0m\n\u001b[1;32m   1860\u001b[0m       return self._build_call_outputs(self._inference_function.call(\n\u001b[0;32m-> 1861\u001b[0;31m           ctx, args, cancellation_manager=cancellation_manager))\n\u001b[0m\u001b[1;32m   1862\u001b[0m     forward_backward = self._select_forward_and_backward_functions(\n\u001b[1;32m   1863\u001b[0m         \u001b[0margs\u001b[0m\u001b[0;34m,\u001b[0m\u001b[0;34m\u001b[0m\u001b[0;34m\u001b[0m\u001b[0m\n",
            "\u001b[0;32m/usr/local/lib/python3.7/dist-packages/tensorflow/python/eager/function.py\u001b[0m in \u001b[0;36mcall\u001b[0;34m(self, ctx, args, cancellation_manager)\u001b[0m\n\u001b[1;32m    500\u001b[0m               \u001b[0minputs\u001b[0m\u001b[0;34m=\u001b[0m\u001b[0margs\u001b[0m\u001b[0;34m,\u001b[0m\u001b[0;34m\u001b[0m\u001b[0;34m\u001b[0m\u001b[0m\n\u001b[1;32m    501\u001b[0m               \u001b[0mattrs\u001b[0m\u001b[0;34m=\u001b[0m\u001b[0mattrs\u001b[0m\u001b[0;34m,\u001b[0m\u001b[0;34m\u001b[0m\u001b[0;34m\u001b[0m\u001b[0m\n\u001b[0;32m--> 502\u001b[0;31m               ctx=ctx)\n\u001b[0m\u001b[1;32m    503\u001b[0m         \u001b[0;32melse\u001b[0m\u001b[0;34m:\u001b[0m\u001b[0;34m\u001b[0m\u001b[0;34m\u001b[0m\u001b[0m\n\u001b[1;32m    504\u001b[0m           outputs = execute.execute_with_cancellation(\n",
            "\u001b[0;32m/usr/local/lib/python3.7/dist-packages/tensorflow/python/eager/execute.py\u001b[0m in \u001b[0;36mquick_execute\u001b[0;34m(op_name, num_outputs, inputs, attrs, ctx, name)\u001b[0m\n\u001b[1;32m     53\u001b[0m     \u001b[0mctx\u001b[0m\u001b[0;34m.\u001b[0m\u001b[0mensure_initialized\u001b[0m\u001b[0;34m(\u001b[0m\u001b[0;34m)\u001b[0m\u001b[0;34m\u001b[0m\u001b[0;34m\u001b[0m\u001b[0m\n\u001b[1;32m     54\u001b[0m     tensors = pywrap_tfe.TFE_Py_Execute(ctx._handle, device_name, op_name,\n\u001b[0;32m---> 55\u001b[0;31m                                         inputs, attrs, num_outputs)\n\u001b[0m\u001b[1;32m     56\u001b[0m   \u001b[0;32mexcept\u001b[0m \u001b[0mcore\u001b[0m\u001b[0;34m.\u001b[0m\u001b[0m_NotOkStatusException\u001b[0m \u001b[0;32mas\u001b[0m \u001b[0me\u001b[0m\u001b[0;34m:\u001b[0m\u001b[0;34m\u001b[0m\u001b[0;34m\u001b[0m\u001b[0m\n\u001b[1;32m     57\u001b[0m     \u001b[0;32mif\u001b[0m \u001b[0mname\u001b[0m \u001b[0;32mis\u001b[0m \u001b[0;32mnot\u001b[0m \u001b[0;32mNone\u001b[0m\u001b[0;34m:\u001b[0m\u001b[0;34m\u001b[0m\u001b[0;34m\u001b[0m\u001b[0m\n",
            "\u001b[0;31mKeyboardInterrupt\u001b[0m: "
          ]
        }
      ]
    },
    {
      "cell_type": "markdown",
      "source": [
        "Using the test data we saved previously, we can check how accurate this model is, on data it hasn't seen before."
      ],
      "metadata": {
        "id": "AO2FN0JOJPwD"
      }
    },
    {
      "cell_type": "code",
      "source": [
        "_, categorical_acc = shallow_mlp_model.evaluate(test_dataset)\n"
      ],
      "metadata": {
        "id": "o1a9Hv-tycDY"
      },
      "execution_count": null,
      "outputs": []
    },
    {
      "cell_type": "markdown",
      "source": [
        "###Using the model\n",
        "\n",
        "Now that we have our model ready and trained, lets use it to predict the categories of all the products in the product dataframe."
      ],
      "metadata": {
        "id": "esVsnxoYJiZ0"
      }
    },
    {
      "cell_type": "code",
      "source": [
        "# Create a model for inference.\n",
        "model_for_inference = keras.Sequential([text_vectorizer, shallow_mlp_model])\n",
        "\n",
        "predicted_probabilities = model_for_inference.predict(product_df['name_lower'].values)\n",
        "\n",
        "# Perform inference.\n",
        "\n",
        "predicted_labels = []\n",
        "for i, predicted_proba in enumerate(predicted_probabilities):\n",
        "    top_5_labels = [\n",
        "        x\n",
        "        for p, x in sorted(\n",
        "            zip(predicted_proba, lookup.get_vocabulary()),\n",
        "            key=lambda pair: pair[0],\n",
        "            reverse=True,\n",
        "        ) if p > 0.8\n",
        "    ][:5]\n",
        "    if i % 1000 == 0:\n",
        "      print('processed {} predictions'.format(i))\n",
        "    predicted_labels.append(top_5_labels)\n",
        "\n",
        "product_df['predicted_labels'] = predicted_labels"
      ],
      "metadata": {
        "id": "CWRm1z7DEEzo"
      },
      "execution_count": null,
      "outputs": []
    },
    {
      "cell_type": "markdown",
      "source": [
        "Now that we have the predicted categories, lets use them to compare products! First, pick a category to use, and find the cheapest product in that category, per 100ml or 100g of product!"
      ],
      "metadata": {
        "id": "dZFZLiWgKB4a"
      }
    },
    {
      "cell_type": "code",
      "source": [
        "\n",
        "# Filter the products to pick only ones that match a category\n",
        "\n",
        "# Merge the products with the prices\n",
        "\n",
        "# Sort the prices to find the cheapest products in that category\n"
      ],
      "metadata": {
        "id": "fPO2BQ8_JS-g"
      },
      "execution_count": null,
      "outputs": []
    },
    {
      "cell_type": "markdown",
      "source": [
        "What do think of the results? Are there products in the wrong category? Why might that be?"
      ],
      "metadata": {
        "id": "WOzYwVHoKVZ6"
      }
    }
  ]
}